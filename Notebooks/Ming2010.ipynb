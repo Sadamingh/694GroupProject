{
 "cells": [
  {
   "cell_type": "markdown",
   "id": "b9248d69",
   "metadata": {},
   "source": [
    "# import packages"
   ]
  },
  {
   "cell_type": "code",
   "execution_count": 1,
   "id": "9d5c2544",
   "metadata": {},
   "outputs": [],
   "source": [
    "import pyspark\n",
    "import os\n",
    "import numpy as np\n",
    "import pandas as pd\n",
    "import matplotlib.pyplot as plt\n",
    "import chart_studio.plotly as py"
   ]
  },
  {
   "cell_type": "markdown",
   "id": "c5a28e7d",
   "metadata": {},
   "source": [
    "# Config spark envir"
   ]
  },
  {
   "cell_type": "code",
   "execution_count": 2,
   "id": "958308ad",
   "metadata": {},
   "outputs": [],
   "source": [
    "os.environ['PYSPARK_SUBMIT_ARGS'] = '--packages \"org.apache.hadoop:hadoop-aws:3.3.1\" pyspark-shell'"
   ]
  },
  {
   "cell_type": "code",
   "execution_count": 3,
   "id": "9f10a990",
   "metadata": {},
   "outputs": [
    {
     "name": "stderr",
     "output_type": "stream",
     "text": [
      "WARNING: An illegal reflective access operation has occurred\n",
      "WARNING: Illegal reflective access by org.apache.spark.unsafe.Platform (file:/Users/mac/opt/anaconda3/envs/DistributedComputing/lib/python3.9/site-packages/pyspark/jars/spark-unsafe_2.12-3.2.0.jar) to constructor java.nio.DirectByteBuffer(long,int)\n",
      "WARNING: Please consider reporting this to the maintainers of org.apache.spark.unsafe.Platform\n",
      "WARNING: Use --illegal-access=warn to enable warnings of further illegal reflective access operations\n",
      "WARNING: All illegal access operations will be denied in a future release\n"
     ]
    },
    {
     "name": "stdout",
     "output_type": "stream",
     "text": [
      ":: loading settings :: url = jar:file:/Users/mac/opt/anaconda3/envs/DistributedComputing/lib/python3.9/site-packages/pyspark/jars/ivy-2.5.0.jar!/org/apache/ivy/core/settings/ivysettings.xml\n"
     ]
    },
    {
     "name": "stderr",
     "output_type": "stream",
     "text": [
      "Ivy Default Cache set to: /Users/mac/.ivy2/cache\n",
      "The jars for the packages stored in: /Users/mac/.ivy2/jars\n",
      "org.apache.hadoop#hadoop-aws added as a dependency\n",
      ":: resolving dependencies :: org.apache.spark#spark-submit-parent-60844774-38d5-4d3b-b914-4123aede0a77;1.0\n",
      "\tconfs: [default]\n",
      "\tfound org.apache.hadoop#hadoop-aws;3.3.1 in central\n",
      "\tfound com.amazonaws#aws-java-sdk-bundle;1.11.901 in central\n",
      "\tfound org.wildfly.openssl#wildfly-openssl;1.0.7.Final in central\n",
      ":: resolution report :: resolve 184ms :: artifacts dl 6ms\n",
      "\t:: modules in use:\n",
      "\tcom.amazonaws#aws-java-sdk-bundle;1.11.901 from central in [default]\n",
      "\torg.apache.hadoop#hadoop-aws;3.3.1 from central in [default]\n",
      "\torg.wildfly.openssl#wildfly-openssl;1.0.7.Final from central in [default]\n",
      "\t---------------------------------------------------------------------\n",
      "\t|                  |            modules            ||   artifacts   |\n",
      "\t|       conf       | number| search|dwnlded|evicted|| number|dwnlded|\n",
      "\t---------------------------------------------------------------------\n",
      "\t|      default     |   3   |   0   |   0   |   0   ||   3   |   0   |\n",
      "\t---------------------------------------------------------------------\n",
      ":: retrieving :: org.apache.spark#spark-submit-parent-60844774-38d5-4d3b-b914-4123aede0a77\n",
      "\tconfs: [default]\n",
      "\t0 artifacts copied, 3 already retrieved (0kB/5ms)\n",
      "21/12/05 00:51:49 WARN NativeCodeLoader: Unable to load native-hadoop library for your platform... using builtin-java classes where applicable\n",
      "Using Spark's default log4j profile: org/apache/spark/log4j-defaults.properties\n",
      "Setting default log level to \"WARN\".\n",
      "To adjust logging level use sc.setLogLevel(newLevel). For SparkR, use setLogLevel(newLevel).\n"
     ]
    }
   ],
   "source": [
    "sc = pyspark.SparkContext.getOrCreate()"
   ]
  },
  {
   "cell_type": "code",
   "execution_count": 4,
   "id": "0f4500df",
   "metadata": {},
   "outputs": [],
   "source": [
    "hadoopConf = sc._jsc.hadoopConfiguration()\n",
    "sc._jsc.hadoopConfiguration().set(\"fs.s3.impl\", \"org.apache.hadoop.fs.s3a.S3AFileSystem\")\n",
    "sc._jsc.hadoopConfiguration().set('fs.s3a.access.key', os.environ['AWS_ACCESS_KEY_ID'])\n",
    "sc._jsc.hadoopConfiguration().set('fs.s3a.secret.key', os.environ['AWS_SECRET_ACCESS_KEY'])"
   ]
  },
  {
   "cell_type": "markdown",
   "id": "be5309c1",
   "metadata": {},
   "source": [
    "# read in data"
   ]
  },
  {
   "cell_type": "code",
   "execution_count": 5,
   "id": "005696cc",
   "metadata": {},
   "outputs": [],
   "source": [
    "# read in the whole data\n",
    "rdd = sc.textFile(\"s3://usf-msds694-openpayments/BigSets/OP_DTL_GNRL_PGYR2019_P06302021.csv\")"
   ]
  },
  {
   "cell_type": "code",
   "execution_count": 7,
   "id": "91e3abb7",
   "metadata": {},
   "outputs": [
    {
     "name": "stderr",
     "output_type": "stream",
     "text": [
      "21/12/05 00:52:01 WARN MetricsConfig: Cannot locate configuration: tried hadoop-metrics2-s3a-file-system.properties,hadoop-metrics2.properties\n",
      "                                                                                \r"
     ]
    }
   ],
   "source": [
    "# extract the header\n",
    "header = rdd.first().split(\",\")"
   ]
  },
  {
   "cell_type": "code",
   "execution_count": null,
   "id": "48ec3dc2",
   "metadata": {},
   "outputs": [],
   "source": [
    "# create a header dict that can help us find the corresponding index\n",
    "header_dict = dict()\n",
    "for i, h in enumerate(header):\n",
    "    header_dict[h] = i"
   ]
  },
  {
   "cell_type": "code",
   "execution_count": 9,
   "id": "fb19bccb",
   "metadata": {},
   "outputs": [],
   "source": [
    "# sample out tiny data for exploration\n",
    "tiny_data = rdd.sample(False, 0.00002)"
   ]
  },
  {
   "cell_type": "code",
   "execution_count": 10,
   "id": "d25bea8b",
   "metadata": {},
   "outputs": [],
   "source": [
    "# change the tiny data to list rdd\n",
    "import re\n",
    "COMMA_MATCHER = re.compile(r\",(?=(?:[^\\\"']*[\\\"'][^\\\"']*[\\\"'])*[^\\\"']*$)\")\n",
    "list_rdd = tiny_data.map(lambda x: COMMA_MATCHER.split(x))"
   ]
  },
  {
   "cell_type": "code",
   "execution_count": null,
   "id": "8a8413f1",
   "metadata": {},
   "outputs": [],
   "source": [
    "# store list_rdd in memory\n",
    "list_rdd.cache()"
   ]
  },
  {
   "cell_type": "code",
   "execution_count": 106,
   "id": "d7ca7244",
   "metadata": {},
   "outputs": [
    {
     "data": {
      "text/html": [
       "<div>\n",
       "<style scoped>\n",
       "    .dataframe tbody tr th:only-of-type {\n",
       "        vertical-align: middle;\n",
       "    }\n",
       "\n",
       "    .dataframe tbody tr th {\n",
       "        vertical-align: top;\n",
       "    }\n",
       "\n",
       "    .dataframe thead th {\n",
       "        text-align: right;\n",
       "    }\n",
       "</style>\n",
       "<table border=\"1\" class=\"dataframe\">\n",
       "  <thead>\n",
       "    <tr style=\"text-align: right;\">\n",
       "      <th></th>\n",
       "      <th>Change_Type</th>\n",
       "      <th>Covered_Recipient_Type</th>\n",
       "      <th>Teaching_Hospital_CCN</th>\n",
       "      <th>Teaching_Hospital_ID</th>\n",
       "      <th>Teaching_Hospital_Name</th>\n",
       "      <th>Physician_Profile_ID</th>\n",
       "      <th>Physician_First_Name</th>\n",
       "      <th>Physician_Middle_Name</th>\n",
       "      <th>Physician_Last_Name</th>\n",
       "      <th>Physician_Name_Suffix</th>\n",
       "      <th>...</th>\n",
       "      <th>Product_Category_or_Therapeutic_Area_4</th>\n",
       "      <th>Name_of_Drug_or_Biological_or_Device_or_Medical_Supply_4</th>\n",
       "      <th>Associated_Drug_or_Biological_NDC_4</th>\n",
       "      <th>Covered_or_Noncovered_Indicator_5</th>\n",
       "      <th>Indicate_Drug_or_Biological_or_Device_or_Medical_Supply_5</th>\n",
       "      <th>Product_Category_or_Therapeutic_Area_5</th>\n",
       "      <th>Name_of_Drug_or_Biological_or_Device_or_Medical_Supply_5</th>\n",
       "      <th>Associated_Drug_or_Biological_NDC_5</th>\n",
       "      <th>Program_Year</th>\n",
       "      <th>Payment_Publication_Date</th>\n",
       "    </tr>\n",
       "  </thead>\n",
       "  <tbody>\n",
       "    <tr>\n",
       "      <th>0</th>\n",
       "      <td>\"UNCHANGED\"</td>\n",
       "      <td>\"Covered Recipient Physician\"</td>\n",
       "      <td></td>\n",
       "      <td></td>\n",
       "      <td></td>\n",
       "      <td>\"100507\"</td>\n",
       "      <td>\"LISA\"</td>\n",
       "      <td></td>\n",
       "      <td>\"FORTMAN\"</td>\n",
       "      <td></td>\n",
       "      <td>...</td>\n",
       "      <td></td>\n",
       "      <td></td>\n",
       "      <td></td>\n",
       "      <td></td>\n",
       "      <td></td>\n",
       "      <td></td>\n",
       "      <td></td>\n",
       "      <td></td>\n",
       "      <td>\"2019\"</td>\n",
       "      <td>\"06/30/2021\"</td>\n",
       "    </tr>\n",
       "    <tr>\n",
       "      <th>1</th>\n",
       "      <td>\"UNCHANGED\"</td>\n",
       "      <td>\"Covered Recipient Physician\"</td>\n",
       "      <td></td>\n",
       "      <td></td>\n",
       "      <td></td>\n",
       "      <td>\"91839\"</td>\n",
       "      <td>\"EDWARD\"</td>\n",
       "      <td>\"B\"</td>\n",
       "      <td>\"FERRER\"</td>\n",
       "      <td></td>\n",
       "      <td>...</td>\n",
       "      <td></td>\n",
       "      <td></td>\n",
       "      <td></td>\n",
       "      <td></td>\n",
       "      <td></td>\n",
       "      <td></td>\n",
       "      <td></td>\n",
       "      <td></td>\n",
       "      <td>\"2019\"</td>\n",
       "      <td>\"06/30/2021\"</td>\n",
       "    </tr>\n",
       "    <tr>\n",
       "      <th>2</th>\n",
       "      <td>\"UNCHANGED\"</td>\n",
       "      <td>\"Covered Recipient Physician\"</td>\n",
       "      <td></td>\n",
       "      <td></td>\n",
       "      <td></td>\n",
       "      <td>\"2420242\"</td>\n",
       "      <td>\"CHARLES\"</td>\n",
       "      <td>\"T\"</td>\n",
       "      <td>\"CRELLIN\"</td>\n",
       "      <td></td>\n",
       "      <td>...</td>\n",
       "      <td></td>\n",
       "      <td></td>\n",
       "      <td></td>\n",
       "      <td></td>\n",
       "      <td></td>\n",
       "      <td></td>\n",
       "      <td></td>\n",
       "      <td></td>\n",
       "      <td>\"2019\"</td>\n",
       "      <td>\"06/30/2021\"</td>\n",
       "    </tr>\n",
       "    <tr>\n",
       "      <th>3</th>\n",
       "      <td>\"UNCHANGED\"</td>\n",
       "      <td>\"Covered Recipient Physician\"</td>\n",
       "      <td></td>\n",
       "      <td></td>\n",
       "      <td></td>\n",
       "      <td>\"129829\"</td>\n",
       "      <td>\"BRENDA\"</td>\n",
       "      <td>\"LEE\"</td>\n",
       "      <td>\"SALINAS\"</td>\n",
       "      <td></td>\n",
       "      <td>...</td>\n",
       "      <td></td>\n",
       "      <td></td>\n",
       "      <td></td>\n",
       "      <td></td>\n",
       "      <td></td>\n",
       "      <td></td>\n",
       "      <td></td>\n",
       "      <td></td>\n",
       "      <td>\"2019\"</td>\n",
       "      <td>\"06/30/2021\"</td>\n",
       "    </tr>\n",
       "    <tr>\n",
       "      <th>4</th>\n",
       "      <td>\"UNCHANGED\"</td>\n",
       "      <td>\"Covered Recipient Physician\"</td>\n",
       "      <td></td>\n",
       "      <td></td>\n",
       "      <td></td>\n",
       "      <td>\"5703828\"</td>\n",
       "      <td>\"ERIC\"</td>\n",
       "      <td>\"W\"</td>\n",
       "      <td>\"SCHWELLER\"</td>\n",
       "      <td></td>\n",
       "      <td>...</td>\n",
       "      <td></td>\n",
       "      <td></td>\n",
       "      <td></td>\n",
       "      <td></td>\n",
       "      <td></td>\n",
       "      <td></td>\n",
       "      <td></td>\n",
       "      <td></td>\n",
       "      <td>\"2019\"</td>\n",
       "      <td>\"06/30/2021\"</td>\n",
       "    </tr>\n",
       "  </tbody>\n",
       "</table>\n",
       "<p>5 rows × 75 columns</p>\n",
       "</div>"
      ],
      "text/plain": [
       "   Change_Type         Covered_Recipient_Type Teaching_Hospital_CCN  \\\n",
       "0  \"UNCHANGED\"  \"Covered Recipient Physician\"                         \n",
       "1  \"UNCHANGED\"  \"Covered Recipient Physician\"                         \n",
       "2  \"UNCHANGED\"  \"Covered Recipient Physician\"                         \n",
       "3  \"UNCHANGED\"  \"Covered Recipient Physician\"                         \n",
       "4  \"UNCHANGED\"  \"Covered Recipient Physician\"                         \n",
       "\n",
       "  Teaching_Hospital_ID Teaching_Hospital_Name Physician_Profile_ID  \\\n",
       "0                                                         \"100507\"   \n",
       "1                                                          \"91839\"   \n",
       "2                                                        \"2420242\"   \n",
       "3                                                         \"129829\"   \n",
       "4                                                        \"5703828\"   \n",
       "\n",
       "  Physician_First_Name Physician_Middle_Name Physician_Last_Name  \\\n",
       "0               \"LISA\"                                 \"FORTMAN\"   \n",
       "1             \"EDWARD\"                   \"B\"            \"FERRER\"   \n",
       "2            \"CHARLES\"                   \"T\"           \"CRELLIN\"   \n",
       "3             \"BRENDA\"                 \"LEE\"           \"SALINAS\"   \n",
       "4               \"ERIC\"                   \"W\"         \"SCHWELLER\"   \n",
       "\n",
       "  Physician_Name_Suffix  ... Product_Category_or_Therapeutic_Area_4  \\\n",
       "0                        ...                                          \n",
       "1                        ...                                          \n",
       "2                        ...                                          \n",
       "3                        ...                                          \n",
       "4                        ...                                          \n",
       "\n",
       "  Name_of_Drug_or_Biological_or_Device_or_Medical_Supply_4  \\\n",
       "0                                                            \n",
       "1                                                            \n",
       "2                                                            \n",
       "3                                                            \n",
       "4                                                            \n",
       "\n",
       "  Associated_Drug_or_Biological_NDC_4 Covered_or_Noncovered_Indicator_5  \\\n",
       "0                                                                         \n",
       "1                                                                         \n",
       "2                                                                         \n",
       "3                                                                         \n",
       "4                                                                         \n",
       "\n",
       "  Indicate_Drug_or_Biological_or_Device_or_Medical_Supply_5  \\\n",
       "0                                                             \n",
       "1                                                             \n",
       "2                                                             \n",
       "3                                                             \n",
       "4                                                             \n",
       "\n",
       "  Product_Category_or_Therapeutic_Area_5  \\\n",
       "0                                          \n",
       "1                                          \n",
       "2                                          \n",
       "3                                          \n",
       "4                                          \n",
       "\n",
       "  Name_of_Drug_or_Biological_or_Device_or_Medical_Supply_5  \\\n",
       "0                                                            \n",
       "1                                                            \n",
       "2                                                            \n",
       "3                                                            \n",
       "4                                                            \n",
       "\n",
       "  Associated_Drug_or_Biological_NDC_5 Program_Year Payment_Publication_Date  \n",
       "0                                           \"2019\"             \"06/30/2021\"  \n",
       "1                                           \"2019\"             \"06/30/2021\"  \n",
       "2                                           \"2019\"             \"06/30/2021\"  \n",
       "3                                           \"2019\"             \"06/30/2021\"  \n",
       "4                                           \"2019\"             \"06/30/2021\"  \n",
       "\n",
       "[5 rows x 75 columns]"
      ]
     },
     "execution_count": 106,
     "metadata": {},
     "output_type": "execute_result"
    }
   ],
   "source": [
    "# convert tiny data to pandas for EDA\n",
    "df = pd.DataFrame(list_rdd.collect(), columns=header)\n",
    "df.head()"
   ]
  },
  {
   "cell_type": "markdown",
   "id": "025efcc3",
   "metadata": {},
   "source": [
    "# exploration on tiny dataset"
   ]
  },
  {
   "cell_type": "code",
   "execution_count": 108,
   "id": "68a90c8a",
   "metadata": {},
   "outputs": [
    {
     "name": "stdout",
     "output_type": "stream",
     "text": [
      "Change_Type---['\"UNCHANGED\"' '\"CHANGED\"' '\"NEW\"'\n",
      " '\"UNCHANGED\",\"Covered Recipient Physician\",,,,\"1392554\",\"TARIQ\",\"S\",\"HAKKY\",,\"371 E PACES FERRY ROAD\",\"SUITE 550\",\"ATLANTA\",\"GA\",\"30305\",\"United States\",,,\"Medical Doctor\",\"Allopathic & Osteopathic Physicians|Urology\",\"GA\",,,,,\"Coloplast Corp\",\"100000011212\",\"Coloplast Corp\",\"MN\",\"United States\",104.14,\"03/20/2019\",\"1\",\"Cash or cash equivalent\",\"Travel and Lodging\",\"MINNEAPOLIS\",\"MN\",\"United States\",\"No\",\"No Third Party Payment\",,,,\"Residents and Fellows\\' SSW\"']\n",
      "Covered_Recipient_Type---['\"Covered Recipient Physician\"' '\"No\"'\n",
      " '\"Covered Recipient Teaching Hospital\"']\n",
      "Teaching_Hospital_CCN---['' '\"696961053\"' '\"010033\"']\n",
      "Teaching_Hospital_ID---['' '\"No\"' '\"8241\"']\n",
      "Teaching_Hospital_Name---['' '\"Yes\"' '\"UNIVERSITY OF ALABAMA HOSPITAL\"']\n",
      "Physician_Profile_ID---['\"100507\"' '\"91839\"' '\"2420242\"' '\"129829\"' '\"5703828\"' '\"120824\"'\n",
      " '\"639573\"' '\"39538\"' '\"964939\"' '\"329034\"' '\"1098448\"' '\"341690\"'\n",
      " '\"127664\"' '\"267724\"' '\"186473\"' '\"237063\"' '\"250115\"' '\"1233586\"'\n",
      " '\"426463\"' '\"101129\"' '\"1264404\"' '\"333411\"' '\"106240\"' '\"272724\"'\n",
      " '\"175542\"' '\"145250\"' '\"311925\"' '\"306299\"' '\"361524\"' '\"776184\"'\n",
      " '\"1173690\"' '\"1299376\"' '\"252206\"' '\"987591\"' '\"292807\"' '\"1350881\"'\n",
      " '\"1162963\"' '\"815408\"' '\"80669\"' '\"610871\"' '\"257408\"' '\"198783\"'\n",
      " '\"1091816\"' '\"91418\"' '\"353548\"' '\"429782\"' '\"1174206\"' '\"1071002\"'\n",
      " '\"230706\"' '\"339327\"' '\"1255133\"' '\"3548480\"' '\"5580618\"' '\"138721\"'\n",
      " '\"26710\"' '\"166501\"' '\"4810093\"' '\"103060\"' '\"218864\"' '\"1356936\"'\n",
      " '\"6836\"' '\"217576\"' '\"874244\"' '\"4435\"' '\"3199\"' '\"1308943\"' '\"134448\"'\n",
      " '\"2386202\"' '\"220549\"' '\"1104590\"' '\"822521\"' '\"3739601\"' '\"299537\"'\n",
      " '\"329642\"' '\"73121\"' '\"206100\"' '\"62310\"' '\"281130\"' '\"12530\"' '\"208762\"'\n",
      " '\"200043\"' '\"1401987\"' '\"51323\"' '\"89023\"' '\"23974\"' '\"89436\"' '\"107852\"'\n",
      " '\"23484\"' '\"77289\"' '\"4297\"' '\"13985\"' '\"305558\"' '\"330710\"' '\"208054\"'\n",
      " '\"332081\"' '\"23759\"' '\"333421\"' '\"42159\"' '\"589060\"' '\"42269\"' '\"139062\"'\n",
      " '\"338408\"' '\"116221\"' '\"Covered\"' '\"76335\"' '\"188741\"' '\"231013\"'\n",
      " '\"316106\"' '\"1969738\"' '\"1082546\"' '\"10880\"' '\"425177\"' '\"651487\"'\n",
      " '\"6483361\"' '\"229677\"' '\"257377\"' '\"115281\"' '\"61732\"' '\"269738\"'\n",
      " '\"997719\"' '\"313450\"' '\"920012\"' '\"1301567\"' '\"11111\"' '\"357677\"'\n",
      " '\"276571\"' '\"1007255\"' '\"113709\"' '\"29232\"' '\"199153\"' '\"229380\"'\n",
      " '\"36322\"' '\"660421\"' '\"403780\"' '\"88656\"' '\"343697\"' '\"1132056\"'\n",
      " '\"56707\"' '\"271657\"' '\"44332\"' '\"213240\"' '\"167185\"' '\"151964\"'\n",
      " '\"216906\"' '\"33792\"' '\"239821\"' '\"135408\"' '\"192560\"' '\"30790\"'\n",
      " '\"221628\"' '' '\"155873\"' '\"103795\"' '\"229195\"' '\"39137\"' '\"2781010\"'\n",
      " '\"56467\"' '\"1117651\"' '\"359548\"' '\"955857\"' '\"675635\"' '\"1244683\"'\n",
      " '\"141685\"' '\"4221706\"' '\"1170411\"' '\"60385\"' '\"35460\"' '\"310115\"'\n",
      " '\"223544\"' '\"1308476\"' '\"1312801\"' '\"60424\"' '\"337068\"' '\"137683\"'\n",
      " '\"294339\"' '\"50491\"' '\"137849\"' '\"1397196\"' '\"510729\"' '\"955188\"'\n",
      " '\"332341\"' '\"211013\"' '\"101361\"' '\"1167219\"' '\"370534\"' '\"8842\"'\n",
      " '\"76121\"']\n",
      "Physician_First_Name---['\"LISA\"' '\"EDWARD\"' '\"CHARLES\"' '\"BRENDA\"' '\"ERIC\"' '\"JENNIFER\"'\n",
      " '\"STEVEN\"' '\"THOMAS\"' '\"SMITH\"' '\"VIKAS\"' '\"DANIEL\"' '\"CARL\"' '\"JAMES\"'\n",
      " '\"RYAN\"' '\"DILIP\"' '\"ROY\"' '\"MICHAEL\"' '\"IRMA\"' '\"ANH\"' '\"ROBERT\"'\n",
      " '\"AVILIO\"' '\"ABRAM\"' '\"VICTOR\"' '\"ANNETTE\"' '\"DONALD\"' '\"MELISSA\"'\n",
      " '\"HUGO\"' '\"BABAR\"' '\"ANDREA\"' '\"CHRISTINA\"' '\"MELANY\"' '\"LUISA\"' '\"JUAN\"'\n",
      " '\"TAMAM\"' '\"TIAN\"' '\"THERESA\"' '\"ISAAC\"' '\"RICHARD\"' '\"ELLIOTT\"'\n",
      " '\"ANTHONY\"' '\"JEANNE\"' '\"MANSOOR\"' '\"TONIA\"' '\"BHAGWAN\"' '\"SONIA\"'\n",
      " '\"EILEEN\"' '\"PERRY\"' '\"PHILIP\"' '\"BRIAN\"' '\"ALEX\"' '\"ALLAN\"' '\"AMY\"'\n",
      " '\"JOHN\"' '\"Joseph\"' '\"Gregory\"' '\"Rajesh\"' '\"Vinh\"' '\"Sanjay\"' '\"Sara\"'\n",
      " '\"Kasing\"' '\"REINALDO\"' '\"FARRUKH\"' '\"ISABELLA\"' '\"BAC\"' '\"JEREMY\"'\n",
      " '\"BARBARA\"' '\"NIKETA\"' '\"SAMANTHA\"' '\"MARY BETH\"' '\"CHAKRAPOL\"'\n",
      " '\"VIKRAM\"' '\"HAO WEI\"' '\"STANLEY\"' '\"MOLLY\"' '\"SAAD\"' '\"HEMALINI\"'\n",
      " '\"CHRIS-GERALD\"' '\"DONNA\"' '\"DAVID\"' '\"SUZANNE\"' '\"REMBERTO\"' '\"FREDRIC\"'\n",
      " '\"SHEBA\"' '\"ANGELA\"' '\"KENNETH\"' '\"GEORGE\"' '\"TYSON\"' '\"JERRY\"' '\"BRYAN\"'\n",
      " '\"ANCA\"' '\"CORRIENE\"' '\"RIPUDAMAN\"' '\"ROXANNE\"' '\"Device\"' '\"CORNELIE\"'\n",
      " '\"PREETI\"' '\"OLADELE\"' '\"YUZANA\"' '\"JASON\"' '\"DELORIS\"' '\"AARON\"'\n",
      " '\"CHRISTOPHER\"' '\"VINCENT\"' '\"JOEL\"' '\"CLAUDE\"' '\"CRAIG\"' '\"JAMIE\"'\n",
      " '\"JON\"' '\"WILLIAM\"' '\"GARETH\"' '\"DIANE\"' '\"KIMBERLY\"' '\"DENISE\"'\n",
      " '\"DOLON\"' '\"GREGORY\"' '\"JUDY\"' '\"GEANICE\"' '\"SHABANA\"' '\"MAURICE\"'\n",
      " '\"DANA\"' '\"SUMANKUMAR\"' '\"ALVARO\"' '\"JAYASHREE\"' '\"ARA\"' '\"OLGA\"'\n",
      " '\"WASIQ\"' '\"RYSZARD\"' '\"ENAS\"' '\"PRITI\"' '\"MAHA\"' '\"DARIUSH\"' ''\n",
      " '\"PALLAVI\"' '\"KAVITA\"' '\"WEI\"' '\"SALAH\"' '\"LAURA\"' '\"PAUL\"' '\"JIN\"'\n",
      " '\"BARRETT\"' '\"EVAN\"' '\"STEPHANIE\"' '\"MATTHEW\"' '\"AMIR\"' '\"GLENN\"'\n",
      " '\"WHITNEY\"' '\"MARCEL\"' '\"JULIE\"' '\"KEITH\"' '\"ZADIE\"' '\"SARA\"' '\"JORGE\"'\n",
      " '\"HOWARD\"' '\"HERBERT\"' '\"ANSAAR\"' '\"HUA-YU STEVEN\"' '\"BETTY\"' '\"ADI\"']\n",
      "Physician_Middle_Name---['' '\"B\"' '\"T\"' '\"LEE\"' '\"W\"' '\"M\"' '\"L\"' '\"LANE\"' '\"MONSON\"' '\"R\"' '\"C.\"'\n",
      " '\"T.\"' '\"D\"' '\"TUAN\"' '\"E\"' '\"J\"' '\"Y\"' '\"A\"' '\"H\"' '\"FAE\"' '\"NATHAN\"'\n",
      " '\"RUTH\"' '\"EDWARD\"' '\"LAWRENCE\"' '\"NICKOLE\"' '\"Paul\"' '\"Tuong\"' '\"K\"'\n",
      " '\"Jo\"' '\"Kasing\"' '\"C\"' '\"NIZAM\"' '\"WEI\"' '\"KEITH\"' '\"P\"' '\"J.\"'\n",
      " '\"GERALD\"' '\"MARIE\"' '\"N.\"' '\"G\"' '\"V\"' '\"S\"' '\"ELIZABETH\"'\n",
      " '\"PENILE RECONSTRUCTION\"' '\"KHIN\"' '\"NADIM\"' '\"CHRISTIAN\"' '\"TODD\"'\n",
      " '\"LYNN\"' '\"YATES\"' '\"N\"' '\"ERNEST\"' '\"DAVID\"' '\"CHUN MAN\"' '\"SOO\"'\n",
      " '\"SHAW\"' '\"KERN\"' '\"SOBHY-FARAG\"' '\"LUIS\"']\n",
      "Physician_Last_Name---['\"FORTMAN\"' '\"FERRER\"' '\"CRELLIN\"' '\"SALINAS\"' '\"SCHWELLER\"' '\"CUMMINGS\"'\n",
      " '\"ANDERSON\"' '\"BERNASEK\"' '\"MEADS\"' '\"GUPTA\"' '\"WEIS\"' '\"CAPELOUTO\"'\n",
      " '\"LIN\"' '\"RIGGS\"' '\"SOLANKI\"' '\"KAPLAN\"' '\"BARRON\"' '\"IDREES\"' '\"DUONG\"'\n",
      " '\"LEVITT\"' '\"MUNOZ\"' '\"TREVINO\"' '\"SHPILBERG\"' '\"ABRIL\"' '\"SIAO\"'\n",
      " '\"GAMPONIA\"' '\"CABALLERO\"' '\"THOMPSON\"' '\"ALI\"' '\"TORDINI\"' '\"ST MICHEL\"'\n",
      " '\"RAEDY\"' '\"LOPEZ-LUCIANO\"' '\"MARTINO\"' '\"MOHAMAD\"' '\"ZHAO\"' '\"HUANG\"'\n",
      " '\"KOPPIE\"' '\"ADIELE\"' '\"NATALE\"' '\"SCHWARTZ\"' '\"CAMPBELL\"' '\"LAU\"'\n",
      " '\"ROSENTHAL\"' '\"NAINI\"' '\"RUDDOCK\"' '\"BANG\"' '\"DUGGAL\"' '\"CONTI\"' '\"ROY\"'\n",
      " '\"MILLER\"' '\"NG\"' '\"ZUSIN\"' '\"IBACH\"' '\"PECK\"' '\"WEHRLE\"' '\"KNISPEL\"'\n",
      " '\"Readling\"' '\"Macaluso\"' '\"Ramineni\"' '\"Cam\"' '\"Aggarwal\"'\n",
      " '\"Oconnell-mayernik\"' '\"Ho\"' '\"VERSON\"' '\"ASHRAF\"' '\"MARTIRE\"' '\"NGUYEN\"'\n",
      " '\"RIEDESEL\"' '\"COLDIRON\"' '\"SHAH\"' '\"HABHAB\"' '\"KRAFTY\"' '\"SRIAROON\"'\n",
      " '\"RAJAN\"' '\"ZHANG\"' '\"MORROW\"' '\"DETULLIO\"' '\"WHITE\"' '\"BITAR\"'\n",
      " '\"THAKKAR\"' '\"FERGUSON\"' '\"ROMITO\"' '\"ERB\"' '\"GRASSESCHI\"' '\"SCOTT\"'\n",
      " '\"FEIST\"' '\"BRAHIN\"' '\"JOSEPH\"' '\"SHOHO\"' '\"LICHTENSTEIN\"' '\"ZAMBETTI\"'\n",
      " '\"CARTER\"' '\"PRUITT\"' '\"MEHLHAFF\"' '\"JONES\"' '\"OCHOA\"' '\"ZINNES\"'\n",
      " '\"KURZ\"' '\"HUNDAL\"' '\"KOCH\"' '\"MARSHALL\"' '\"TITAN\"' '\"CHANDRA\"'\n",
      " '\"ADEBOGUN\"' '\"NELSON\"' '\"ZAW\"' '\"FRIESZ\"' '\"RIZQALLAH\"' '\"BAXTER\"'\n",
      " '\"DOUGHERTY\"' '\"PETERSON\"' '\"HONAN\"' '\"ABBOTT\"' '\"YARBOROUGH\"'\n",
      " '\"WILLIAMS\"' '\"ELLISON\"' '\"KOPRIVNIKAR\"' '\"TOSINO\"' '\"LONG\"'\n",
      " '\"MORRIS-STIFF\"' '\"BONACCORSI\"' '\"DAMBRA CABRY\"' '\"KENNEDY\"' '\"DAS\"'\n",
      " '\"DELORENZO\"' '\"MCVIGE\"' '\"LANE\"' '\"HOLTON\"' '\"AHMED\"' '\"GILBERT\"'\n",
      " '\"GOLDBERG\"' '\"BRAHMBHATT\"' '\"GUZMAN\"' '\"JOHN\"' '\"NAHABEDIAN\"'\n",
      " '\"SADANIANTZ\"' '\"SMIRNOVA\"' '\"ZAIDI\"' '\"ZEBRAK\"' '\"TUPPO\"'\n",
      " '\"ABDEL-KADER\"' '\"ZAFAR\"' '\"ZANDI\"' '\"FIORINA\"' '\"BURDETTE\"' '\"BEWLEY\"'\n",
      " '' '\"SHARMA\"' '\"SURTI\"' '\"CHEN\"' '\"WARNER\"' '\"ABOUBAKR\"'\n",
      " '\"RUSSO HERRERA\"' '\"VITULLI\"' '\"YOO\"' '\"JOHNSTON\"' '\"ZAHN\"' '\"BROWN\"'\n",
      " '\"BEATTIE\"' '\"RUDICK\"' '\"FREEMAN\"' '\"LIM\"' '\"KAKI\"' '\"RICH\"' '\"MCBRIDE\"'\n",
      " '\"BRADDY\"' '\"CHAVEZ\"' '\"LECHIN\"' '\"RIZKALLA\"' '\"CARPENTER\"' '\"SADEL\"'\n",
      " '\"KENKARE\"' '\"ALLEN\"' '\"CABRERA\"' '\"GLICK\"' '\"SHAO\"' '\"SINNING\"' '\"RAI\"'\n",
      " '\"LIAO\"' '\"DIAMOND\"' '\"MEHTA\"']\n",
      "Physician_Name_Suffix---['' '\"JR.\"' '\"II\"']\n",
      "Recipient_Primary_Business_Street_Address_Line1---['\"911 N ELM ST\"' '\"1301 E Broward Blvd\"' '\"221 MICHIGAN ST NE FL 4\"'\n",
      " '\"2521 E GRIFFIN PKWY\"' '\"6245 INKSTER RD\"' '\"131 MAIN ST\"'\n",
      " '\"915 EAST RANDOL MILL RD.\"' '\"13020 N TELECOM PKWY\"' '\"5515 PEACH ST\"'\n",
      " '\"4371 NARROW LANE RD\"' '\"1131 MANCHESTER AVE\"' '\"900 Towne Lake Pkwy\"'\n",
      " '\"550 Saint Charles Dr\"' '\"6675 HOLMES RD\"' '\"3555 W Wheatland Rd\"'\n",
      " '\"345 SAXONY RD\"' '\"5330 E STOP 11 RD\"' '\"135 COMMONWEALTH DR\"'\n",
      " '\"35900 BOB HOPE DRIVE\"' '\"825 OLD LANCASTER ROAD\"'\n",
      " '\"2906 WEST TAMPA BAY BLVD\"' '\"1448 COMMON ST\"' '\"8033 DIXIE HIGHWAY\"'\n",
      " '\"ARTHRITISASSOCIATES OF KINGSPORT\"' '\"2690 S WHITE RD STE 200\"'\n",
      " '\"208 MACCORKLE AVENUE SE\"' '\"1920 KIRBY PARKWAY\"'\n",
      " '\"4330 COLLETTESVILLE RD\"' '\"11119 Rockville Pike\"'\n",
      " '\"4210 W Linebaugh Ave\"' '\"13215 DOTSON RD STE 160\"' '\"245 NEAL AVE\"'\n",
      " '\"925 NE 30TH TER STE 316\"' '\"25 PEDRO MORA ACOSTA\"'\n",
      " '\"4160 JOHN R ST STE 510\"' '\"910 N GALLOWAY AVE STE 302\"'\n",
      " '\"272 CENTRE ST\"' '\"1000 3RD ST\"' '\"1834 CLAIRMONT RD\"'\n",
      " '\"1084 VINEHAVEN DR NE\"' '\"50 VASHELL WAY\"'\n",
      " '\"3225 UNIVERSITY BLVD S STE 104\"' '\"28 CHANDLER CTR\"' '\"20 E 9TH ST\"'\n",
      " '\"4020 VENOY RD\"' '\"4300 W MAIN ST\"' '\"101 E PAULK AVE\"'\n",
      " '\"10514 PARK RD\"' '\"3322 RTE 22 W\"' '\"309 S SHARON AMITY RD\"'\n",
      " '\"2520 GREEN TECH DR STE C\"' '\"317 W PUEBLO ST\"'\n",
      " '\"2540 BATCHELDER ST APT 5O\"' '\"1375 ROBERTS DR\"' '\"10600 MONTGOMERY RD\"'\n",
      " '\"312 6TH AVE STE 2\"' '\"2700 NORTH OCEAN DRIVE\"' '\"169 Riverside Dr\"'\n",
      " '\"13011 S 104th Ave Ste 100\"' '\"100 Medical Center Blvd Ste 200\"'\n",
      " '\"3291 Skypark Dr\"' '\"215 Oak Dr S Ste H\"' '\"2550 E Broadway St\"'\n",
      " '\"370 Grand Ave Ste 102\"' '\"610 19TH ST\"' '\"1000 MCKINLEY PARK DR\"'\n",
      " '\"8343 CHERRY LN\"' '\"1977 BUTLER BOULEVARD\"' '\"95 E CHAUTAUQUA ST\"'\n",
      " '\"3908 FAR WEST BOULEVARD\"' '\"330 CEDAR ST\"' '\"18101 OAKWOOD BLVD\"'\n",
      " '\"111 TONY ROW\"' '\"2 Tampa General Cir\"' '\"1301 20th St Ste 590\"'\n",
      " '\"1700 E Cesar E Chavez Ave Ste 2600\"' '\"34867 HWY 43\"' '\"901 W MAIN ST\"'\n",
      " '\"3650 JOSEPH SIEWICK DR\"' '\"11125 DUNN RD\"' '\"2015 DEAN ST\"'\n",
      " '\"220 E HARRIS\"' '\"123 BROADWAY ST\"' '\"151 HAROLD FLEMING COURT\"'\n",
      " '\"1101 26TH ST S\"' '\"2221 NOLL DR\"' '\"1121 N CENTRAL AVE\"'\n",
      " '\"2916 PALLISER CT\"' '\"2600 SW MILITARY DR\"' '\"10507 E 91ST ST\"'\n",
      " '\"2629 W HORIZON RIDGE PKWY\"' '\"4791 E PALM CANYON DR\"' '\"343 W 58TH ST\"'\n",
      " '\"4403 HARRISON BLVD\"' '\"1447 Harper St Ste 1448\"' '\"2400 HARTMAN LN\"'\n",
      " '\"1552 NORTH RD SE\"' '\"11485 TOEPPERWEIN RD\"'\n",
      " '\"4501 CONNECTICUT AVE NW APT 1011\"' '\"13218 BROOKLANE DRIVE\"'\n",
      " '\"1082 OLD CHURCHMANS RD\"' '\"411 MAXINE DR\"' '\"3 MEDICINE DR\"' ''\n",
      " '\"17 LONG AVE\"' '\"300 BAY SHORE RD\"' '\"2620 LONG PRAIRIE RD STE 100\"'\n",
      " '\"2201 RIDGEWOOD ROAD\"' '\"2545 E THOMAS RD STE 120\"' '\"84 33RD AVE S\"'\n",
      " '\"701 E MARSHALL AVE\"' '\"9195 GRANT ST\"' '\"1504 SE 28TH ST\"'\n",
      " '\"221 MICHIGAN ST NE\"' '\"9250 N 3RD ST\"' '\"2145 HIGHLAND AVENUE SOUTH\"'\n",
      " '\"200 PATEWOOD DR\"' '\"360 SUNSET AVE\"' '\"4660 KENMORE AVE\"'\n",
      " '\"3800 RESERVOIR RD NW\"' '\"5655 HUDSON DR\"' '\"215 E 1ST ST\"'\n",
      " '\"9500 EUCLID AVENUE\"' '\"1903 MORGANTOWN ROAD\"'\n",
      " '\"110 MARTER AVE STE 102\"' '\"3614 D J DEWEY GRAY CIRCLE\"'\n",
      " '\"6560 FANNIN ST\"' '\"2001 ANDERSON FERRY RD\"' '\"3980 SHERIDAN DR\"'\n",
      " '\"333 WEST HAMPDEN AVE,\"' '\"1648 GENTRY MEMORIAL HWY\"'\n",
      " '\"9315 TELEGRAPH ROAD\"' '\"80 NEWNAN STATION DRIVE, SUITE A\"'\n",
      " '\"224 CHIMNEY CORNER LN\"' '\"640 E 233RD ST\"' '\"1400 DECATUR ST NW\"'\n",
      " '\"2000 16TH AVENUE\"' '\"ONE RANDALL SQUARE\"' '\"1600 WALLACE BLVD\"'\n",
      " '\"800 W ARBROOK BLVD\"' '\"12000 KENNEDY LN\"' '\"1083 GOFFLE ROAD\"'\n",
      " '\"823 SW MULVANE ST\"' '\"8680 HOSPITAL WAY\"' '\"330 N EISENHOWER DR\"'\n",
      " '\"13851 E 14TTH ST\"' '\"109 TECHNOLOGY DRIVE\"' '\"25 MICHIGAN ST NE\"'\n",
      " '\"13100 MAGISTERIAL DR STE 100\"' '\"619 19TH ST S\"' '\"1002 HOSPITAL DR\"'\n",
      " '\"475 WEST BADILLO STREET\"' '\"139 CENTRE ST\"'\n",
      " '\"1701 W SAINT MARYS RD STE 100\"' '\"641 HILL RD N STE A\"'\n",
      " '\"405 W GREENLAWN AVE\"' '\"3632 W PACKWOOD AVE\"' '\"330 A1A N\"'\n",
      " '\"DUKE UNIVERSITY MEDICAL CENTER\"' '\"4580 BLUEBONNET BLVD\"'\n",
      " '\"9003 E SHEA BLVD\"' '\"3928 WASHINGTON RD\"' '\"17 DAVIS BLVD STE 308\"'\n",
      " '\"2139 AUBURN AVE\"' '\"1100 E Michigan Ave Ste 302\"' '\"3400 SPRUCE ST\"'\n",
      " '\"4160 JOHN R ST\"' '\"15 CORPORATE DR\"' '\"800 2ND AVE FL 9\"'\n",
      " '\"2153 VALLEYGATE DR STE 102\"' '\"50 PASSAIC ST\"' '\"1721 BIRMINGHAM DR\"'\n",
      " '\"25815 BARTON RD STE 102\"' '\"3451 GOODMAN RD E\"' '\"715 CHERRY LN\"'\n",
      " '\"5 PEQUOT PARK RD\"' '\"725 BUCKLES CT N\"' '\"25098 OLYMPIA AVE\"'\n",
      " '\"21001 Sycolin Rd Ste 360\"' '\"329 BELLEVILLE AVE\"'\n",
      " '\"4447 STATE ROUTE 159\"' '\"1 MEDICAL CENTER DR\"' '\"345 Middlewood Rd\"'\n",
      " '\"2 IVY LANE\"' '\"330 COMMUNITY DR\"' '\"9500 EUCLID AVE\"']\n",
      "Recipient_Primary_Business_Street_Address_Line2---['\"SUITE 301\"' '' '\"STE A\"' '\"SUITE 202\"' '\"SUITE 100\"' '\"Ste 200\"'\n",
      " '\"Ste 101\"' '\"SUITE 105\"' '\"5330 EAST STOP 11 ROAD\"' '\"SUITE 275\"'\n",
      " '\"SUITE 340\"' '\"THREE SHERIDAN SQ\"' '\"SUITE 200\"' '\"PO DRAWER 9\"'\n",
      " '\"Ste 100\"' '\"URB SAN LORENZO\"' '\"STE 400\"' '\"CREDENTIALING DEPARTMENT\"'\n",
      " '\"SUITE 102\"' '\"SUITE A\"' '\"BLDG 5 STE 511\"' '\"SUITE 204\"' '\"STE 204\"'\n",
      " '\"UNIT 701A\"' '\"--\"' '\"LMP 2073\"' '\"PO BOX 337\"' '\"4TH FLOOR\"'\n",
      " '\"SUITE  7\"' '\"2835\"' '\"SUITE 101\"' '\"STE 1\"' '\"SUITES 200 & 201\"'\n",
      " '\"SUITE 400\"' '\"SUITE 120\"' '\"STE 2015\"' '\"SUITE B200\"' '\"SUITE #305\"'\n",
      " '\"SUITE 130 B\"' '\"CLEVELAND CLINIC FOUNDATION\"' '\"SUITE 1532\"'\n",
      " '\"DENT NEUROLOGIC INSTITUTE\"' '\"SUITE 310\"'\n",
      " '\"LINCOLN BEHAVIORAL SERVICES\"' '\"SUITE 1002\"' '\"SUITE 305\"' '\"100\"'\n",
      " '\"BLDG 100\"' '\"SUITE 6100\"' '\"BLDG-B\"' '\"STE 501\"' '\"SUITE 322\"'\n",
      " '\"DUMC BOX 3443\"' '\"STE B\"' '\"SUITE 230\"' '\"SUITE 510\"' '\"SUITE 2-1\"'\n",
      " '\"STE 115\"' '\"FL 2\"' '\"STE 301\"' '\"STE 100\"' '\"UNIT 400\"' '\"STE 6\"'\n",
      " '\"# C25\"']\n",
      "Recipient_City---['\"HINSDALE\"' '\"Fort Lauderdale\"' '\"GRAND RAPIDS\"' '\"MISSION\"'\n",
      " '\"GARDEN CITY\"' '\"ONEIDA\"' '\"ARLINGTON\"' '\"TEMPLE TERRACE\"' '\"ERIE\"'\n",
      " '\"MONTGOMERY\"' '\"MIDDLETOWN\"' '\"Woodstock\"' '\"Thousand Oaks\"'\n",
      " '\"KANSAS CITY\"' '\"Dallas\"' '\"ENCINITAS\"' '\"INDIANAPOLIS\"' '\"GREENVILLE\"'\n",
      " '\"RANCHO MIRAGE\"' '\"BRYN MAWR\"' '\"TAMPA\"' '\"NEW BRAUNFELS\"'\n",
      " '\"LOUISVILLE\"' '\"KINGSPORT\"' '\"SAN JOSE\"' '\"CHARLESTON\"' '\"GERMANTOWN\"'\n",
      " '\"COLLETTESVILLE\"' '\"Rockville\"' '\"Tampa\"' '\"HOUSTON\"' '\"MOUNT GILEAD\"'\n",
      " '\"HOMESTEAD\"' '\"ARECIBO\"' '\"DETROIT\"' '\"MESQUITE\"' '\"NEWTON\"'\n",
      " '\"TILLAMOOK\"' '\"DECATUR\"' '\"CONCORD\"' '\"ORINDA\"' '\"JACKSONVILLE\"'\n",
      " '\"HARTWELL\"' '\"NEW YORK\"' '\"WAYNE\"' '\"DOTHAN\"' '\"OPP\"' '\"CHARLOTTE\"'\n",
      " '\"BRANCHBURG\"' '\"STATE COLLEGE\"' '\"SANTA BARBARA\"' '\"BROOKLYN\"'\n",
      " '\"JACKSONVILLE BEACH\"' '\"CINCINNATI\"' '\"SOUTH CHARLESTON\"'\n",
      " '\"WEST PALM BEACH\"' '\"Binghamton\"' '\"Palos Park\"' '\"Conroe\"' '\"Torrance\"'\n",
      " '\"Lake Jackson\"' '\"Helena\"' '\"Englewood\"' '\"COLUMBUS\"' '\"MARION\"'\n",
      " '\"LAUREL\"' '\"MAYVILLE\"' '\"AUSTIN\"' '\"NEW HAVEN\"' '\"DEARBORN\"'\n",
      " '\"STAR JUNCTION\"' '\"Santa Monica\"' '\"Los Angeles\"' '\"HACKLEBURG\"'\n",
      " '\"FREEHOLD\"' '\"FAIRFAX\"' '\"SAINT LOUIS\"' '\"ST CHARLES\"' '\"SAN ANGELO\"'\n",
      " '\"COLCHESTER\"' '\"SPARTANBURG\"' '\"GREAT FALLS\"' '\"LANCASTER\"'\n",
      " '\"KISSIMMEE\"' '\"MODESTO\"' '\"SAN ANTONIO\"' '\"TULSA\"' '\"HENDERSON\"'\n",
      " '\"PALM SPRINGS\"' '\"OGDEN\"' '\"Augusta\"' '\"SPRINGFIELD\"' '\"WARREN\"'\n",
      " '\"LIVE OAK\"' '\"WASHINGTON\"' '\"HAGERSTOWN\"' '\"NEWARK\"' '\"MORTON\"'\n",
      " '\"CLARKSVILLE\"' '' '\"HAMBURG\"' '\"NORTH BABYLON\"' '\"FLOWER MOUND\"'\n",
      " '\"WYOMISSING\"' '\"PHOENIX\"' '\"ST CLOUD\"' '\"LONGVIEW\"' '\"THORNTON\"'\n",
      " '\"BENTONVILLE\"' '\"BIRMINGHAM\"' '\"ASHEBORO\"' '\"ALEXANDRIA\"' '\"HUDSON\"'\n",
      " '\"DIXON\"' '\"CLEVELAND\"' '\"READING\"' '\"MOORESTOWN\"' '\"AUGUSTA\"'\n",
      " '\"AMHERST\"' '\"ENGLEWOOD\"' '\"EASLEY\"' '\"REDFORD\"' '\"NEWNAN\"' '\"JUPITER\"'\n",
      " '\"BRONX\"' '\"PROVIDENCE\"' '\"AMARILLO\"' '\"FREDERICKSBURG\"' '\"HAWTHRONE\"'\n",
      " '\"TOPEKA\"' '\"MANASSAS\"' '\"BECKLEY\"' '\"SAN LEANDRO\"' '\"BUTLER\"'\n",
      " '\"STOCKBRIDGE\"' '\"COVINA\"' '\"TUCSON\"' '\"PICKERINGTON\"' '\"LANSING\"'\n",
      " '\"VISALIA\"' '\"PONTE VEDRA BEACH\"' '\"DURHAM\"' '\"BATON ROUGE\"'\n",
      " '\"SCOTTSDALE\"' '\"MC MURRAY\"' '\"Jackson\"' '\"PHILADELPHIA\"' '\"TRUMBULL\"'\n",
      " '\"FAYETTEVILLE\"' '\"HACKENSACK\"' '\"COLLEGE STATION\"' '\"LOMA LINDA\"'\n",
      " '\"SOUTHAVEN\"' '\"SOUTHAMPTON\"' '\"WESTBROOK\"' '\"GAHANNA\"' '\"PUNTA GORDA\"'\n",
      " '\"Ashburn\"' '\"BLOOMFIELD\"' '\"CHILLICOTHE\"' '\"MORGANTOWN\"' '\"Middletown\"'\n",
      " '\"COVINGTON\"' '\"MANHASSET\"']\n",
      "Recipient_State---['\"IL\"' '\"FL\"' '\"MI\"' '\"TX\"' '\"NY\"' '\"PA\"' '\"AL\"' '\"OH\"' '\"GA\"' '\"CA\"'\n",
      " '\"MO\"' '\"IN\"' '\"SC\"' '\"KY\"' '\"TN\"' '\"WV\"' '\"NC\"' '\"MD\"' '\"PR\"' '\"MA\"'\n",
      " '\"OR\"' '\"NJ\"' '\"MT\"' '\"CT\"' '\"VA\"' '\"OK\"' '\"NV\"' '\"UT\"' '\"DC\"' '\"DE\"'\n",
      " '\"AR\"' '' '\"AZ\"' '\"MN\"' '\"CO\"' '\"RI\"' '\"KS\"' '\"LA\"' '\"MS\"']\n",
      "Recipient_Zip_Code---['\"60521\"' '\"33301\"' '\"49503-2543\"' '\"78572\"' '\"48135-4001\"'\n",
      " '\"13421-1641\"' '\"76011\"' '\"33637-0925\"' '\"16509-2603\"' '\"36116-2971\"'\n",
      " '\"45042-1925\"' '\"30189\"' '\"91360\"' '\"64131\"' '\"75237\"' '\"92024\"'\n",
      " '\"46237\"' '\"29615\"' '\"92270\"' '\"19010\"' '\"33607\"' '\"78130\"' '\"40258\"'\n",
      " '\"37660\"' '\"95148\"' '\"25314\"' '\"38138\"' '\"28611\"' '\"20852\"' '\"33624\"'\n",
      " '\"77070\"' '\"43338\"' '\"33033\"' '\"00612\"' '\"48201\"' '\"75149\"' '\"02458\"'\n",
      " '\"97141-3430\"' '\"30033-3405\"' '\"28025-2438\"' '\"94563\"' '\"32216-2757\"'\n",
      " '\"30643-7914\"' '\"10003-5944\"' '\"48184-1869\"' '\"36305-1054\"'\n",
      " '\"36467-1727\"' '\"28210-8405\"' '\"08876\"' '\"28211-2978\"' '\"16803-2300\"'\n",
      " '\"93105\"' '\"11235-1530\"' '\"32250-3210\"' '\"45242-4463\"' '\"25303-1265\"'\n",
      " '\"33404\"' '\"13905-4246\"' '\"60464-1508\"' '\"77304-2821\"' '\"90505-5004\"'\n",
      " '\"77566-5618\"' '\"59601-4905\"' '\"07631-4109\"' '\"31901\"' '\"43302\"'\n",
      " '\"20707\"' '\"77030\"' '\"14757-0168\"' '\"78731\"' '\"06510\"' '\"48124-4089\"'\n",
      " '\"15482-0337\"' '\"33606\"' '\"90404\"' '\"90033\"' '\"35564\"' '\"07728\"'\n",
      " '\"22033-1710\"' '\"63136-6132\"' '\"60174\"' '\"76903\"' '\"06415\"'\n",
      " '\"29303-4225\"' '\"59405\"' '\"17603\"' '\"34741\"' '\"95355-9743\"'\n",
      " '\"78224-1012\"' '\"74133\"' '\"89052\"' '\"92264\"' '\"10019-1108\"'\n",
      " '\"84403-3271\"' '\"30912\"' '\"97477\"' '\"44484-2957\"' '\"78233\"' '\"20008\"'\n",
      " '\"21742-1945\"' '\"19713-2143\"' '\"61550-2495\"' '\"72830-4431\"' ''\n",
      " '\"14075-6200\"' '\"11703-2823\"' '\"75022-4953\"' '\"19610-6977\"' '\"85016\"'\n",
      " '\"56301\"' '\"75601-5659\"' '\"80229-4386\"' '\"72712-3988\"' '\"49503\"'\n",
      " '\"85020-5059\"' '\"35205-4006\"' '\"29615-3593\"' '\"27203-5612\"'\n",
      " '\"22304-1313\"' '\"20007-2113\"' '\"44236-4451\"' '\"61021\"' '\"44195\"'\n",
      " '\"19607\"' '\"08057-3124\"' '\"30909\"' '\"45238\"' '\"14226\"' '\"80110\"'\n",
      " '\"29640\"' '\"48239\"' '\"30265\"' '\"33458-4800\"' '\"10466-2802\"'\n",
      " '\"20011-4343\"' '\"31901-1665\"' '\"02940\"' '\"79106-1799\"' '\"76015-4327\"'\n",
      " '\"22407-6016\"' '\"07506\"' '\"66606-1764\"' '\"20110-4287\"' '\"25801-4141\"'\n",
      " '\"94578-2628\"' '\"16001-1785\"' '\"49503-2515\"' '\"40223\"' '\"35249\"'\n",
      " '\"30281-7384\"' '\"91723\"' '\"10013\"' '\"85745-2621\"' '\"43147\"' '\"48910\"'\n",
      " '\"93277\"' '\"32082\"' '\"27710\"' '\"70809\"' '\"85260\"' '\"15317-2537\"'\n",
      " '\"45219\"' '\"49201-1850\"' '\"19104\"' '\"06611-1351\"' '\"10017-4709\"'\n",
      " '\"28304-3667\"' '\"07601\"' '\"77845\"' '\"92354\"' '\"38672\"' '\"18966\"'\n",
      " '\"06498\"' '\"43230\"' '\"33950\"' '\"20147\"' '\"07003\"' '\"45601\"' '\"26506\"'\n",
      " '\"07748\"' '\"70433\"' '\"11030\"']\n",
      "Recipient_Country---['\"United States\"' '']\n",
      "Recipient_Province---['']\n",
      "Recipient_Postal_Code---['']\n",
      "Physician_Primary_Type---['\"Medical Doctor\"' '\"Doctor of Osteopathy\"' '\"Doctor of Optometry\"'\n",
      " '\"Doctor of Dentistry\"' '\"Doctor of Podiatric Medicine\"' '']\n",
      "Physician_Specialty---['\"Allopathic & Osteopathic Physicians|Family Medicine\"'\n",
      " '\"Allopathic & Osteopathic Physicians|Anesthesiology\"'\n",
      " '\"Allopathic & Osteopathic Physicians|Orthopaedic Surgery\"'\n",
      " '\"Eye and Vision Services Providers|Optometrist\"'\n",
      " '\"Allopathic & Osteopathic Physicians|Psychiatry & Neurology|Child & Adolescent Psychiatry\"'\n",
      " '\"Allopathic & Osteopathic Physicians|Urology\"'\n",
      " '\"Allopathic & Osteopathic Physicians|Obstetrics & Gynecology|Reproductive Endocrinology\"'\n",
      " '\"Allopathic & Osteopathic Physicians|Internal Medicine|Hematology & Oncology\"'\n",
      " '\"Allopathic & Osteopathic Physicians|Internal Medicine|Rheumatology\"'\n",
      " '\"Allopathic & Osteopathic Physicians|Internal Medicine|Cardiovascular Disease\"'\n",
      " '\"Allopathic & Osteopathic Physicians|Internal Medicine|Gastroenterology\"'\n",
      " '\"Allopathic & Osteopathic Physicians|Pediatrics\"'\n",
      " '\"Allopathic & Osteopathic Physicians|Internal Medicine|Interventional Cardiology\"'\n",
      " '\"Allopathic & Osteopathic Physicians|Internal Medicine|Clinical Cardiac Electrophysiology\"'\n",
      " '\"Allopathic & Osteopathic Physicians|Psychiatry & Neurology|Neurology\"'\n",
      " '\"Allopathic & Osteopathic Physicians|Dermatology\"'\n",
      " '\"Allopathic & Osteopathic Physicians|Internal Medicine\"'\n",
      " '\"Allopathic & Osteopathic Physicians|Ophthalmology\"'\n",
      " '\"Dental Providers|Dentist|Periodontics\"'\n",
      " '\"Allopathic & Osteopathic Physicians|Psychiatry & Neurology|Psychiatry\"'\n",
      " '\"Allopathic & Osteopathic Physicians|Obstetrics & Gynecology\"'\n",
      " '\"Allopathic & Osteopathic Physicians|Internal Medicine|Nephrology\"'\n",
      " '\"Allopathic & Osteopathic Physicians|Internal Medicine|Pulmonary Disease\"'\n",
      " '\"Allopathic & Osteopathic Physicians|Pediatrics|Pediatric Hematology-Oncology\"'\n",
      " '\"Allopathic & Osteopathic Physicians|Internal Medicine|Infectious Disease\"'\n",
      " '\"Podiatric Medicine & Surgery Service Providers|Podiatrist|Foot & Ankle Surgery\"'\n",
      " '\"Allopathic & Osteopathic Physicians|Internal Medicine|Endocrinology, Diabetes & Metabolism\"'\n",
      " '' '\"Dental Providers|Dentist|General Practice\"'\n",
      " '\"Allopathic & Osteopathic Physicians|Orthopaedic Surgery|Sports Medicine\"'\n",
      " '\"Allopathic & Osteopathic Physicians|Surgery\"'\n",
      " '\"Allopathic & Osteopathic Physicians|Physical Medicine & Rehabilitation\"'\n",
      " '\"Allopathic & Osteopathic Physicians|Surgery|Plastic and Reconstructive Surgery\"'\n",
      " '\"Allopathic & Osteopathic Physicians|Hospitalist\"'\n",
      " '\"Dental Providers|Dentist\"'\n",
      " '\"Allopathic & Osteopathic Physicians|Radiology|Vascular & Interventional Radiology\"'\n",
      " '\"Allopathic & Osteopathic Physicians|Anesthesiology|Pain Medicine\"'\n",
      " '\"Allopathic & Osteopathic Physicians|Obstetrics & Gynecology|Obstetrics\"'\n",
      " '\"Allopathic & Osteopathic Physicians|Emergency Medicine\"'\n",
      " '\"Allopathic & Osteopathic Physicians|Obstetrics & Gynecology|Gynecology\"'\n",
      " '\"Allopathic & Osteopathic Physicians|Internal Medicine|Geriatric Medicine\"'\n",
      " '\"Allopathic & Osteopathic Physicians|Radiology|Diagnostic Radiology\"']\n",
      "Physician_License_State_code1---['\"IL\"' '\"FL\"' '\"MI\"' '\"TX\"' '\"NY\"' '\"AZ\"' '\"AL\"' '\"OH\"' '\"GA\"' '\"CA\"'\n",
      " '\"CO\"' '\"IN\"' '\"SC\"' '\"PA\"' '\"KY\"' '\"TN\"' '\"WV\"' '\"NC\"' '\"KS\"' '\"PR\"'\n",
      " '\"MA\"' '\"NJ\"' '\"MT\"' '\"MD\"' '\"VA\"' '\"CT\"' '\"OK\"' '\"NV\"' '\"UT\"' '\"OR\"'\n",
      " '\"DC\"' '\"DE\"' '\"AR\"' '' '\"MN\"' '\"RI\"' '\"LA\"' '\"MS\"']\n",
      "Physician_License_State_code2---['' '\"TX\"' '\"MI\"']\n",
      "Physician_License_State_code3---['' '\"NY\"']\n",
      "Physician_License_State_code4---['']\n",
      "Physician_License_State_code5---['']\n",
      "Submitting_Applicable_Manufacturer_or_Applicable_GPO_Name---['\"Kowa Pharmaceuticals America, Inc.\"' '\"Covidien LP\"'\n",
      " '\"DePuy Synthes Sales Inc.\"' '\"Medical Device Business Services, Inc.\"'\n",
      " '\"Johnson & Johnson Surgical Vision, Inc.\"'\n",
      " '\"Johnson & Johnson Vision Care, Inc.\"' '\"Janssen Pharmaceuticals, Inc\"'\n",
      " '\"Medtronic USA, Inc.\"' '\"HOLOGIC INC\"'\n",
      " '\"Pharmacyclics LLC, An AbbVie Company\"' '\"Celgene Corporation\"'\n",
      " '\"Pfizer Inc.\"' '\"Medtronic Vascular, Inc.\"' '\"Eli Lilly and Company\"'\n",
      " '\"BOSTON SCIENTIFIC CORPORATION\"' '\"Radius Health, Inc.\"'\n",
      " '\"Novartis Pharmaceuticals Corporation\"'\n",
      " '\"Shire North American Group Inc\"'\n",
      " '\"Bausch & Lomb, a division of Bausch Health US, LLC\"'\n",
      " '\"OraPharma, a division of Bausch Health US, LLC\"'\n",
      " '\"Salix Pharmaceuticals, a division of Bausch Health US, LLC\"'\n",
      " '\"Lundbeck LLC\"' '\"Omeros Corporation\"'\n",
      " '\"AstraZeneca Pharmaceuticals LP\"' '\"Genentech, Inc.\"'\n",
      " '\"Aerie Pharmaceuticals, Inc.\"' '\"Strongbridge US INC.\"'\n",
      " '\"JAZZ PHARMACEUTICALS INC.\"' '\"Alcon Vision LLC\"'\n",
      " '\"Hikma Pharmaceuticals USA\"' '\"Insmed, Inc.\"'\n",
      " '\"E.R. Squibb & Sons, L.L.C.\"' '\"Sanofi and Genzyme US Companies\"'\n",
      " '\"GlaxoSmithKline, LLC.\"' '\"Vertical Pharmaceuticals, LLC\"'\n",
      " '\"ViiV Healthcare Company\"' '\"Stryker Corporation\"'\n",
      " '\"Alexion Pharmaceuticals, Inc.\"'\n",
      " '\"Bayer HealthCare Pharmaceuticals Inc.\"'\n",
      " '\"Merck Sharp & Dohme Corporation\"' '\"Teva Pharmaceuticals USA, Inc.\"'\n",
      " '\"Sunovion Pharmaceuticals Inc.\"' '\"Valeritas, Inc.\"' ''\n",
      " '\"Regeneron Healthcare Solutions, Inc.\"'\n",
      " '\"Otsuka America Pharmaceutical, Inc.\"' '\"Benco Dental Supply Co.\"'\n",
      " '\"Smith+Nephew, Inc.\"' '\"Wright Medical Technology, Inc.\"'\n",
      " '\"AbbVie, Inc.\"' '\"Amgen Inc.\"' '\"Allergan Inc.\"'\n",
      " '\"Takeda Pharmaceuticals U.S.A., Inc.\"' '\"UCB, Inc.\"'\n",
      " '\"Dentsply Sirona Inc\"' '\"Varian Medical Systems, Inc.\"'\n",
      " '\"Horizon Therapeutics plc\"' '\"Eyevance Pharmaceuticals LLC\"'\n",
      " '\"Amarin Pharma Inc.\"' '\"Stemline Therapeutics Inc.\"'\n",
      " '\"Boehringer Ingelheim Pharmaceuticals, Inc.\"'\n",
      " '\"Cardiovascular Systems Inc.\"' '\"W. L. Gore & Associates, Inc.\"'\n",
      " '\"Abbott Laboratories\"' '\"AMAG Pharmaceuticals, Inc.\"' '\"CSL Behring\"'\n",
      " '\"Biogen, Inc.\"' '\"ACUMED LLC\"'\n",
      " '\"Maquet Cardiovascular U.S. Sales, L.L.C.\"'\n",
      " '\"Mallinckrodt Enterprises LLC\"' '\"Lupin Inc.\"'\n",
      " '\"Arbor Pharmaceuticals, Inc.\"' '\"Novo Nordisk Inc\"'\n",
      " '\"Ironshore Pharmaceuticals Inc.\"' '\"Bard Peripheral Vascular, Inc.\"'\n",
      " '\"Davol Inc.\"' '\"MicroVention, Inc.\"' '\"Align Technology, Inc.\"']\n",
      "Applicable_Manufacturer_or_Applicable_GPO_Making_Payment_ID---['\"100000005379\"' '\"100000000083\"' '\"100000005615\"' '\"100000005706\"'\n",
      " '\"100000196772\"' '\"100000005397\"' '\"100000000232\"' '\"100000010383\"'\n",
      " '\"100000231817\"' '\"100000136439\"' '\"100000000343\"' '\"100000000286\"'\n",
      " '\"100000010384\"' '\"100000000066\"' '\"100000005674\"' '\"100000181748\"'\n",
      " '\"100000000228\"' '\"100000061292\"' '\"100000226816\"' '\"100000226818\"'\n",
      " '\"100000226817\"' '\"100000000236\"' '\"100000136485\"' '\"100000000146\"'\n",
      " '\"100000000226\"' '\"100000216803\"' '\"100000181762\"' '\"100000005637\"'\n",
      " '\"100000005405\"' '\"100000136575\"' '\"100000461811\"' '\"100000005499\"'\n",
      " '\"100000000076\"' '\"100000005449\"' '\"100000000297\"' '\"100000011189\"'\n",
      " '\"100000005550\"' '\"100000010503\"' '\"100000005462\"' '\"100000005467\"'\n",
      " '\"100000000053\"' '\"100000000141\"' '\"100000000254\"' '\"100000010873\"' ''\n",
      " '\"100000136416\"' '\"100000010723\"' '\"100000000071\"' '\"100000005456\"'\n",
      " '\"100000086401\"' '\"100000000204\"' '\"100000000203\"' '\"100000000278\"'\n",
      " '\"100000000337\"' '\"100000000073\"' '\"100000000185\"' '\"100000010850\"'\n",
      " '\"100000131389\"' '\"100000501814\"' '\"100000010379\"' '\"100000481815\"'\n",
      " '\"100000000234\"' '\"100000000117\"' '\"100000010774\"' '\"100000010680\"'\n",
      " '\"100000010948\"' '\"100000005563\"' '\"100000000193\"' '\"100000000216\"'\n",
      " '\"100000010724\"' '\"100000521814\"' '\"100000291821\"' '\"100000005507\"'\n",
      " '\"100000000144\"' '\"100000601811\"' '\"100000005481\"' '\"100000005490\"'\n",
      " '\"100000010928\"' '\"100000005613\"']\n",
      "Applicable_Manufacturer_or_Applicable_GPO_Making_Payment_Name---['\"Kowa Pharmaceuticals America, Inc.\"' '\"Covidien LP\"'\n",
      " '\"DePuy Synthes Sales Inc.\"' '\"Medical Device Business Services, Inc.\"'\n",
      " '\"Johnson & Johnson Surgical Vision, Inc.\"'\n",
      " '\"Johnson & Johnson Vision Care, Inc.\"' '\"Janssen Pharmaceuticals, Inc\"'\n",
      " '\"Medtronic USA, Inc.\"' '\"Hologic, LLC\"'\n",
      " '\"Pharmacyclics LLC, An AbbVie Company\"' '\"Celgene Corporation\"'\n",
      " '\"PFIZER INC.\"' '\"Medtronic Vascular, Inc.\"' '\"Lilly USA, LLC\"'\n",
      " '\"Boston Scientific Corporation\"' '\"Radius Health, Inc.\"'\n",
      " '\"Novartis Pharmaceuticals Corporation\"'\n",
      " '\"Shire North American Group Inc\"'\n",
      " '\"Bausch & Lomb, a division of Bausch Health US, LLC\"'\n",
      " '\"OraPharma, a division of Bausch Health US, LLC\"'\n",
      " '\"Salix Pharmaceuticals, a division of Bausch Health US, LLC\"'\n",
      " '\"Lundbeck LLC\"' '\"Omeros Corporation\"'\n",
      " '\"AstraZeneca Pharmaceuticals LP\"' '\"Genentech USA, Inc.\"'\n",
      " '\"Aerie Pharmaceuticals, Inc.\"' '\"Strongbridge US INC.\"'\n",
      " '\"JAZZ PHARMACEUTICALS INC.\"' '\"Alcon Vision LLC\"'\n",
      " '\"Hikma Pharmaceuticals USA\"' '\"Insmed, Inc.\"'\n",
      " '\"E.R. Squibb & Sons, L.L.C.\"' '\"SANOFI-AVENTIS U.S. LLC\"'\n",
      " '\"GlaxoSmithKline, LLC.\"' '\"GENZYME CORPORATION\"'\n",
      " '\"Vertical Pharmaceuticals, LLC\"' '\"ViiV Healthcare Company\"'\n",
      " '\"Stryker Corporation\"' '\"Alexion Pharmaceuticals, Inc.\"'\n",
      " '\"Bayer HealthCare Pharmaceuticals Inc.\"'\n",
      " '\"Merck Sharp & Dohme Corporation\"' '\"Teva Pharmaceuticals USA, Inc.\"'\n",
      " '\"Sunovion Pharmaceuticals Inc.\"' '\"Valeritas, Inc.\"' ''\n",
      " '\"Regeneron Healthcare Solutions, Inc.\"'\n",
      " '\"Otsuka America Pharmaceutical, Inc.\"' '\"Benco Dental Supply Co.\"'\n",
      " '\"Smith+Nephew, Inc.\"' '\"Wright Medical Technology, Inc.\"'\n",
      " '\"AbbVie, Inc.\"' '\"Amgen Inc.\"' '\"Allergan Inc.\"'\n",
      " '\"Takeda Pharmaceuticals U.S.A., Inc.\"' '\"UCB, Inc.\"'\n",
      " '\"Dentsply Sirona Inc\"' '\"Varian Medical Systems, Inc.\"'\n",
      " '\"Horizon Therapeutics plc\"' '\"Eyevance Pharmaceuticals LLC\"'\n",
      " '\"Amarin Pharma Inc.\"' '\"Stemline Therapeutics Inc.\"'\n",
      " '\"Boehringer Ingelheim Pharmaceuticals, Inc.\"'\n",
      " '\"Cardiovascular Systems Inc.\"' '\"W. L. Gore & Associates, Inc.\"'\n",
      " '\"Abbott Laboratories\"' '\"AMAG Pharmaceuticals, Inc.\"' '\"CSL Behring\"'\n",
      " '\"Biogen, Inc.\"' '\"ACUMED LLC\"'\n",
      " '\"Maquet Cardiovascular U.S. Sales, L.L.C.\"'\n",
      " '\"Mallinckrodt Enterprises LLC\"' '\"Lupin Inc.\"'\n",
      " '\"ARBOR PHARMACEUTICALS, INC.\"' '\"Novo Nordisk Inc\"'\n",
      " '\"Ironshore Pharmaceuticals Inc.\"' '\"BARD PERIPHERAL VASCULAR, INC.\"'\n",
      " '\"DAVOL INC.\"' '\"MicroVention, Inc.\"' '\"Align Technology, Inc.\"']\n",
      "Applicable_Manufacturer_or_Applicable_GPO_Making_Payment_State---['\"AL\"' '\"MA\"' '\"IN\"' '\"CA\"' '\"FL\"' '\"NJ\"' '\"MN\"' '\"NY\"' '\"IL\"' '\"WA\"'\n",
      " '\"DE\"' '\"NC\"' '\"PA\"' '\"TX\"' '\"MI\"' '' '\"MD\"' '\"TN\"' '\"GA\"' '\"CT\"' '\"OR\"'\n",
      " '\"MO\"' '\"AZ\"' '\"RI\"']\n",
      "Applicable_Manufacturer_or_Applicable_GPO_Making_Payment_Country---['\"United States\"' '' '\"Ireland\"']\n",
      "Total_Amount_of_Payment_USDollars---['12.60' '38.19' '12.07' '18.36' '180.00' '13.17' '100.00' '123.10'\n",
      " '251.81' '16.05' '18.14' '19.39' '9.63' '12.56' '113.29' '4.14' '5.75'\n",
      " '16.84' '16.74' '9.77' '23.35' '8.61' '10.64' '11.75' '6.11' '7.81'\n",
      " '14.95' '12.34' '190.26' '22.17' '4.33' '1.00' '12.33' '89.68' '12.53'\n",
      " '15.31' '76.50' '11.62' '25.00' '9.86' '1783.20' '15.27' '13.09' '124.55'\n",
      " '14.53' '11.82' '20.44' '13.83' '13.87' '14.68' '12.38' '99.70' '14.52'\n",
      " '12.17' '5.80' '0.56' '42.85' '19.02' '11.96' '16.02' '16.07' '14.18'\n",
      " '12.65' '12.84' '11.54' '15.00' '19.32' '15.43' '19.33' '116.71'\n",
      " '2800.00' '119.15' '11.16' '22.00' '13.89' '20.50' '13.05' '13.63'\n",
      " '24.60' '17.04' '16.72' '13.84' '14.43' '12.04' '16.69' '10.96' '13.55'\n",
      " '22.21' '16.30' '5.09' '17.31' '124.41' '12.98' '94.80' '14.63' '16.11'\n",
      " '45.50' '21.34' '15.32' '13.82' '2.68' '12.87' '10.40' '\"2019\"' '18.37'\n",
      " '15.34' '2.10' '195.23' '7.39' '39.79' '23.17' '47.95' '144.43' '24.67'\n",
      " '13.24' '15.35' '18.08' '19.62' '362.70' '17.36' '21.81' '3.85' '23.01'\n",
      " '14.74' '18.29' '21.63' '11.93' '2000.00' '2400.00' '22.66' '17.66'\n",
      " '8.26' '11.06' '16.95' '19.41' '291.67' '19.75' '16.97' '24.76' '6.30'\n",
      " '5.33' '0.44' '16.58' '6.88' '0.26' '7.12' '4.17' '893.26' '30000.00'\n",
      " '2.40' '19.44' '21.43' '24.09' '11.46' '12.14' '86.72' '33.94' '10.36'\n",
      " '1400.00' '0.47' '21.92' '3.92' '18.40' '127.09' '14.34' '27.23' '15.83'\n",
      " '1.24' '8.84' '10.86' '14.37' '11.76' '17.54' '17.98' '22.61' '96.71'\n",
      " '76.93' '1100.00' '540.00' '12.00' '46.67' '289.00']\n",
      "Date_of_Payment---['\"06/14/2019\"' '\"02/12/2019\"' '\"10/30/2019\"' '\"11/14/2019\"'\n",
      " '\"12/09/2019\"' '\"08/12/2019\"' '\"10/24/2019\"' '\"08/23/2019\"'\n",
      " '\"12/20/2019\"' '\"12/03/2019\"' '\"04/13/2019\"' '\"05/14/2019\"'\n",
      " '\"01/11/2019\"' '\"08/15/2019\"' '\"06/17/2019\"' '\"08/27/2019\"'\n",
      " '\"05/09/2019\"' '\"05/16/2019\"' '\"06/24/2019\"' '\"06/05/2019\"'\n",
      " '\"04/05/2019\"' '\"09/04/2019\"' '\"07/02/2019\"' '\"05/29/2019\"'\n",
      " '\"02/25/2019\"' '\"06/11/2019\"' '\"03/03/2019\"' '\"09/13/2019\"'\n",
      " '\"03/26/2019\"' '\"11/27/2019\"' '\"06/27/2019\"' '\"04/30/2019\"'\n",
      " '\"04/26/2019\"' '\"03/12/2019\"' '\"04/09/2019\"' '\"02/14/2019\"'\n",
      " '\"04/18/2019\"' '\"05/01/2019\"' '\"05/21/2019\"' '\"10/10/2019\"'\n",
      " '\"07/31/2019\"' '\"07/29/2019\"' '\"01/28/2019\"' '\"06/13/2019\"'\n",
      " '\"02/07/2019\"' '\"01/10/2019\"' '\"02/05/2019\"' '\"11/26/2019\"'\n",
      " '\"12/05/2019\"' '\"09/18/2019\"' '\"10/21/2019\"' '\"09/11/2019\"'\n",
      " '\"08/19/2019\"' '\"09/10/2019\"' '\"10/02/2019\"' '\"10/04/2019\"'\n",
      " '\"12/16/2019\"' '\"04/11/2019\"' '\"09/17/2019\"' '\"10/22/2019\"'\n",
      " '\"07/17/2019\"' '\"11/20/2019\"' '\"06/25/2019\"' '\"11/12/2019\"'\n",
      " '\"04/27/2019\"' '\"03/19/2019\"' '\"10/25/2019\"' '\"04/03/2019\"'\n",
      " '\"05/24/2019\"' '\"04/15/2019\"' '\"12/30/2019\"' '\"07/10/2019\"'\n",
      " '\"07/24/2019\"' '\"03/04/2019\"' '\"08/28/2019\"' '\"08/06/2019\"'\n",
      " '\"05/28/2019\"' '\"07/11/2019\"' '\"06/10/2019\"' '\"08/08/2019\"'\n",
      " '\"05/02/2019\"' '\"05/06/2019\"' '\"05/15/2019\"' '\"01/30/2019\"'\n",
      " '\"07/12/2019\"' '\"04/08/2019\"' '\"09/30/2019\"' '\"01/18/2019\"'\n",
      " '\"03/01/2019\"' '\"06/30/2021\"' '\"11/13/2019\"' '\"06/04/2019\"'\n",
      " '\"03/21/2019\"' '\"09/12/2019\"' '\"09/23/2019\"' '\"01/25/2019\"'\n",
      " '\"10/09/2019\"' '\"11/25/2019\"' '\"04/02/2019\"' '\"07/16/2019\"'\n",
      " '\"10/15/2019\"' '\"04/16/2019\"' '\"02/06/2019\"' '\"07/18/2019\"'\n",
      " '\"03/15/2019\"' '\"01/16/2019\"' '\"07/01/2019\"' '\"01/22/2019\"'\n",
      " '\"10/08/2019\"' '\"01/04/2019\"' '\"11/19/2019\"' '\"08/26/2019\"'\n",
      " '\"09/28/2019\"' '\"02/19/2019\"' '\"11/18/2019\"' '\"07/15/2019\"'\n",
      " '\"09/19/2019\"' '\"09/27/2019\"' '\"04/17/2019\"' '\"08/07/2019\"'\n",
      " '\"04/25/2019\"' '\"09/26/2019\"' '\"02/27/2019\"' '\"02/26/2019\"'\n",
      " '\"01/08/2019\"' '\"03/20/2019\"' '\"04/23/2019\"' '\"02/21/2019\"'\n",
      " '\"08/09/2019\"']\n",
      "Number_of_Payments_Included_in_Total_Amount---['\"1\"' None]\n",
      "Form_of_Payment_or_Transfer_of_Value---['\"Cash or cash equivalent\"' '\"In-kind items and services\"' None]\n",
      "Nature_of_Payment_or_Transfer_of_Value---['\"Food and Beverage\"' '\"Education\"' '\"Travel and Lodging\"'\n",
      " '\"Compensation for services other than consulting, including serving as faculty or as a speaker at a venue other than a continuing education program\"'\n",
      " None '\"Consulting Fee\"']\n",
      "City_of_Travel---['' '\"Aurora\"' '\"McAllen\"' '\"CINCINNATI\"' '\"Dallas\"' None '\"CHATTANOOGA\"'\n",
      " '\"Wauwatosa\"' '\"Camp Hill\"' '\"LONDON\"']\n",
      "State_of_Travel---['' '\"CO\"' '\"TX\"' '\"OH\"' None '\"TN\"' '\"WI\"' '\"PA\"']\n",
      "Country_of_Travel---['' '\"United States\"' None '\"Great Britain (Uk)\"']\n",
      "Physician_Ownership_Indicator---['\"No\"' None '']\n",
      "Third_Party_Payment_Recipient_Indicator---['\"No Third Party Payment\"' '\"Individual\"' None '\"Entity\"']\n",
      "Name_of_Third_Party_Entity_Receiving_Payment_or_Transfer_of_Value---['' None '\"JJ SOLOMAE INC\"']\n",
      "Charity_Indicator---['' '\"No\"' None]\n",
      "Third_Party_Equals_Covered_Recipient_Indicator---['' '\"No\"' None]\n",
      "Contextual_Information---[''\n",
      " '\"FOOD & BEVERAGE EXPENSES FOR A MEETING WHICH MAY HAVE INCLUDED MULTIPLE DAYS AND MAY HAVE HAD MULTIPLE MEALS PER DAY\"'\n",
      " '\"Informational Meal\"' None]\n",
      "Delay_in_Publication_Indicator---['\"No\"' None]\n",
      "Record_ID---['\"630268193\"' '\"637009758\"' '\"648675139\"' '\"630297883\"' '\"655869547\"'\n",
      " '\"655928017\"' '\"644552921\"' '\"655910489\"' '\"655907085\"' '\"658673563\"'\n",
      " '\"659373135\"' '\"667596545\"' '\"667639487\"' '\"650004977\"' '\"665709177\"'\n",
      " '\"672855621\"' '\"673849097\"' '\"672110119\"' '\"672147513\"' '\"672154371\"'\n",
      " '\"672200659\"' '\"672406829\"' '\"672518638\"' '\"672570001\"' '\"672362847\"'\n",
      " '\"672304207\"' '\"673056649\"' '\"673042019\"' '\"676896087\"' '\"677185365\"'\n",
      " '\"657750817\"' '\"658009445\"' '\"657980725\"' '\"657925303\"' '\"658191251\"'\n",
      " '\"658192715\"' '\"658225237\"' '\"662774338\"' '\"662890767\"' '\"663111981\"'\n",
      " '\"683943309\"' '\"658964217\"' '\"659558577\"' '\"659845303\"' '\"659872615\"'\n",
      " '\"659938855\"' '\"637785175\"' '\"637815719\"' '\"637806329\"' '\"637907563\"'\n",
      " '\"637879843\"' '\"684464759\"' '\"684564799\"' '\"684760543\"' '\"684879399\"'\n",
      " '\"684372189\"' '\"686016533\"' '\"685111401\"' '\"685304887\"' '\"685362861\"'\n",
      " '\"685587117\"' '\"685642787\"' '\"685928505\"' '\"685783949\"' '\"681126515\"'\n",
      " '\"681404449\"' '\"681297595\"' '\"662028453\"' '\"688232115\"' '\"662010665\"'\n",
      " '\"684189693\"' '\"665793193\"' '\"688416703\"' '\"693322175\"' '\"651368973\"'\n",
      " '\"651344733\"' '\"693968759\"' '\"670313288\"' '\"694048831\"' '\"694011469\"'\n",
      " '\"670760903\"' '\"671113995\"' '\"670866145\"' '\"694096041\"' '\"671371143\"'\n",
      " '\"671434629\"' '\"671483605\"' '\"675499875\"' '\"675495379\"' '\"671522637\"'\n",
      " '\"671508469\"' '\"671560187\"' '\"692678721\"' '\"692854035\"' '\"695612553\"'\n",
      " '\"628422015\"' '\"695587257\"' '\"697681915\"' '\"697815915\"' '\"687950711\"'\n",
      " '\"698024009\"' '\"688084893\"' '\"688053979\"' None '\"673400493\"'\n",
      " '\"673358689\"' '\"687334061\"' '\"687446771\"' '\"687512397\"' '\"700975121\"'\n",
      " '\"699382813\"' '\"699458197\"' '\"699468465\"' '\"698795462\"' '\"647778247\"'\n",
      " '\"648002719\"' '\"648066463\"' '\"648092231\"' '\"648107181\"' '\"648128657\"'\n",
      " '\"647952999\"' '\"648260833\"' '\"648270725\"' '\"648301655\"' '\"648197467\"'\n",
      " '\"662300989\"' '\"662307993\"' '\"662371305\"' '\"662497465\"' '\"662581233\"'\n",
      " '\"662355991\"' '\"670006373\"' '\"662744451\"' '\"673866481\"' '\"670142323\"'\n",
      " '\"670473643\"' '\"670601877\"' '\"670860905\"' '\"663210825\"' '\"671160836\"'\n",
      " '\"671361437\"' '\"671365863\"' '\"671248029\"' '\"681766037\"' '\"681927221\"'\n",
      " '\"681895791\"' '\"682082115\"' '\"681842659\"' '\"688311475\"' '\"699653195\"'\n",
      " '\"697417129\"' '\"691494473\"' '\"703236759\"' '\"699186471\"' '\"703116473\"'\n",
      " '\"700216197\"' '\"700215019\"' '\"700404909\"' '\"702246435\"' '\"705069049\"'\n",
      " '\"666943057\"' '\"667303885\"' '\"698509099\"' '\"683849507\"' '\"667329837\"'\n",
      " '\"660610981\"' '\"655839527\"' '\"696713921\"' '\"704817367\"' '\"704125041\"'\n",
      " '\"697358383\"' '\"674553895\"' '\"682483115\"' '\"697365637\"' '\"674977861\"'\n",
      " '\"690069977\"' '\"668762295\"' '\"669468389\"' '\"690082793\"' '\"707544261\"'\n",
      " '\"701708027\"' '\"701690601\"' '\"707630065\"' '\"708281069\"' '\"708080273\"'\n",
      " '\"709104245\"' '\"750696599\"']\n",
      "Dispute_Status_for_Publication---['\"No\"' None]\n",
      "Related_Product_Indicator---['\"Yes\"' '\"No\"' None]\n",
      "Covered_or_Noncovered_Indicator_1---['\"Covered\"' '' '\"Non-Covered\"' None]\n",
      "Indicate_Drug_or_Biological_or_Device_or_Medical_Supply_1---['\"Drug\"' '\"Device\"' '' '\"Biological\"' None]\n",
      "Product_Category_or_Therapeutic_Area_1---['\"Cardiovascular\"' '\"Cerebral/Somatic Oximetry\"' '\"Trauma\"' '' '\"Optics\"'\n",
      " '\"Soft Contact Lenses\"' '\"Ortho-Knee\"' '\"Cardiovascular & Metabolism\"'\n",
      " '\"Neuroscience\"' '\"Sacral Nerve Stimulation\"'\n",
      " '\"Spinal Cord Neurostimulation\"' '\"Surgical\"' '\"Oncology\"'\n",
      " '\"Dermatology\"' '\"CARDIOVASCULAR\"'\n",
      " '\"GASTROINTESTINAL;INFLAMMATION;OPHTHALMOLOGY;TRANSPLANT\"' '\"VACCINES\"'\n",
      " '\"NEUROSCIENCE;TOBACCO DEPENDENCE\"' '\"DERMATOLOGY\"' '\"NEUROSCIENCE;PAIN\"'\n",
      " '\"Stents\"' '\"Pacemakers\"' '\"Diabetes\"' '\"Immunology\"' '\"PROSTATE HEALTH\"'\n",
      " '\"STRUCTURAL HEART\"' '\"ERECTILE DYSFUNCTION\"' '\"Endocrinology\"'\n",
      " '\"NEUROSCIENCE\"' '\"OPTHALMICS\"' '\"OPHTHALMOLOGY\"'\n",
      " '\"DENTAL AND ORAL HEALTH\"' '\"GASTROENTEROLOGY\"' '\"PSYCHIATRY\"'\n",
      " '\"Cardiovascular and Metabolism\"' '\"Respiratory\"' '\"BioOncology\"'\n",
      " '\"Glaucoma\"' '\"Neurology\"' '\"HEMATOLOGY\"' '\"Ophthalmology\"'\n",
      " '\"Cardiology/Vascular Diseases\"' '\"DIABETES\"' '\"RESPIRATORY\"'\n",
      " '\"IMMUNOLOGY\"' '\"HORMONE REPLACEMENT THERAPY\"'\n",
      " '\"NONCOMPETITIVE N-METHYL-D-ASPARTATE NMDA RECEPTOR ANTAGONIST\"' '\"HIV\"'\n",
      " '\"TRAUMA & EXTREMETIES\"' '\"STRETCHERS\"' '\"INFECTIOUS DISEASE\"'\n",
      " '\"Central Nervous System\"' '\"CNS\"' '\"1\"' None\n",
      " '\"INFLAMMATION AND  IMMUNOLOGY\"' '\"CARDIOVASCULAR AND METABOLISM\"'\n",
      " '\"NEPHROLOGY\"' '\"Other Advanced Wound Management\"'\n",
      " '\"Trauma Plates, Screws, and Nails\"' '\"Sports Med Shoulder\"'\n",
      " '\"UPPER EXTREMITIES\"' '\"Virology\"' '\"Nephrology\"' '\"Inflammation\"'\n",
      " '\"Hematology\"' '\"PLASTICS\"' '\"HYPERHYDROSIS\"' '\"PLASTIC SURGERY\"'\n",
      " '\"Cardiology\"' '\"ANTI-INFECTIVE\"' '\"Central Nervous System (CNS)\"'\n",
      " '\"Devices\"' '\"VIMOVO\"' '\"Hypertriglyceridemia\"' '\"ONCOLOGY\"'\n",
      " '\"Atherectomy Device\"' '\"Cardiac Arrhythmias and Heart Failure\"'\n",
      " '\"TREATMENT OF DYSPAREUNIA\"' '\"Trauma (Emergency, Injury, Surgery)\"'\n",
      " '\"NEUROLOGY\"' '\"Shoulder\"' '\"AUTOIMMUNE AND RARE DISEASE\"'\n",
      " '\"OBSTETRICSGYNECOLOGY\"' '\"Sleep\"' '\"Obesity\"'\n",
      " '\"Central nervous system (CNS) stimulant\"' '\"PERIPHERAL VASCULAR\"'\n",
      " '\"DAVOL\"' '\"Neurological Product\"' '\"Orthodontics\"']\n",
      "Name_of_Drug_or_Biological_or_Device_or_Medical_Supply_1---['\"Livalo\"' '\"INVOS\"' '\"TITAN\"' ''\n",
      " '\"Tecnis Multifocal Family of 1-piece IOLS\"' '\"Acuvue\"' '\"ATTUNE\"'\n",
      " '\"TFN ADVANCED\"' '\"XARELTO\"' '\"INVEGA SUSTENNA\"' '\"INTERSTIM\"'\n",
      " '\"ADAPTIVESTIM\"' '\"myosure\"' '\"Imbruvica\"' '\"Otezla\"' '\"VYNDAQEL\"'\n",
      " '\"XELJANZ\"' '\"PREVNAR - 13\"' '\"CHANTIX\"' '\"EUCRISA\"' '\"LYRICA\"'\n",
      " '\"Resolute\"' '\"Micra\"' '\"TRULICITY\"' '\"EMGALITY\"' '\"JARDIANCE\"' '\"TALTZ\"'\n",
      " '\"REZUM\"' '\"WATCHMAN\"' '\"AMS\"' '\"Tymlos\"' '\"ENTRESTO\"' '\"AIMOVIG\"'\n",
      " '\"COSENTYX\"' '\"VYVANSE\"' '\"XIIDRA\"' '\"VYZULTA\"' '\"ARESTIN\"' '\"XIFAXAN\"'\n",
      " '\"TRULANCE\"' '\"BRINTELLIX\"' '\"narsoplimab\"' '\"TAGRISSO\"' '\"LOKELMA\"'\n",
      " '\"BRILINTA\"' '\"BEVESPI AEROSPHERE\"' '\"FARXIGA\"' '\"SYMBICORT\"' '\"OCREVUS\"'\n",
      " '\"Alecensa\"' '\"Perjeta\"' '\"Rocklatan\"' '\"KEVEYIS\"' '\"Rhopressa\"'\n",
      " '\"DEFITELIO\"' '\"Centurion\"' '\"Mitigare\"' '\"Arikayce\"' '\"ELIQUIS\"'\n",
      " '\"OPDIVO\"' '\"SOLIQUA 100/33\"' '\"ANORO\"' '\"TOUJEO\"' '\"MULTAQ\"'\n",
      " '\"SHINGRIX\"' '\"TRELEGY ELLIPTA\"' '\"DUPIXENT\"' '\"NUCALA\"' '\"DIVIGEL\"'\n",
      " '\"OSMOLEX ER\"' '\"DOVATO\"' '\"GAMMA\"' '\"TRAUMA\"' '\"SOLIRIS\"'\n",
      " '\"Non-Covered\"' '\"DIFICID\"' '\"AJOVY\"' '\"AUSTEDO\"' '\"LATUDA\"' '\"V-GO\"'\n",
      " '\"APTIOM\"' '\"BROVANA\"' None '\"PRALUENT\"' '\"REXULTI\"' '\"SAMSCA\"'\n",
      " '\"Grafix PL PRIME\"' '\"TRIGEN InterTAN\"' '\"Regeneten\"' '\"PERFORM GLENOID\"'\n",
      " '\"Mavyret\"' '\"Rinvoq\"' '\"Humira\"' '\"Skyrizi\"' '\"Venclexta\"' '\"Creon\"'\n",
      " '\"Orilissa\"' '\"Synthroid\"' '\"Aimovig\"' '\"Parsabiv\"' '\"Enbrel\"'\n",
      " '\"VRAYLAR\"' '\"Nplate\"' '\"NATRELLE\"' '\"BOTOX\"' '\"ALLODERM\"' '\"Corlanor\"'\n",
      " '\"TEFLARO\"' '\"Vyvanse\"' '\"Trintellix\"' '\"Briviact\"' '\"OTHER\"' '\"VIMOVO\"'\n",
      " '\"Flarex\"' '\"Vascepa\"' '\"ELZONRIS\"' '\"SPIRIVA\"' '\"STIOLTO RESPIMAT\"'\n",
      " '\"SPIRIVA RESPIMAT\"' '\"Peripheral Orbital Atherectomy System\"'\n",
      " '\"SEAMGUARD Bioabsorbable Staple Line Reinforcement\"'\n",
      " '\"Proclaim Family of SCS IPGs\"' '\"AMPLATZER Occluders\"' '\"INTRAROSA\"'\n",
      " '\"Kcentra\"' '\"Dragonfly OCT\"' '\"TECFIDERA\"' '\"Clavicle Plating System\"'\n",
      " '\"FLIXENE\"' '\"ACTHAR\"' '\"SOLOSEC\"' '\"Horizant\"' '\"Saxenda\"' '\"Edarbi\"'\n",
      " '\"Ozempic\"' '\"Jornay PM 20mg capsules (Bottle of 100)\"' '\"LUTONIX\"'\n",
      " '\"PHASIX\"' '\"WEB\"' '\"Invisalign\"']\n",
      "Associated_Drug_or_Biological_NDC_1---['\"66869-404-07\"' '' '\"50458-580-30\"' '\"50458-560-01\"' '\"59572-630-27\"'\n",
      " '\"0069-8729-55\"' '\"0069-1001-01\"' '\"0005-1971-02\"' '\"0069-0471-02\"'\n",
      " '\"55724-211-21\"' '\"0071-1012-68\"' '\"0002-1433-80\"' '\"0002-1436-11\"'\n",
      " '\"0597-0152-37\"' '\"0002-1445-11\"' '\"70539-001-02\"' '\"0078-0659-20\"'\n",
      " '\"55513-841-01\"' '\"0078-0639-41\"' '\"59417-102-10\"' '\"54092-606-04\"'\n",
      " '\"24208-504-05\"' '\"65976-100-01\"' '\"65649-303-02\"' '\"70194-003-30\"'\n",
      " '\"64764-550-30\"' '\"0310-1349-30\"' '\"0310-1105-30\"' '\"0186-0776-60\"'\n",
      " '\"0310-4600-12\"' '\"0310-6205-30\"' '\"0186-0370-20\"' '\"50242-150-01\"'\n",
      " '\"50242-130-01\"' '\"50242-145-01\"' '\"70727-529-25\"' '\"71090-001-01\"'\n",
      " '\"70727-497-25\"' '\"68727-800-02\"' '\"59467-318-01\"' '\"71558-590-28\"'\n",
      " '\"0003-0894-31\"' '\"0003-3774-12\"' '\"0024-5761-05\"' '\"0173-0869-06\"'\n",
      " '\"0024-5869-03\"' '\"0024-4142-10\"' '\"58160-823-11\"' '\"0173-0887-14\"'\n",
      " '\"0024-5914-01\"' '\"0173-0881-01\"' '\"68025-067-30\"' '\"68025-077-30\"'\n",
      " '\"49702-246-13\"' '\"25682-001-01\"' '\"52015-080-01\"' '\"51759-204-10\"'\n",
      " '\"68546-170-60\"' '\"63402-304-30\"' '\"63402-204-30\"' '\"63402-911-64\"' None\n",
      " '\"0024-5901-00\"' '\"59148-037-13\"' '\"59148-020-50\"' '\"0074-2625-28\"'\n",
      " '\"0074-2306-30\"' '\"0074-0554-02\"' '\"0074-2042-02\"' '\"0074-0576-22\"'\n",
      " '\"0032-3016-13\"' '\"0074-0038-28\"' '\"0074-5182-90\"' '\"55513-740-10\"'\n",
      " '\"58406-445-04\"' '\"61874-115-30\"' '\"55513-221-01\"' '\"0023-1145-01\"'\n",
      " '\"55513-800-60\"' '\"0456-0600-10\"' '\"59417-116-01\"' '\"64764-750-30\"'\n",
      " '\"50474-370-66\"' '\"75987-030-04\"' '\"0065-0096-05\"' '\"52937-101-08\"'\n",
      " '\"72187-0401-1\"' '\"0597-0075-41\"' '\"0597-0155-31\"' '\"0597-0100-61\"'\n",
      " '\"64011-601-28\"' '\"63833-386-02\"' '\"64406-006-02\"' '\"63004-8710-1\"'\n",
      " '\"27437-051-01\"' '\"5345-1010-11\"' '\"0169-2800-15\"' '\"2433-8040-30\"'\n",
      " '\"0169-4132-12\"' '\"71376-201-03\"']\n",
      "Covered_or_Noncovered_Indicator_2---['\"Covered\"' '' None]\n",
      "Indicate_Drug_or_Biological_or_Device_or_Medical_Supply_2---['\"Drug\"' '' '\"Device\"' '\"Biological\"' None]\n",
      "Product_Category_or_Therapeutic_Area_2---['\"Cardiovascular\"' '' '\"Ortho-Hip\"' '\"Neuroscience\"' '\"Surgical\"'\n",
      " '\"VACCINES\"' '\"CARDIOVASCULAR;METABOLIC DISEASE\"' '\"DERMATOLOGY\"'\n",
      " '\"BioOncology\"' '\"Glaucoma\"' '\"RESPIRATORY\"' '\"INFECTIOUS DISEASE\"' None\n",
      " '\"NEPHROLOGY\"' '\"Trauma Plates, Screws, and Nails\"' '\"Cardiology\"'\n",
      " '\"Oncology\"' '\"PLASTICS\"' '\"VIMOVO\"' '\"Elbow\"']\n",
      "Name_of_Drug_or_Biological_or_Device_or_Medical_Supply_2---['\"Bystolic\"' '' '\"MODULAR CATHCART Femoral Head\"' '\"INVEGA TRINZA\"'\n",
      " '\"Fluent\"' '\"TRUMENBA\"' '\"ELIQUIS\"' '\"EUCRISA\"' '\"TECENTRIQ\"'\n",
      " '\"Rocklatan\"' '\"BOOSTRIX\"' '\"TRELEGY ELLIPTA\"' '\"ZINPLAVA\"' None\n",
      " '\"JYNARQUE\"' '\"EVOS\"' '\"Repatha\"' '\"XGEVA\"' '\"NATRELLE\"' '\"VIMOVO\"'\n",
      " '\"SPIRIVA RESPIMAT\"' '\"Anatomic Radial Head System\"']\n",
      "Associated_Drug_or_Biological_NDC_2---['\"0456-1405-01\"' '' '\"50458-606-01\"' '\"0005-0100-05\"' '\"0003-0893-21\"'\n",
      " '\"55724-211-21\"' '\"50242-917-01\"' '\"70727-529-25\"' '\"58160-842-11\"'\n",
      " '\"0173-0887-14\"' '\"0006-3025-00\"' None '\"72511-760-02\"' '\"55513-730-01\"'\n",
      " '\"75987-031-04\"' '\"0597-0100-61\"']\n",
      "Covered_or_Noncovered_Indicator_3---['' '\"Covered\"' None '\"Non-Covered\"']\n",
      "Indicate_Drug_or_Biological_or_Device_or_Medical_Supply_3---['' '\"Drug\"' '\"Device\"' '\"Biological\"' None]\n",
      "Product_Category_or_Therapeutic_Area_3---['' '\"Neuroscience\"' '\"GASTROINTESTINAL\"' '\"BioOncology\"' None '\"Elbow\"']\n",
      "Name_of_Drug_or_Biological_or_Device_or_Medical_Supply_3---['' '\"SPRAVATO\"' '\"COLOGUARD\"' '\"ROZLYTREK\"' None '\"Elbow Plating System\"']\n",
      "Associated_Drug_or_Biological_NDC_3---['' '\"50458-028-02\"' '\"50242-091-30\"' None]\n",
      "Covered_or_Noncovered_Indicator_4---['' None]\n",
      "Indicate_Drug_or_Biological_or_Device_or_Medical_Supply_4---['' None]\n",
      "Product_Category_or_Therapeutic_Area_4---['' None]\n",
      "Name_of_Drug_or_Biological_or_Device_or_Medical_Supply_4---['' None]\n",
      "Associated_Drug_or_Biological_NDC_4---['' None]\n",
      "Covered_or_Noncovered_Indicator_5---['' None]\n",
      "Indicate_Drug_or_Biological_or_Device_or_Medical_Supply_5---['' None]\n",
      "Product_Category_or_Therapeutic_Area_5---['' None]\n",
      "Name_of_Drug_or_Biological_or_Device_or_Medical_Supply_5---['' None]\n",
      "Associated_Drug_or_Biological_NDC_5---['' None]\n",
      "Program_Year---['\"2019\"' None]\n",
      "Payment_Publication_Date---['\"06/30/2021\"' None]\n"
     ]
    }
   ],
   "source": [
    "# let's check unique values in the data\n",
    "for h in header:\n",
    "    print(h + '---' + str(df[h].unique()))"
   ]
  },
  {
   "cell_type": "code",
   "execution_count": 111,
   "id": "a4a4b954",
   "metadata": {},
   "outputs": [
    {
     "ename": "TypeError",
     "evalue": "'value' must be an instance of str or bytes, not a None",
     "output_type": "error",
     "traceback": [
      "\u001b[0;31m---------------------------------------------------------------------------\u001b[0m",
      "\u001b[0;31mTypeError\u001b[0m                                 Traceback (most recent call last)",
      "\u001b[0;32m/var/folders/l7/6sx8cpvj3fx3fl8j96_hk2br0000gn/T/ipykernel_16136/475891405.py\u001b[0m in \u001b[0;36m<module>\u001b[0;34m\u001b[0m\n\u001b[1;32m      3\u001b[0m \u001b[0max\u001b[0m \u001b[0;34m=\u001b[0m \u001b[0maxis\u001b[0m\u001b[0;34m.\u001b[0m\u001b[0mflatten\u001b[0m\u001b[0;34m(\u001b[0m\u001b[0;34m)\u001b[0m\u001b[0;34m\u001b[0m\u001b[0;34m\u001b[0m\u001b[0m\n\u001b[1;32m      4\u001b[0m \u001b[0;32mfor\u001b[0m \u001b[0mi\u001b[0m \u001b[0;32min\u001b[0m \u001b[0mrange\u001b[0m\u001b[0;34m(\u001b[0m\u001b[0;36m75\u001b[0m\u001b[0;34m)\u001b[0m\u001b[0;34m:\u001b[0m\u001b[0;34m\u001b[0m\u001b[0;34m\u001b[0m\u001b[0m\n\u001b[0;32m----> 5\u001b[0;31m     \u001b[0max\u001b[0m\u001b[0;34m[\u001b[0m\u001b[0mi\u001b[0m\u001b[0;34m]\u001b[0m\u001b[0;34m.\u001b[0m\u001b[0mhist\u001b[0m\u001b[0;34m(\u001b[0m\u001b[0mdf\u001b[0m\u001b[0;34m[\u001b[0m\u001b[0mheader\u001b[0m\u001b[0;34m[\u001b[0m\u001b[0mi\u001b[0m\u001b[0;34m]\u001b[0m\u001b[0;34m]\u001b[0m\u001b[0;34m)\u001b[0m\u001b[0;34m\u001b[0m\u001b[0;34m\u001b[0m\u001b[0m\n\u001b[0m\u001b[1;32m      6\u001b[0m     \u001b[0max\u001b[0m\u001b[0;34m[\u001b[0m\u001b[0mi\u001b[0m\u001b[0;34m]\u001b[0m\u001b[0;34m.\u001b[0m\u001b[0mset_xlabel\u001b[0m\u001b[0;34m(\u001b[0m\u001b[0mheader\u001b[0m\u001b[0;34m[\u001b[0m\u001b[0mi\u001b[0m\u001b[0;34m]\u001b[0m\u001b[0;34m)\u001b[0m\u001b[0;34m\u001b[0m\u001b[0;34m\u001b[0m\u001b[0m\n",
      "\u001b[0;32m~/opt/anaconda3/envs/DistributedComputing/lib/python3.9/site-packages/matplotlib/__init__.py\u001b[0m in \u001b[0;36minner\u001b[0;34m(ax, data, *args, **kwargs)\u001b[0m\n\u001b[1;32m   1410\u001b[0m     \u001b[0;32mdef\u001b[0m \u001b[0minner\u001b[0m\u001b[0;34m(\u001b[0m\u001b[0max\u001b[0m\u001b[0;34m,\u001b[0m \u001b[0;34m*\u001b[0m\u001b[0margs\u001b[0m\u001b[0;34m,\u001b[0m \u001b[0mdata\u001b[0m\u001b[0;34m=\u001b[0m\u001b[0;32mNone\u001b[0m\u001b[0;34m,\u001b[0m \u001b[0;34m**\u001b[0m\u001b[0mkwargs\u001b[0m\u001b[0;34m)\u001b[0m\u001b[0;34m:\u001b[0m\u001b[0;34m\u001b[0m\u001b[0;34m\u001b[0m\u001b[0m\n\u001b[1;32m   1411\u001b[0m         \u001b[0;32mif\u001b[0m \u001b[0mdata\u001b[0m \u001b[0;32mis\u001b[0m \u001b[0;32mNone\u001b[0m\u001b[0;34m:\u001b[0m\u001b[0;34m\u001b[0m\u001b[0;34m\u001b[0m\u001b[0m\n\u001b[0;32m-> 1412\u001b[0;31m             \u001b[0;32mreturn\u001b[0m \u001b[0mfunc\u001b[0m\u001b[0;34m(\u001b[0m\u001b[0max\u001b[0m\u001b[0;34m,\u001b[0m \u001b[0;34m*\u001b[0m\u001b[0mmap\u001b[0m\u001b[0;34m(\u001b[0m\u001b[0msanitize_sequence\u001b[0m\u001b[0;34m,\u001b[0m \u001b[0margs\u001b[0m\u001b[0;34m)\u001b[0m\u001b[0;34m,\u001b[0m \u001b[0;34m**\u001b[0m\u001b[0mkwargs\u001b[0m\u001b[0;34m)\u001b[0m\u001b[0;34m\u001b[0m\u001b[0;34m\u001b[0m\u001b[0m\n\u001b[0m\u001b[1;32m   1413\u001b[0m \u001b[0;34m\u001b[0m\u001b[0m\n\u001b[1;32m   1414\u001b[0m         \u001b[0mbound\u001b[0m \u001b[0;34m=\u001b[0m \u001b[0mnew_sig\u001b[0m\u001b[0;34m.\u001b[0m\u001b[0mbind\u001b[0m\u001b[0;34m(\u001b[0m\u001b[0max\u001b[0m\u001b[0;34m,\u001b[0m \u001b[0;34m*\u001b[0m\u001b[0margs\u001b[0m\u001b[0;34m,\u001b[0m \u001b[0;34m**\u001b[0m\u001b[0mkwargs\u001b[0m\u001b[0;34m)\u001b[0m\u001b[0;34m\u001b[0m\u001b[0;34m\u001b[0m\u001b[0m\n",
      "\u001b[0;32m~/opt/anaconda3/envs/DistributedComputing/lib/python3.9/site-packages/matplotlib/axes/_axes.py\u001b[0m in \u001b[0;36mhist\u001b[0;34m(self, x, bins, range, density, weights, cumulative, bottom, histtype, align, orientation, rwidth, log, color, label, stacked, **kwargs)\u001b[0m\n\u001b[1;32m   6512\u001b[0m         \u001b[0;32mif\u001b[0m \u001b[0morientation\u001b[0m \u001b[0;34m==\u001b[0m \u001b[0;34m\"vertical\"\u001b[0m\u001b[0;34m:\u001b[0m\u001b[0;34m\u001b[0m\u001b[0;34m\u001b[0m\u001b[0m\n\u001b[1;32m   6513\u001b[0m             \u001b[0mconvert_units\u001b[0m \u001b[0;34m=\u001b[0m \u001b[0mself\u001b[0m\u001b[0;34m.\u001b[0m\u001b[0mconvert_xunits\u001b[0m\u001b[0;34m\u001b[0m\u001b[0;34m\u001b[0m\u001b[0m\n\u001b[0;32m-> 6514\u001b[0;31m             x = [*self._process_unit_info([(\"x\", x[0])], kwargs),\n\u001b[0m\u001b[1;32m   6515\u001b[0m                  *map(convert_units, x[1:])]\n\u001b[1;32m   6516\u001b[0m         \u001b[0;32melse\u001b[0m\u001b[0;34m:\u001b[0m  \u001b[0;31m# horizontal\u001b[0m\u001b[0;34m\u001b[0m\u001b[0;34m\u001b[0m\u001b[0m\n",
      "\u001b[0;32m~/opt/anaconda3/envs/DistributedComputing/lib/python3.9/site-packages/matplotlib/axes/_base.py\u001b[0m in \u001b[0;36m_process_unit_info\u001b[0;34m(self, datasets, kwargs, convert)\u001b[0m\n\u001b[1;32m   2519\u001b[0m             \u001b[0;31m# Update from data if axis is already set but no unit is set yet.\u001b[0m\u001b[0;34m\u001b[0m\u001b[0;34m\u001b[0m\u001b[0m\n\u001b[1;32m   2520\u001b[0m             \u001b[0;32mif\u001b[0m \u001b[0maxis\u001b[0m \u001b[0;32mis\u001b[0m \u001b[0;32mnot\u001b[0m \u001b[0;32mNone\u001b[0m \u001b[0;32mand\u001b[0m \u001b[0mdata\u001b[0m \u001b[0;32mis\u001b[0m \u001b[0;32mnot\u001b[0m \u001b[0;32mNone\u001b[0m \u001b[0;32mand\u001b[0m \u001b[0;32mnot\u001b[0m \u001b[0maxis\u001b[0m\u001b[0;34m.\u001b[0m\u001b[0mhave_units\u001b[0m\u001b[0;34m(\u001b[0m\u001b[0;34m)\u001b[0m\u001b[0;34m:\u001b[0m\u001b[0;34m\u001b[0m\u001b[0;34m\u001b[0m\u001b[0m\n\u001b[0;32m-> 2521\u001b[0;31m                 \u001b[0maxis\u001b[0m\u001b[0;34m.\u001b[0m\u001b[0mupdate_units\u001b[0m\u001b[0;34m(\u001b[0m\u001b[0mdata\u001b[0m\u001b[0;34m)\u001b[0m\u001b[0;34m\u001b[0m\u001b[0;34m\u001b[0m\u001b[0m\n\u001b[0m\u001b[1;32m   2522\u001b[0m         \u001b[0;32mfor\u001b[0m \u001b[0maxis_name\u001b[0m\u001b[0;34m,\u001b[0m \u001b[0maxis\u001b[0m \u001b[0;32min\u001b[0m \u001b[0maxis_map\u001b[0m\u001b[0;34m.\u001b[0m\u001b[0mitems\u001b[0m\u001b[0;34m(\u001b[0m\u001b[0;34m)\u001b[0m\u001b[0;34m:\u001b[0m\u001b[0;34m\u001b[0m\u001b[0;34m\u001b[0m\u001b[0m\n\u001b[1;32m   2523\u001b[0m             \u001b[0;31m# Return if no axis is set.\u001b[0m\u001b[0;34m\u001b[0m\u001b[0;34m\u001b[0m\u001b[0m\n",
      "\u001b[0;32m~/opt/anaconda3/envs/DistributedComputing/lib/python3.9/site-packages/matplotlib/axis.py\u001b[0m in \u001b[0;36mupdate_units\u001b[0;34m(self, data)\u001b[0m\n\u001b[1;32m   1447\u001b[0m         \u001b[0mneednew\u001b[0m \u001b[0;34m=\u001b[0m \u001b[0mself\u001b[0m\u001b[0;34m.\u001b[0m\u001b[0mconverter\u001b[0m \u001b[0;34m!=\u001b[0m \u001b[0mconverter\u001b[0m\u001b[0;34m\u001b[0m\u001b[0;34m\u001b[0m\u001b[0m\n\u001b[1;32m   1448\u001b[0m         \u001b[0mself\u001b[0m\u001b[0;34m.\u001b[0m\u001b[0mconverter\u001b[0m \u001b[0;34m=\u001b[0m \u001b[0mconverter\u001b[0m\u001b[0;34m\u001b[0m\u001b[0;34m\u001b[0m\u001b[0m\n\u001b[0;32m-> 1449\u001b[0;31m         \u001b[0mdefault\u001b[0m \u001b[0;34m=\u001b[0m \u001b[0mself\u001b[0m\u001b[0;34m.\u001b[0m\u001b[0mconverter\u001b[0m\u001b[0;34m.\u001b[0m\u001b[0mdefault_units\u001b[0m\u001b[0;34m(\u001b[0m\u001b[0mdata\u001b[0m\u001b[0;34m,\u001b[0m \u001b[0mself\u001b[0m\u001b[0;34m)\u001b[0m\u001b[0;34m\u001b[0m\u001b[0;34m\u001b[0m\u001b[0m\n\u001b[0m\u001b[1;32m   1450\u001b[0m         \u001b[0;32mif\u001b[0m \u001b[0mdefault\u001b[0m \u001b[0;32mis\u001b[0m \u001b[0;32mnot\u001b[0m \u001b[0;32mNone\u001b[0m \u001b[0;32mand\u001b[0m \u001b[0mself\u001b[0m\u001b[0;34m.\u001b[0m\u001b[0munits\u001b[0m \u001b[0;32mis\u001b[0m \u001b[0;32mNone\u001b[0m\u001b[0;34m:\u001b[0m\u001b[0;34m\u001b[0m\u001b[0;34m\u001b[0m\u001b[0m\n\u001b[1;32m   1451\u001b[0m             \u001b[0mself\u001b[0m\u001b[0;34m.\u001b[0m\u001b[0mset_units\u001b[0m\u001b[0;34m(\u001b[0m\u001b[0mdefault\u001b[0m\u001b[0;34m)\u001b[0m\u001b[0;34m\u001b[0m\u001b[0;34m\u001b[0m\u001b[0m\n",
      "\u001b[0;32m~/opt/anaconda3/envs/DistributedComputing/lib/python3.9/site-packages/matplotlib/category.py\u001b[0m in \u001b[0;36mdefault_units\u001b[0;34m(data, axis)\u001b[0m\n\u001b[1;32m    113\u001b[0m         \u001b[0;31m# the conversion call stack is default_units -> axis_info -> convert\u001b[0m\u001b[0;34m\u001b[0m\u001b[0;34m\u001b[0m\u001b[0m\n\u001b[1;32m    114\u001b[0m         \u001b[0;32mif\u001b[0m \u001b[0maxis\u001b[0m\u001b[0;34m.\u001b[0m\u001b[0munits\u001b[0m \u001b[0;32mis\u001b[0m \u001b[0;32mNone\u001b[0m\u001b[0;34m:\u001b[0m\u001b[0;34m\u001b[0m\u001b[0;34m\u001b[0m\u001b[0m\n\u001b[0;32m--> 115\u001b[0;31m             \u001b[0maxis\u001b[0m\u001b[0;34m.\u001b[0m\u001b[0mset_units\u001b[0m\u001b[0;34m(\u001b[0m\u001b[0mUnitData\u001b[0m\u001b[0;34m(\u001b[0m\u001b[0mdata\u001b[0m\u001b[0;34m)\u001b[0m\u001b[0;34m)\u001b[0m\u001b[0;34m\u001b[0m\u001b[0;34m\u001b[0m\u001b[0m\n\u001b[0m\u001b[1;32m    116\u001b[0m         \u001b[0;32melse\u001b[0m\u001b[0;34m:\u001b[0m\u001b[0;34m\u001b[0m\u001b[0;34m\u001b[0m\u001b[0m\n\u001b[1;32m    117\u001b[0m             \u001b[0maxis\u001b[0m\u001b[0;34m.\u001b[0m\u001b[0munits\u001b[0m\u001b[0;34m.\u001b[0m\u001b[0mupdate\u001b[0m\u001b[0;34m(\u001b[0m\u001b[0mdata\u001b[0m\u001b[0;34m)\u001b[0m\u001b[0;34m\u001b[0m\u001b[0;34m\u001b[0m\u001b[0m\n",
      "\u001b[0;32m~/opt/anaconda3/envs/DistributedComputing/lib/python3.9/site-packages/matplotlib/category.py\u001b[0m in \u001b[0;36m__init__\u001b[0;34m(self, data)\u001b[0m\n\u001b[1;32m    189\u001b[0m         \u001b[0mself\u001b[0m\u001b[0;34m.\u001b[0m\u001b[0m_counter\u001b[0m \u001b[0;34m=\u001b[0m \u001b[0mitertools\u001b[0m\u001b[0;34m.\u001b[0m\u001b[0mcount\u001b[0m\u001b[0;34m(\u001b[0m\u001b[0;34m)\u001b[0m\u001b[0;34m\u001b[0m\u001b[0;34m\u001b[0m\u001b[0m\n\u001b[1;32m    190\u001b[0m         \u001b[0;32mif\u001b[0m \u001b[0mdata\u001b[0m \u001b[0;32mis\u001b[0m \u001b[0;32mnot\u001b[0m \u001b[0;32mNone\u001b[0m\u001b[0;34m:\u001b[0m\u001b[0;34m\u001b[0m\u001b[0;34m\u001b[0m\u001b[0m\n\u001b[0;32m--> 191\u001b[0;31m             \u001b[0mself\u001b[0m\u001b[0;34m.\u001b[0m\u001b[0mupdate\u001b[0m\u001b[0;34m(\u001b[0m\u001b[0mdata\u001b[0m\u001b[0;34m)\u001b[0m\u001b[0;34m\u001b[0m\u001b[0;34m\u001b[0m\u001b[0m\n\u001b[0m\u001b[1;32m    192\u001b[0m \u001b[0;34m\u001b[0m\u001b[0m\n\u001b[1;32m    193\u001b[0m     \u001b[0;34m@\u001b[0m\u001b[0mstaticmethod\u001b[0m\u001b[0;34m\u001b[0m\u001b[0;34m\u001b[0m\u001b[0m\n",
      "\u001b[0;32m~/opt/anaconda3/envs/DistributedComputing/lib/python3.9/site-packages/matplotlib/category.py\u001b[0m in \u001b[0;36mupdate\u001b[0;34m(self, data)\u001b[0m\n\u001b[1;32m    224\u001b[0m         \u001b[0;32mfor\u001b[0m \u001b[0mval\u001b[0m \u001b[0;32min\u001b[0m \u001b[0mOrderedDict\u001b[0m\u001b[0;34m.\u001b[0m\u001b[0mfromkeys\u001b[0m\u001b[0;34m(\u001b[0m\u001b[0mdata\u001b[0m\u001b[0;34m)\u001b[0m\u001b[0;34m:\u001b[0m\u001b[0;34m\u001b[0m\u001b[0;34m\u001b[0m\u001b[0m\n\u001b[1;32m    225\u001b[0m             \u001b[0;31m# OrderedDict just iterates over unique values in data.\u001b[0m\u001b[0;34m\u001b[0m\u001b[0;34m\u001b[0m\u001b[0m\n\u001b[0;32m--> 226\u001b[0;31m             \u001b[0m_api\u001b[0m\u001b[0;34m.\u001b[0m\u001b[0mcheck_isinstance\u001b[0m\u001b[0;34m(\u001b[0m\u001b[0;34m(\u001b[0m\u001b[0mstr\u001b[0m\u001b[0;34m,\u001b[0m \u001b[0mbytes\u001b[0m\u001b[0;34m)\u001b[0m\u001b[0;34m,\u001b[0m \u001b[0mvalue\u001b[0m\u001b[0;34m=\u001b[0m\u001b[0mval\u001b[0m\u001b[0;34m)\u001b[0m\u001b[0;34m\u001b[0m\u001b[0;34m\u001b[0m\u001b[0m\n\u001b[0m\u001b[1;32m    227\u001b[0m             \u001b[0;32mif\u001b[0m \u001b[0mconvertible\u001b[0m\u001b[0;34m:\u001b[0m\u001b[0;34m\u001b[0m\u001b[0;34m\u001b[0m\u001b[0m\n\u001b[1;32m    228\u001b[0m                 \u001b[0;31m# this will only be called so long as convertible is True.\u001b[0m\u001b[0;34m\u001b[0m\u001b[0;34m\u001b[0m\u001b[0m\n",
      "\u001b[0;32m~/opt/anaconda3/envs/DistributedComputing/lib/python3.9/site-packages/matplotlib/_api/__init__.py\u001b[0m in \u001b[0;36mcheck_isinstance\u001b[0;34m(_types, **kwargs)\u001b[0m\n\u001b[1;32m     91\u001b[0m                 \u001b[0mnames\u001b[0m\u001b[0;34m.\u001b[0m\u001b[0mremove\u001b[0m\u001b[0;34m(\u001b[0m\u001b[0;34m\"None\"\u001b[0m\u001b[0;34m)\u001b[0m\u001b[0;34m\u001b[0m\u001b[0;34m\u001b[0m\u001b[0m\n\u001b[1;32m     92\u001b[0m                 \u001b[0mnames\u001b[0m\u001b[0;34m.\u001b[0m\u001b[0mappend\u001b[0m\u001b[0;34m(\u001b[0m\u001b[0;34m\"None\"\u001b[0m\u001b[0;34m)\u001b[0m\u001b[0;34m\u001b[0m\u001b[0;34m\u001b[0m\u001b[0m\n\u001b[0;32m---> 93\u001b[0;31m             raise TypeError(\n\u001b[0m\u001b[1;32m     94\u001b[0m                 \"{!r} must be an instance of {}, not a {}\".format(\n\u001b[1;32m     95\u001b[0m                     \u001b[0mk\u001b[0m\u001b[0;34m,\u001b[0m\u001b[0;34m\u001b[0m\u001b[0;34m\u001b[0m\u001b[0m\n",
      "\u001b[0;31mTypeError\u001b[0m: 'value' must be an instance of str or bytes, not a None"
     ]
    },
    {
     "data": {
      "image/png": "[encoded data removed]",
      "text/plain": [
       "<Figure size 1440x4320 with 75 Axes>"
      ]
     },
     "metadata": {
      "needs_background": "light"
     },
     "output_type": "display_data"
    }
   ],
   "source": [
    "# after checking the unique values, we find the first 5 and last 20 do only have one value, so we skip them\n",
    "figure, axis = plt.subplots(15, 5, figsize =(20, 60))\n",
    "ax = axis.flatten()\n",
    "for i in range(75):\n",
    "    ax[i].hist(df[header[i]])\n",
    "    ax[i].set_xlabel(header[i])"
   ]
  },
  {
   "cell_type": "markdown",
   "id": "15a55441",
   "metadata": {},
   "source": [
    "# Basic visualization"
   ]
  },
  {
   "cell_type": "code",
   "execution_count": 60,
   "id": "a241d3a3",
   "metadata": {},
   "outputs": [],
   "source": [
    "import plotly.express as px\n",
    "import plotly.graph_objects as go"
   ]
  },
  {
   "cell_type": "markdown",
   "id": "cd60736f",
   "metadata": {},
   "source": [
    "### recipient state against total amount of payment"
   ]
  },
  {
   "cell_type": "code",
   "execution_count": 53,
   "id": "2191ff0b",
   "metadata": {
    "scrolled": true
   },
   "outputs": [
    {
     "name": "stderr",
     "output_type": "stream",
     "text": [
      "                                                                                \r"
     ]
    }
   ],
   "source": [
    "# I am interested in recipient state and total amount of payment, let's take a look\n",
    "payment_per_state = list_rdd.map(lambda x: (x[13].replace('\"',\"\"), float(x[30].replace('\"',\"\"))))\\\n",
    "                            .groupByKey().mapValues(lambda x: sum(x))\\\n",
    "                            .sortBy(lambda x : x[1], ascending = False)"
   ]
  },
  {
   "cell_type": "code",
   "execution_count": 56,
   "id": "b043d9d2",
   "metadata": {},
   "outputs": [
    {
     "data": {
      "text/html": [
       "<div>\n",
       "<style scoped>\n",
       "    .dataframe tbody tr th:only-of-type {\n",
       "        vertical-align: middle;\n",
       "    }\n",
       "\n",
       "    .dataframe tbody tr th {\n",
       "        vertical-align: top;\n",
       "    }\n",
       "\n",
       "    .dataframe thead th {\n",
       "        text-align: right;\n",
       "    }\n",
       "</style>\n",
       "<table border=\"1\" class=\"dataframe\">\n",
       "  <thead>\n",
       "    <tr style=\"text-align: right;\">\n",
       "      <th></th>\n",
       "      <th>state</th>\n",
       "      <th>amount</th>\n",
       "    </tr>\n",
       "  </thead>\n",
       "  <tbody>\n",
       "    <tr>\n",
       "      <th>0</th>\n",
       "      <td>AL</td>\n",
       "      <td>30076.71</td>\n",
       "    </tr>\n",
       "    <tr>\n",
       "      <th>1</th>\n",
       "      <td>CT</td>\n",
       "      <td>2853.42</td>\n",
       "    </tr>\n",
       "    <tr>\n",
       "      <th>2</th>\n",
       "      <td>CO</td>\n",
       "      <td>2447.95</td>\n",
       "    </tr>\n",
       "    <tr>\n",
       "      <th>3</th>\n",
       "      <td>NY</td>\n",
       "      <td>2332.55</td>\n",
       "    </tr>\n",
       "    <tr>\n",
       "      <th>4</th>\n",
       "      <td>CA</td>\n",
       "      <td>2157.28</td>\n",
       "    </tr>\n",
       "  </tbody>\n",
       "</table>\n",
       "</div>"
      ],
      "text/plain": [
       "  state    amount\n",
       "0    AL  30076.71\n",
       "1    CT   2853.42\n",
       "2    CO   2447.95\n",
       "3    NY   2332.55\n",
       "4    CA   2157.28"
      ]
     },
     "execution_count": 56,
     "metadata": {},
     "output_type": "execute_result"
    }
   ],
   "source": [
    "# convert to dataframe\n",
    "payment_per_state_df = pd.DataFrame(payment_per_state.collect(), columns=['state', 'amount'])\n",
    "payment_per_state_df.head()"
   ]
  },
  {
   "cell_type": "code",
   "execution_count": 148,
   "id": "68113596",
   "metadata": {},
   "outputs": [
    {
     "data": {
      "application/vnd.plotly.v1+json": {
       "config": {
        "plotlyServerURL": "https://plot.ly"
       },
       "data": [
        {
         "alignmentgroup": "True",
         "bingroup": "x",
         "histfunc": "sum",
         "hovertemplate": "state=%{x}<br>sum of amount=%{y}<extra></extra>",
         "legendgroup": "",
         "marker": {
          "color": "#636efa"
         },
         "name": "",
         "offsetgroup": "",
         "orientation": "v",
         "showlegend": false,
         "type": "histogram",
         "x": [
          "AL",
          "CT",
          "CO",
          "NY",
          "CA",
          "",
          "AZ",
          "WV",
          "KY",
          "NJ",
          "DC",
          "PA",
          "TX",
          "OH",
          "FL",
          "MI",
          "MD",
          "AR",
          "GA",
          "NC",
          "UT",
          "VA",
          "PR",
          "MA",
          "IL",
          "SC",
          "MN",
          "MO",
          "MT",
          "OR",
          "TN",
          "LA",
          "RI",
          "NV",
          "MS",
          "IN",
          "OK",
          "DE",
          "KS"
         ],
         "xaxis": "x",
         "y": [
          30076.71,
          2853.42,
          2447.95,
          2332.55,
          2157.28,
          2019,
          1444.72,
          1115.25,
          903.9,
          711.64,
          686.64,
          663.37,
          563.59,
          518.14,
          459.86000000000007,
          422.47999999999996,
          223.39999999999998,
          154.83,
          141.41,
          118.55999999999999,
          94.8,
          89.71,
          89.68,
          76.5,
          75.96,
          66.86,
          39.79,
          29.6,
          29.340000000000003,
          27.729999999999997,
          26.7,
          22.36,
          19.75,
          17.31,
          10.86,
          5.75,
          5.09,
          2.68,
          0.44
         ],
         "yaxis": "y"
        }
       ],
       "layout": {
        "barmode": "relative",
        "legend": {
         "tracegroupgap": 0
        },
        "margin": {
         "t": 60
        },
        "template": {
         "data": {
          "bar": [
           {
            "error_x": {
             "color": "#2a3f5f"
            },
            "error_y": {
             "color": "#2a3f5f"
            },
            "marker": {
             "line": {
              "color": "#E5ECF6",
              "width": 0.5
             }
            },
            "type": "bar"
           }
          ],
          "barpolar": [
           {
            "marker": {
             "line": {
              "color": "#E5ECF6",
              "width": 0.5
             }
            },
            "type": "barpolar"
           }
          ],
          "carpet": [
           {
            "aaxis": {
             "endlinecolor": "#2a3f5f",
             "gridcolor": "white",
             "linecolor": "white",
             "minorgridcolor": "white",
             "startlinecolor": "#2a3f5f"
            },
            "baxis": {
             "endlinecolor": "#2a3f5f",
             "gridcolor": "white",
             "linecolor": "white",
             "minorgridcolor": "white",
             "startlinecolor": "#2a3f5f"
            },
            "type": "carpet"
           }
          ],
          "choropleth": [
           {
            "colorbar": {
             "outlinewidth": 0,
             "ticks": ""
            },
            "type": "choropleth"
           }
          ],
          "contour": [
           {
            "colorbar": {
             "outlinewidth": 0,
             "ticks": ""
            },
            "colorscale": [
             [
              0,
              "#0d0887"
             ],
             [
              0.1111111111111111,
              "#46039f"
             ],
             [
              0.2222222222222222,
              "#7201a8"
             ],
             [
              0.3333333333333333,
              "#9c179e"
             ],
             [
              0.4444444444444444,
              "#bd3786"
             ],
             [
              0.5555555555555556,
              "#d8576b"
             ],
             [
              0.6666666666666666,
              "#ed7953"
             ],
             [
              0.7777777777777778,
              "#fb9f3a"
             ],
             [
              0.8888888888888888,
              "#fdca26"
             ],
             [
              1,
              "#f0f921"
             ]
            ],
            "type": "contour"
           }
          ],
          "contourcarpet": [
           {
            "colorbar": {
             "outlinewidth": 0,
             "ticks": ""
            },
            "type": "contourcarpet"
           }
          ],
          "heatmap": [
           {
            "colorbar": {
             "outlinewidth": 0,
             "ticks": ""
            },
            "colorscale": [
             [
              0,
              "#0d0887"
             ],
             [
              0.1111111111111111,
              "#46039f"
             ],
             [
              0.2222222222222222,
              "#7201a8"
             ],
             [
              0.3333333333333333,
              "#9c179e"
             ],
             [
              0.4444444444444444,
              "#bd3786"
             ],
             [
              0.5555555555555556,
              "#d8576b"
             ],
             [
              0.6666666666666666,
              "#ed7953"
             ],
             [
              0.7777777777777778,
              "#fb9f3a"
             ],
             [
              0.8888888888888888,
              "#fdca26"
             ],
             [
              1,
              "#f0f921"
             ]
            ],
            "type": "heatmap"
           }
          ],
          "heatmapgl": [
           {
            "colorbar": {
             "outlinewidth": 0,
             "ticks": ""
            },
            "colorscale": [
             [
              0,
              "#0d0887"
             ],
             [
              0.1111111111111111,
              "#46039f"
             ],
             [
              0.2222222222222222,
              "#7201a8"
             ],
             [
              0.3333333333333333,
              "#9c179e"
             ],
             [
              0.4444444444444444,
              "#bd3786"
             ],
             [
              0.5555555555555556,
              "#d8576b"
             ],
             [
              0.6666666666666666,
              "#ed7953"
             ],
             [
              0.7777777777777778,
              "#fb9f3a"
             ],
             [
              0.8888888888888888,
              "#fdca26"
             ],
             [
              1,
              "#f0f921"
             ]
            ],
            "type": "heatmapgl"
           }
          ],
          "histogram": [
           {
            "marker": {
             "colorbar": {
              "outlinewidth": 0,
              "ticks": ""
             }
            },
            "type": "histogram"
           }
          ],
          "histogram2d": [
           {
            "colorbar": {
             "outlinewidth": 0,
             "ticks": ""
            },
            "colorscale": [
             [
              0,
              "#0d0887"
             ],
             [
              0.1111111111111111,
              "#46039f"
             ],
             [
              0.2222222222222222,
              "#7201a8"
             ],
             [
              0.3333333333333333,
              "#9c179e"
             ],
             [
              0.4444444444444444,
              "#bd3786"
             ],
             [
              0.5555555555555556,
              "#d8576b"
             ],
             [
              0.6666666666666666,
              "#ed7953"
             ],
             [
              0.7777777777777778,
              "#fb9f3a"
             ],
             [
              0.8888888888888888,
              "#fdca26"
             ],
             [
              1,
              "#f0f921"
             ]
            ],
            "type": "histogram2d"
           }
          ],
          "histogram2dcontour": [
           {
            "colorbar": {
             "outlinewidth": 0,
             "ticks": ""
            },
            "colorscale": [
             [
              0,
              "#0d0887"
             ],
             [
              0.1111111111111111,
              "#46039f"
             ],
             [
              0.2222222222222222,
              "#7201a8"
             ],
             [
              0.3333333333333333,
              "#9c179e"
             ],
             [
              0.4444444444444444,
              "#bd3786"
             ],
             [
              0.5555555555555556,
              "#d8576b"
             ],
             [
              0.6666666666666666,
              "#ed7953"
             ],
             [
              0.7777777777777778,
              "#fb9f3a"
             ],
             [
              0.8888888888888888,
              "#fdca26"
             ],
             [
              1,
              "#f0f921"
             ]
            ],
            "type": "histogram2dcontour"
           }
          ],
          "mesh3d": [
           {
            "colorbar": {
             "outlinewidth": 0,
             "ticks": ""
            },
            "type": "mesh3d"
           }
          ],
          "parcoords": [
           {
            "line": {
             "colorbar": {
              "outlinewidth": 0,
              "ticks": ""
             }
            },
            "type": "parcoords"
           }
          ],
          "pie": [
           {
            "automargin": true,
            "type": "pie"
           }
          ],
          "scatter": [
           {
            "marker": {
             "colorbar": {
              "outlinewidth": 0,
              "ticks": ""
             }
            },
            "type": "scatter"
           }
          ],
          "scatter3d": [
           {
            "line": {
             "colorbar": {
              "outlinewidth": 0,
              "ticks": ""
             }
            },
            "marker": {
             "colorbar": {
              "outlinewidth": 0,
              "ticks": ""
             }
            },
            "type": "scatter3d"
           }
          ],
          "scattercarpet": [
           {
            "marker": {
             "colorbar": {
              "outlinewidth": 0,
              "ticks": ""
             }
            },
            "type": "scattercarpet"
           }
          ],
          "scattergeo": [
           {
            "marker": {
             "colorbar": {
              "outlinewidth": 0,
              "ticks": ""
             }
            },
            "type": "scattergeo"
           }
          ],
          "scattergl": [
           {
            "marker": {
             "colorbar": {
              "outlinewidth": 0,
              "ticks": ""
             }
            },
            "type": "scattergl"
           }
          ],
          "scattermapbox": [
           {
            "marker": {
             "colorbar": {
              "outlinewidth": 0,
              "ticks": ""
             }
            },
            "type": "scattermapbox"
           }
          ],
          "scatterpolar": [
           {
            "marker": {
             "colorbar": {
              "outlinewidth": 0,
              "ticks": ""
             }
            },
            "type": "scatterpolar"
           }
          ],
          "scatterpolargl": [
           {
            "marker": {
             "colorbar": {
              "outlinewidth": 0,
              "ticks": ""
             }
            },
            "type": "scatterpolargl"
           }
          ],
          "scatterternary": [
           {
            "marker": {
             "colorbar": {
              "outlinewidth": 0,
              "ticks": ""
             }
            },
            "type": "scatterternary"
           }
          ],
          "surface": [
           {
            "colorbar": {
             "outlinewidth": 0,
             "ticks": ""
            },
            "colorscale": [
             [
              0,
              "#0d0887"
             ],
             [
              0.1111111111111111,
              "#46039f"
             ],
             [
              0.2222222222222222,
              "#7201a8"
             ],
             [
              0.3333333333333333,
              "#9c179e"
             ],
             [
              0.4444444444444444,
              "#bd3786"
             ],
             [
              0.5555555555555556,
              "#d8576b"
             ],
             [
              0.6666666666666666,
              "#ed7953"
             ],
             [
              0.7777777777777778,
              "#fb9f3a"
             ],
             [
              0.8888888888888888,
              "#fdca26"
             ],
             [
              1,
              "#f0f921"
             ]
            ],
            "type": "surface"
           }
          ],
          "table": [
           {
            "cells": {
             "fill": {
              "color": "#EBF0F8"
             },
             "line": {
              "color": "white"
             }
            },
            "header": {
             "fill": {
              "color": "#C8D4E3"
             },
             "line": {
              "color": "white"
             }
            },
            "type": "table"
           }
          ]
         },
         "layout": {
          "annotationdefaults": {
           "arrowcolor": "#2a3f5f",
           "arrowhead": 0,
           "arrowwidth": 1
          },
          "autotypenumbers": "strict",
          "coloraxis": {
           "colorbar": {
            "outlinewidth": 0,
            "ticks": ""
           }
          },
          "colorscale": {
           "diverging": [
            [
             0,
             "#8e0152"
            ],
            [
             0.1,
             "#c51b7d"
            ],
            [
             0.2,
             "#de77ae"
            ],
            [
             0.3,
             "#f1b6da"
            ],
            [
             0.4,
             "#fde0ef"
            ],
            [
             0.5,
             "#f7f7f7"
            ],
            [
             0.6,
             "#e6f5d0"
            ],
            [
             0.7,
             "#b8e186"
            ],
            [
             0.8,
             "#7fbc41"
            ],
            [
             0.9,
             "#4d9221"
            ],
            [
             1,
             "#276419"
            ]
           ],
           "sequential": [
            [
             0,
             "#0d0887"
            ],
            [
             0.1111111111111111,
             "#46039f"
            ],
            [
             0.2222222222222222,
             "#7201a8"
            ],
            [
             0.3333333333333333,
             "#9c179e"
            ],
            [
             0.4444444444444444,
             "#bd3786"
            ],
            [
             0.5555555555555556,
             "#d8576b"
            ],
            [
             0.6666666666666666,
             "#ed7953"
            ],
            [
             0.7777777777777778,
             "#fb9f3a"
            ],
            [
             0.8888888888888888,
             "#fdca26"
            ],
            [
             1,
             "#f0f921"
            ]
           ],
           "sequentialminus": [
            [
             0,
             "#0d0887"
            ],
            [
             0.1111111111111111,
             "#46039f"
            ],
            [
             0.2222222222222222,
             "#7201a8"
            ],
            [
             0.3333333333333333,
             "#9c179e"
            ],
            [
             0.4444444444444444,
             "#bd3786"
            ],
            [
             0.5555555555555556,
             "#d8576b"
            ],
            [
             0.6666666666666666,
             "#ed7953"
            ],
            [
             0.7777777777777778,
             "#fb9f3a"
            ],
            [
             0.8888888888888888,
             "#fdca26"
            ],
            [
             1,
             "#f0f921"
            ]
           ]
          },
          "colorway": [
           "#636efa",
           "#EF553B",
           "#00cc96",
           "#ab63fa",
           "#FFA15A",
           "#19d3f3",
           "#FF6692",
           "#B6E880",
           "#FF97FF",
           "#FECB52"
          ],
          "font": {
           "color": "#2a3f5f"
          },
          "geo": {
           "bgcolor": "white",
           "lakecolor": "white",
           "landcolor": "#E5ECF6",
           "showlakes": true,
           "showland": true,
           "subunitcolor": "white"
          },
          "hoverlabel": {
           "align": "left"
          },
          "hovermode": "closest",
          "mapbox": {
           "style": "light"
          },
          "paper_bgcolor": "white",
          "plot_bgcolor": "#E5ECF6",
          "polar": {
           "angularaxis": {
            "gridcolor": "white",
            "linecolor": "white",
            "ticks": ""
           },
           "bgcolor": "#E5ECF6",
           "radialaxis": {
            "gridcolor": "white",
            "linecolor": "white",
            "ticks": ""
           }
          },
          "scene": {
           "xaxis": {
            "backgroundcolor": "#E5ECF6",
            "gridcolor": "white",
            "gridwidth": 2,
            "linecolor": "white",
            "showbackground": true,
            "ticks": "",
            "zerolinecolor": "white"
           },
           "yaxis": {
            "backgroundcolor": "#E5ECF6",
            "gridcolor": "white",
            "gridwidth": 2,
            "linecolor": "white",
            "showbackground": true,
            "ticks": "",
            "zerolinecolor": "white"
           },
           "zaxis": {
            "backgroundcolor": "#E5ECF6",
            "gridcolor": "white",
            "gridwidth": 2,
            "linecolor": "white",
            "showbackground": true,
            "ticks": "",
            "zerolinecolor": "white"
           }
          },
          "shapedefaults": {
           "line": {
            "color": "#2a3f5f"
           }
          },
          "ternary": {
           "aaxis": {
            "gridcolor": "white",
            "linecolor": "white",
            "ticks": ""
           },
           "baxis": {
            "gridcolor": "white",
            "linecolor": "white",
            "ticks": ""
           },
           "bgcolor": "#E5ECF6",
           "caxis": {
            "gridcolor": "white",
            "linecolor": "white",
            "ticks": ""
           }
          },
          "title": {
           "x": 0.05
          },
          "xaxis": {
           "automargin": true,
           "gridcolor": "white",
           "linecolor": "white",
           "ticks": "",
           "title": {
            "standoff": 15
           },
           "zerolinecolor": "white",
           "zerolinewidth": 2
          },
          "yaxis": {
           "automargin": true,
           "gridcolor": "white",
           "linecolor": "white",
           "ticks": "",
           "title": {
            "standoff": 15
           },
           "zerolinecolor": "white",
           "zerolinewidth": 2
          }
         }
        },
        "xaxis": {
         "anchor": "y",
         "domain": [
          0,
          1
         ],
         "title": {
          "text": "state"
         }
        },
        "yaxis": {
         "anchor": "x",
         "domain": [
          0,
          1
         ],
         "title": {
          "text": "sum of amount"
         }
        }
       }
      },
      "text/html": [
       "<div>                            <div id=\"c64d99a3-247f-4276-965d-14d9f708c0fe\" class=\"plotly-graph-div\" style=\"height:525px; width:100%;\"></div>            <script type=\"text/javascript\">                require([\"plotly\"], function(Plotly) {                    window.PLOTLYENV=window.PLOTLYENV || {};                                    if (document.getElementById(\"c64d99a3-247f-4276-965d-14d9f708c0fe\")) {                    Plotly.newPlot(                        \"c64d99a3-247f-4276-965d-14d9f708c0fe\",                        [{\"alignmentgroup\": \"True\", \"bingroup\": \"x\", \"histfunc\": \"sum\", \"hovertemplate\": \"state=%{x}<br>sum of amount=%{y}<extra></extra>\", \"legendgroup\": \"\", \"marker\": {\"color\": \"#636efa\"}, \"name\": \"\", \"offsetgroup\": \"\", \"orientation\": \"v\", \"showlegend\": false, \"type\": \"histogram\", \"x\": [\"AL\", \"CT\", \"CO\", \"NY\", \"CA\", \"\", \"AZ\", \"WV\", \"KY\", \"NJ\", \"DC\", \"PA\", \"TX\", \"OH\", \"FL\", \"MI\", \"MD\", \"AR\", \"GA\", \"NC\", \"UT\", \"VA\", \"PR\", \"MA\", \"IL\", \"SC\", \"MN\", \"MO\", \"MT\", \"OR\", \"TN\", \"LA\", \"RI\", \"NV\", \"MS\", \"IN\", \"OK\", \"DE\", \"KS\"], \"xaxis\": \"x\", \"y\": [30076.71, 2853.42, 2447.95, 2332.55, 2157.28, 2019.0, 1444.72, 1115.25, 903.9, 711.64, 686.64, 663.37, 563.59, 518.14, 459.86000000000007, 422.47999999999996, 223.39999999999998, 154.83, 141.41, 118.55999999999999, 94.8, 89.71, 89.68, 76.5, 75.96, 66.86, 39.79, 29.6, 29.340000000000003, 27.729999999999997, 26.7, 22.36, 19.75, 17.31, 10.86, 5.75, 5.09, 2.68, 0.44], \"yaxis\": \"y\"}],                        {\"barmode\": \"relative\", \"legend\": {\"tracegroupgap\": 0}, \"margin\": {\"t\": 60}, \"template\": {\"data\": {\"bar\": [{\"error_x\": {\"color\": \"#2a3f5f\"}, \"error_y\": {\"color\": \"#2a3f5f\"}, \"marker\": {\"line\": {\"color\": \"#E5ECF6\", \"width\": 0.5}}, \"type\": \"bar\"}], \"barpolar\": [{\"marker\": {\"line\": {\"color\": \"#E5ECF6\", \"width\": 0.5}}, \"type\": \"barpolar\"}], \"carpet\": [{\"aaxis\": {\"endlinecolor\": \"#2a3f5f\", \"gridcolor\": \"white\", \"linecolor\": \"white\", \"minorgridcolor\": \"white\", \"startlinecolor\": \"#2a3f5f\"}, \"baxis\": {\"endlinecolor\": \"#2a3f5f\", \"gridcolor\": \"white\", \"linecolor\": \"white\", \"minorgridcolor\": \"white\", \"startlinecolor\": \"#2a3f5f\"}, \"type\": \"carpet\"}], \"choropleth\": [{\"colorbar\": {\"outlinewidth\": 0, \"ticks\": \"\"}, \"type\": \"choropleth\"}], \"contour\": [{\"colorbar\": {\"outlinewidth\": 0, \"ticks\": \"\"}, \"colorscale\": [[0.0, \"#0d0887\"], [0.1111111111111111, \"#46039f\"], [0.2222222222222222, \"#7201a8\"], [0.3333333333333333, \"#9c179e\"], [0.4444444444444444, \"#bd3786\"], [0.5555555555555556, \"#d8576b\"], [0.6666666666666666, \"#ed7953\"], [0.7777777777777778, \"#fb9f3a\"], [0.8888888888888888, \"#fdca26\"], [1.0, \"#f0f921\"]], \"type\": \"contour\"}], \"contourcarpet\": [{\"colorbar\": {\"outlinewidth\": 0, \"ticks\": \"\"}, \"type\": \"contourcarpet\"}], \"heatmap\": [{\"colorbar\": {\"outlinewidth\": 0, \"ticks\": \"\"}, \"colorscale\": [[0.0, \"#0d0887\"], [0.1111111111111111, \"#46039f\"], [0.2222222222222222, \"#7201a8\"], [0.3333333333333333, \"#9c179e\"], [0.4444444444444444, \"#bd3786\"], [0.5555555555555556, \"#d8576b\"], [0.6666666666666666, \"#ed7953\"], [0.7777777777777778, \"#fb9f3a\"], [0.8888888888888888, \"#fdca26\"], [1.0, \"#f0f921\"]], \"type\": \"heatmap\"}], \"heatmapgl\": [{\"colorbar\": {\"outlinewidth\": 0, \"ticks\": \"\"}, \"colorscale\": [[0.0, \"#0d0887\"], [0.1111111111111111, \"#46039f\"], [0.2222222222222222, \"#7201a8\"], [0.3333333333333333, \"#9c179e\"], [0.4444444444444444, \"#bd3786\"], [0.5555555555555556, \"#d8576b\"], [0.6666666666666666, \"#ed7953\"], [0.7777777777777778, \"#fb9f3a\"], [0.8888888888888888, \"#fdca26\"], [1.0, \"#f0f921\"]], \"type\": \"heatmapgl\"}], \"histogram\": [{\"marker\": {\"colorbar\": {\"outlinewidth\": 0, \"ticks\": \"\"}}, \"type\": \"histogram\"}], \"histogram2d\": [{\"colorbar\": {\"outlinewidth\": 0, \"ticks\": \"\"}, \"colorscale\": [[0.0, \"#0d0887\"], [0.1111111111111111, \"#46039f\"], [0.2222222222222222, \"#7201a8\"], [0.3333333333333333, \"#9c179e\"], [0.4444444444444444, \"#bd3786\"], [0.5555555555555556, \"#d8576b\"], [0.6666666666666666, \"#ed7953\"], [0.7777777777777778, \"#fb9f3a\"], [0.8888888888888888, \"#fdca26\"], [1.0, \"#f0f921\"]], \"type\": \"histogram2d\"}], \"histogram2dcontour\": [{\"colorbar\": {\"outlinewidth\": 0, \"ticks\": \"\"}, \"colorscale\": [[0.0, \"#0d0887\"], [0.1111111111111111, \"#46039f\"], [0.2222222222222222, \"#7201a8\"], [0.3333333333333333, \"#9c179e\"], [0.4444444444444444, \"#bd3786\"], [0.5555555555555556, \"#d8576b\"], [0.6666666666666666, \"#ed7953\"], [0.7777777777777778, \"#fb9f3a\"], [0.8888888888888888, \"#fdca26\"], [1.0, \"#f0f921\"]], \"type\": \"histogram2dcontour\"}], \"mesh3d\": [{\"colorbar\": {\"outlinewidth\": 0, \"ticks\": \"\"}, \"type\": \"mesh3d\"}], \"parcoords\": [{\"line\": {\"colorbar\": {\"outlinewidth\": 0, \"ticks\": \"\"}}, \"type\": \"parcoords\"}], \"pie\": [{\"automargin\": true, \"type\": \"pie\"}], \"scatter\": [{\"marker\": {\"colorbar\": {\"outlinewidth\": 0, \"ticks\": \"\"}}, \"type\": \"scatter\"}], \"scatter3d\": [{\"line\": {\"colorbar\": {\"outlinewidth\": 0, \"ticks\": \"\"}}, \"marker\": {\"colorbar\": {\"outlinewidth\": 0, \"ticks\": \"\"}}, \"type\": \"scatter3d\"}], \"scattercarpet\": [{\"marker\": {\"colorbar\": {\"outlinewidth\": 0, \"ticks\": \"\"}}, \"type\": \"scattercarpet\"}], \"scattergeo\": [{\"marker\": {\"colorbar\": {\"outlinewidth\": 0, \"ticks\": \"\"}}, \"type\": \"scattergeo\"}], \"scattergl\": [{\"marker\": {\"colorbar\": {\"outlinewidth\": 0, \"ticks\": \"\"}}, \"type\": \"scattergl\"}], \"scattermapbox\": [{\"marker\": {\"colorbar\": {\"outlinewidth\": 0, \"ticks\": \"\"}}, \"type\": \"scattermapbox\"}], \"scatterpolar\": [{\"marker\": {\"colorbar\": {\"outlinewidth\": 0, \"ticks\": \"\"}}, \"type\": \"scatterpolar\"}], \"scatterpolargl\": [{\"marker\": {\"colorbar\": {\"outlinewidth\": 0, \"ticks\": \"\"}}, \"type\": \"scatterpolargl\"}], \"scatterternary\": [{\"marker\": {\"colorbar\": {\"outlinewidth\": 0, \"ticks\": \"\"}}, \"type\": \"scatterternary\"}], \"surface\": [{\"colorbar\": {\"outlinewidth\": 0, \"ticks\": \"\"}, \"colorscale\": [[0.0, \"#0d0887\"], [0.1111111111111111, \"#46039f\"], [0.2222222222222222, \"#7201a8\"], [0.3333333333333333, \"#9c179e\"], [0.4444444444444444, \"#bd3786\"], [0.5555555555555556, \"#d8576b\"], [0.6666666666666666, \"#ed7953\"], [0.7777777777777778, \"#fb9f3a\"], [0.8888888888888888, \"#fdca26\"], [1.0, \"#f0f921\"]], \"type\": \"surface\"}], \"table\": [{\"cells\": {\"fill\": {\"color\": \"#EBF0F8\"}, \"line\": {\"color\": \"white\"}}, \"header\": {\"fill\": {\"color\": \"#C8D4E3\"}, \"line\": {\"color\": \"white\"}}, \"type\": \"table\"}]}, \"layout\": {\"annotationdefaults\": {\"arrowcolor\": \"#2a3f5f\", \"arrowhead\": 0, \"arrowwidth\": 1}, \"autotypenumbers\": \"strict\", \"coloraxis\": {\"colorbar\": {\"outlinewidth\": 0, \"ticks\": \"\"}}, \"colorscale\": {\"diverging\": [[0, \"#8e0152\"], [0.1, \"#c51b7d\"], [0.2, \"#de77ae\"], [0.3, \"#f1b6da\"], [0.4, \"#fde0ef\"], [0.5, \"#f7f7f7\"], [0.6, \"#e6f5d0\"], [0.7, \"#b8e186\"], [0.8, \"#7fbc41\"], [0.9, \"#4d9221\"], [1, \"#276419\"]], \"sequential\": [[0.0, \"#0d0887\"], [0.1111111111111111, \"#46039f\"], [0.2222222222222222, \"#7201a8\"], [0.3333333333333333, \"#9c179e\"], [0.4444444444444444, \"#bd3786\"], [0.5555555555555556, \"#d8576b\"], [0.6666666666666666, \"#ed7953\"], [0.7777777777777778, \"#fb9f3a\"], [0.8888888888888888, \"#fdca26\"], [1.0, \"#f0f921\"]], \"sequentialminus\": [[0.0, \"#0d0887\"], [0.1111111111111111, \"#46039f\"], [0.2222222222222222, \"#7201a8\"], [0.3333333333333333, \"#9c179e\"], [0.4444444444444444, \"#bd3786\"], [0.5555555555555556, \"#d8576b\"], [0.6666666666666666, \"#ed7953\"], [0.7777777777777778, \"#fb9f3a\"], [0.8888888888888888, \"#fdca26\"], [1.0, \"#f0f921\"]]}, \"colorway\": [\"#636efa\", \"#EF553B\", \"#00cc96\", \"#ab63fa\", \"#FFA15A\", \"#19d3f3\", \"#FF6692\", \"#B6E880\", \"#FF97FF\", \"#FECB52\"], \"font\": {\"color\": \"#2a3f5f\"}, \"geo\": {\"bgcolor\": \"white\", \"lakecolor\": \"white\", \"landcolor\": \"#E5ECF6\", \"showlakes\": true, \"showland\": true, \"subunitcolor\": \"white\"}, \"hoverlabel\": {\"align\": \"left\"}, \"hovermode\": \"closest\", \"mapbox\": {\"style\": \"light\"}, \"paper_bgcolor\": \"white\", \"plot_bgcolor\": \"#E5ECF6\", \"polar\": {\"angularaxis\": {\"gridcolor\": \"white\", \"linecolor\": \"white\", \"ticks\": \"\"}, \"bgcolor\": \"#E5ECF6\", \"radialaxis\": {\"gridcolor\": \"white\", \"linecolor\": \"white\", \"ticks\": \"\"}}, \"scene\": {\"xaxis\": {\"backgroundcolor\": \"#E5ECF6\", \"gridcolor\": \"white\", \"gridwidth\": 2, \"linecolor\": \"white\", \"showbackground\": true, \"ticks\": \"\", \"zerolinecolor\": \"white\"}, \"yaxis\": {\"backgroundcolor\": \"#E5ECF6\", \"gridcolor\": \"white\", \"gridwidth\": 2, \"linecolor\": \"white\", \"showbackground\": true, \"ticks\": \"\", \"zerolinecolor\": \"white\"}, \"zaxis\": {\"backgroundcolor\": \"#E5ECF6\", \"gridcolor\": \"white\", \"gridwidth\": 2, \"linecolor\": \"white\", \"showbackground\": true, \"ticks\": \"\", \"zerolinecolor\": \"white\"}}, \"shapedefaults\": {\"line\": {\"color\": \"#2a3f5f\"}}, \"ternary\": {\"aaxis\": {\"gridcolor\": \"white\", \"linecolor\": \"white\", \"ticks\": \"\"}, \"baxis\": {\"gridcolor\": \"white\", \"linecolor\": \"white\", \"ticks\": \"\"}, \"bgcolor\": \"#E5ECF6\", \"caxis\": {\"gridcolor\": \"white\", \"linecolor\": \"white\", \"ticks\": \"\"}}, \"title\": {\"x\": 0.05}, \"xaxis\": {\"automargin\": true, \"gridcolor\": \"white\", \"linecolor\": \"white\", \"ticks\": \"\", \"title\": {\"standoff\": 15}, \"zerolinecolor\": \"white\", \"zerolinewidth\": 2}, \"yaxis\": {\"automargin\": true, \"gridcolor\": \"white\", \"linecolor\": \"white\", \"ticks\": \"\", \"title\": {\"standoff\": 15}, \"zerolinecolor\": \"white\", \"zerolinewidth\": 2}}}, \"xaxis\": {\"anchor\": \"y\", \"domain\": [0.0, 1.0], \"title\": {\"text\": \"state\"}}, \"yaxis\": {\"anchor\": \"x\", \"domain\": [0.0, 1.0], \"title\": {\"text\": \"sum of amount\"}}},                        {\"responsive\": true}                    ).then(function(){\n",
       "                            \n",
       "var gd = document.getElementById('c64d99a3-247f-4276-965d-14d9f708c0fe');\n",
       "var x = new MutationObserver(function (mutations, observer) {{\n",
       "        var display = window.getComputedStyle(gd).display;\n",
       "        if (!display || display === 'none') {{\n",
       "            console.log([gd, 'removed!']);\n",
       "            Plotly.purge(gd);\n",
       "            observer.disconnect();\n",
       "        }}\n",
       "}});\n",
       "\n",
       "// Listen for the removal of the full notebook cells\n",
       "var notebookContainer = gd.closest('#notebook-container');\n",
       "if (notebookContainer) {{\n",
       "    x.observe(notebookContainer, {childList: true});\n",
       "}}\n",
       "\n",
       "// Listen for the clearing of the current output cell\n",
       "var outputEl = gd.closest('.output');\n",
       "if (outputEl) {{\n",
       "    x.observe(outputEl, {childList: true});\n",
       "}}\n",
       "\n",
       "                        })                };                });            </script>        </div>"
      ]
     },
     "metadata": {},
     "output_type": "display_data"
    }
   ],
   "source": [
    "# plot\n",
    "fig1 = px.histogram(payment_per_state_df, x='state', y='amount')\n",
    "fig1.show()"
   ]
  },
  {
   "cell_type": "code",
   "execution_count": 149,
   "id": "cc43ad39",
   "metadata": {},
   "outputs": [
    {
     "data": {
      "application/vnd.plotly.v1+json": {
       "config": {
        "plotlyServerURL": "https://plot.ly"
       },
       "data": [
        {
         "colorbar": {
          "title": {
           "text": "dollar"
          }
         },
         "colorscale": [
          [
           0,
           "rgb(255,245,240)"
          ],
          [
           0.125,
           "rgb(254,224,210)"
          ],
          [
           0.25,
           "rgb(252,187,161)"
          ],
          [
           0.375,
           "rgb(252,146,114)"
          ],
          [
           0.5,
           "rgb(251,106,74)"
          ],
          [
           0.625,
           "rgb(239,59,44)"
          ],
          [
           0.75,
           "rgb(203,24,29)"
          ],
          [
           0.875,
           "rgb(165,15,21)"
          ],
          [
           1,
           "rgb(103,0,13)"
          ]
         ],
         "locationmode": "USA-states",
         "locations": [
          "AL",
          "CT",
          "CO",
          "NY",
          "CA",
          "",
          "AZ",
          "WV",
          "KY",
          "NJ",
          "DC",
          "PA",
          "TX",
          "OH",
          "FL",
          "MI",
          "MD",
          "AR",
          "GA",
          "NC",
          "UT",
          "VA",
          "PR",
          "MA",
          "IL",
          "SC",
          "MN",
          "MO",
          "MT",
          "OR",
          "TN",
          "LA",
          "RI",
          "NV",
          "MS",
          "IN",
          "OK",
          "DE",
          "KS"
         ],
         "type": "choropleth",
         "z": [
          30076.71,
          2853.42,
          2447.95,
          2332.55,
          2157.28,
          2019,
          1444.72,
          1115.25,
          903.9,
          711.64,
          686.64,
          663.37,
          563.59,
          518.14,
          459.86000000000007,
          422.47999999999996,
          223.39999999999998,
          154.83,
          141.41,
          118.55999999999999,
          94.8,
          89.71,
          89.68,
          76.5,
          75.96,
          66.86,
          39.79,
          29.6,
          29.340000000000003,
          27.729999999999997,
          26.7,
          22.36,
          19.75,
          17.31,
          10.86,
          5.75,
          5.09,
          2.68,
          0.44
         ]
        }
       ],
       "layout": {
        "geo": {
         "scope": "usa"
        },
        "template": {
         "data": {
          "bar": [
           {
            "error_x": {
             "color": "#2a3f5f"
            },
            "error_y": {
             "color": "#2a3f5f"
            },
            "marker": {
             "line": {
              "color": "#E5ECF6",
              "width": 0.5
             }
            },
            "type": "bar"
           }
          ],
          "barpolar": [
           {
            "marker": {
             "line": {
              "color": "#E5ECF6",
              "width": 0.5
             }
            },
            "type": "barpolar"
           }
          ],
          "carpet": [
           {
            "aaxis": {
             "endlinecolor": "#2a3f5f",
             "gridcolor": "white",
             "linecolor": "white",
             "minorgridcolor": "white",
             "startlinecolor": "#2a3f5f"
            },
            "baxis": {
             "endlinecolor": "#2a3f5f",
             "gridcolor": "white",
             "linecolor": "white",
             "minorgridcolor": "white",
             "startlinecolor": "#2a3f5f"
            },
            "type": "carpet"
           }
          ],
          "choropleth": [
           {
            "colorbar": {
             "outlinewidth": 0,
             "ticks": ""
            },
            "type": "choropleth"
           }
          ],
          "contour": [
           {
            "colorbar": {
             "outlinewidth": 0,
             "ticks": ""
            },
            "colorscale": [
             [
              0,
              "#0d0887"
             ],
             [
              0.1111111111111111,
              "#46039f"
             ],
             [
              0.2222222222222222,
              "#7201a8"
             ],
             [
              0.3333333333333333,
              "#9c179e"
             ],
             [
              0.4444444444444444,
              "#bd3786"
             ],
             [
              0.5555555555555556,
              "#d8576b"
             ],
             [
              0.6666666666666666,
              "#ed7953"
             ],
             [
              0.7777777777777778,
              "#fb9f3a"
             ],
             [
              0.8888888888888888,
              "#fdca26"
             ],
             [
              1,
              "#f0f921"
             ]
            ],
            "type": "contour"
           }
          ],
          "contourcarpet": [
           {
            "colorbar": {
             "outlinewidth": 0,
             "ticks": ""
            },
            "type": "contourcarpet"
           }
          ],
          "heatmap": [
           {
            "colorbar": {
             "outlinewidth": 0,
             "ticks": ""
            },
            "colorscale": [
             [
              0,
              "#0d0887"
             ],
             [
              0.1111111111111111,
              "#46039f"
             ],
             [
              0.2222222222222222,
              "#7201a8"
             ],
             [
              0.3333333333333333,
              "#9c179e"
             ],
             [
              0.4444444444444444,
              "#bd3786"
             ],
             [
              0.5555555555555556,
              "#d8576b"
             ],
             [
              0.6666666666666666,
              "#ed7953"
             ],
             [
              0.7777777777777778,
              "#fb9f3a"
             ],
             [
              0.8888888888888888,
              "#fdca26"
             ],
             [
              1,
              "#f0f921"
             ]
            ],
            "type": "heatmap"
           }
          ],
          "heatmapgl": [
           {
            "colorbar": {
             "outlinewidth": 0,
             "ticks": ""
            },
            "colorscale": [
             [
              0,
              "#0d0887"
             ],
             [
              0.1111111111111111,
              "#46039f"
             ],
             [
              0.2222222222222222,
              "#7201a8"
             ],
             [
              0.3333333333333333,
              "#9c179e"
             ],
             [
              0.4444444444444444,
              "#bd3786"
             ],
             [
              0.5555555555555556,
              "#d8576b"
             ],
             [
              0.6666666666666666,
              "#ed7953"
             ],
             [
              0.7777777777777778,
              "#fb9f3a"
             ],
             [
              0.8888888888888888,
              "#fdca26"
             ],
             [
              1,
              "#f0f921"
             ]
            ],
            "type": "heatmapgl"
           }
          ],
          "histogram": [
           {
            "marker": {
             "colorbar": {
              "outlinewidth": 0,
              "ticks": ""
             }
            },
            "type": "histogram"
           }
          ],
          "histogram2d": [
           {
            "colorbar": {
             "outlinewidth": 0,
             "ticks": ""
            },
            "colorscale": [
             [
              0,
              "#0d0887"
             ],
             [
              0.1111111111111111,
              "#46039f"
             ],
             [
              0.2222222222222222,
              "#7201a8"
             ],
             [
              0.3333333333333333,
              "#9c179e"
             ],
             [
              0.4444444444444444,
              "#bd3786"
             ],
             [
              0.5555555555555556,
              "#d8576b"
             ],
             [
              0.6666666666666666,
              "#ed7953"
             ],
             [
              0.7777777777777778,
              "#fb9f3a"
             ],
             [
              0.8888888888888888,
              "#fdca26"
             ],
             [
              1,
              "#f0f921"
             ]
            ],
            "type": "histogram2d"
           }
          ],
          "histogram2dcontour": [
           {
            "colorbar": {
             "outlinewidth": 0,
             "ticks": ""
            },
            "colorscale": [
             [
              0,
              "#0d0887"
             ],
             [
              0.1111111111111111,
              "#46039f"
             ],
             [
              0.2222222222222222,
              "#7201a8"
             ],
             [
              0.3333333333333333,
              "#9c179e"
             ],
             [
              0.4444444444444444,
              "#bd3786"
             ],
             [
              0.5555555555555556,
              "#d8576b"
             ],
             [
              0.6666666666666666,
              "#ed7953"
             ],
             [
              0.7777777777777778,
              "#fb9f3a"
             ],
             [
              0.8888888888888888,
              "#fdca26"
             ],
             [
              1,
              "#f0f921"
             ]
            ],
            "type": "histogram2dcontour"
           }
          ],
          "mesh3d": [
           {
            "colorbar": {
             "outlinewidth": 0,
             "ticks": ""
            },
            "type": "mesh3d"
           }
          ],
          "parcoords": [
           {
            "line": {
             "colorbar": {
              "outlinewidth": 0,
              "ticks": ""
             }
            },
            "type": "parcoords"
           }
          ],
          "pie": [
           {
            "automargin": true,
            "type": "pie"
           }
          ],
          "scatter": [
           {
            "marker": {
             "colorbar": {
              "outlinewidth": 0,
              "ticks": ""
             }
            },
            "type": "scatter"
           }
          ],
          "scatter3d": [
           {
            "line": {
             "colorbar": {
              "outlinewidth": 0,
              "ticks": ""
             }
            },
            "marker": {
             "colorbar": {
              "outlinewidth": 0,
              "ticks": ""
             }
            },
            "type": "scatter3d"
           }
          ],
          "scattercarpet": [
           {
            "marker": {
             "colorbar": {
              "outlinewidth": 0,
              "ticks": ""
             }
            },
            "type": "scattercarpet"
           }
          ],
          "scattergeo": [
           {
            "marker": {
             "colorbar": {
              "outlinewidth": 0,
              "ticks": ""
             }
            },
            "type": "scattergeo"
           }
          ],
          "scattergl": [
           {
            "marker": {
             "colorbar": {
              "outlinewidth": 0,
              "ticks": ""
             }
            },
            "type": "scattergl"
           }
          ],
          "scattermapbox": [
           {
            "marker": {
             "colorbar": {
              "outlinewidth": 0,
              "ticks": ""
             }
            },
            "type": "scattermapbox"
           }
          ],
          "scatterpolar": [
           {
            "marker": {
             "colorbar": {
              "outlinewidth": 0,
              "ticks": ""
             }
            },
            "type": "scatterpolar"
           }
          ],
          "scatterpolargl": [
           {
            "marker": {
             "colorbar": {
              "outlinewidth": 0,
              "ticks": ""
             }
            },
            "type": "scatterpolargl"
           }
          ],
          "scatterternary": [
           {
            "marker": {
             "colorbar": {
              "outlinewidth": 0,
              "ticks": ""
             }
            },
            "type": "scatterternary"
           }
          ],
          "surface": [
           {
            "colorbar": {
             "outlinewidth": 0,
             "ticks": ""
            },
            "colorscale": [
             [
              0,
              "#0d0887"
             ],
             [
              0.1111111111111111,
              "#46039f"
             ],
             [
              0.2222222222222222,
              "#7201a8"
             ],
             [
              0.3333333333333333,
              "#9c179e"
             ],
             [
              0.4444444444444444,
              "#bd3786"
             ],
             [
              0.5555555555555556,
              "#d8576b"
             ],
             [
              0.6666666666666666,
              "#ed7953"
             ],
             [
              0.7777777777777778,
              "#fb9f3a"
             ],
             [
              0.8888888888888888,
              "#fdca26"
             ],
             [
              1,
              "#f0f921"
             ]
            ],
            "type": "surface"
           }
          ],
          "table": [
           {
            "cells": {
             "fill": {
              "color": "#EBF0F8"
             },
             "line": {
              "color": "white"
             }
            },
            "header": {
             "fill": {
              "color": "#C8D4E3"
             },
             "line": {
              "color": "white"
             }
            },
            "type": "table"
           }
          ]
         },
         "layout": {
          "annotationdefaults": {
           "arrowcolor": "#2a3f5f",
           "arrowhead": 0,
           "arrowwidth": 1
          },
          "autotypenumbers": "strict",
          "coloraxis": {
           "colorbar": {
            "outlinewidth": 0,
            "ticks": ""
           }
          },
          "colorscale": {
           "diverging": [
            [
             0,
             "#8e0152"
            ],
            [
             0.1,
             "#c51b7d"
            ],
            [
             0.2,
             "#de77ae"
            ],
            [
             0.3,
             "#f1b6da"
            ],
            [
             0.4,
             "#fde0ef"
            ],
            [
             0.5,
             "#f7f7f7"
            ],
            [
             0.6,
             "#e6f5d0"
            ],
            [
             0.7,
             "#b8e186"
            ],
            [
             0.8,
             "#7fbc41"
            ],
            [
             0.9,
             "#4d9221"
            ],
            [
             1,
             "#276419"
            ]
           ],
           "sequential": [
            [
             0,
             "#0d0887"
            ],
            [
             0.1111111111111111,
             "#46039f"
            ],
            [
             0.2222222222222222,
             "#7201a8"
            ],
            [
             0.3333333333333333,
             "#9c179e"
            ],
            [
             0.4444444444444444,
             "#bd3786"
            ],
            [
             0.5555555555555556,
             "#d8576b"
            ],
            [
             0.6666666666666666,
             "#ed7953"
            ],
            [
             0.7777777777777778,
             "#fb9f3a"
            ],
            [
             0.8888888888888888,
             "#fdca26"
            ],
            [
             1,
             "#f0f921"
            ]
           ],
           "sequentialminus": [
            [
             0,
             "#0d0887"
            ],
            [
             0.1111111111111111,
             "#46039f"
            ],
            [
             0.2222222222222222,
             "#7201a8"
            ],
            [
             0.3333333333333333,
             "#9c179e"
            ],
            [
             0.4444444444444444,
             "#bd3786"
            ],
            [
             0.5555555555555556,
             "#d8576b"
            ],
            [
             0.6666666666666666,
             "#ed7953"
            ],
            [
             0.7777777777777778,
             "#fb9f3a"
            ],
            [
             0.8888888888888888,
             "#fdca26"
            ],
            [
             1,
             "#f0f921"
            ]
           ]
          },
          "colorway": [
           "#636efa",
           "#EF553B",
           "#00cc96",
           "#ab63fa",
           "#FFA15A",
           "#19d3f3",
           "#FF6692",
           "#B6E880",
           "#FF97FF",
           "#FECB52"
          ],
          "font": {
           "color": "#2a3f5f"
          },
          "geo": {
           "bgcolor": "white",
           "lakecolor": "white",
           "landcolor": "#E5ECF6",
           "showlakes": true,
           "showland": true,
           "subunitcolor": "white"
          },
          "hoverlabel": {
           "align": "left"
          },
          "hovermode": "closest",
          "mapbox": {
           "style": "light"
          },
          "paper_bgcolor": "white",
          "plot_bgcolor": "#E5ECF6",
          "polar": {
           "angularaxis": {
            "gridcolor": "white",
            "linecolor": "white",
            "ticks": ""
           },
           "bgcolor": "#E5ECF6",
           "radialaxis": {
            "gridcolor": "white",
            "linecolor": "white",
            "ticks": ""
           }
          },
          "scene": {
           "xaxis": {
            "backgroundcolor": "#E5ECF6",
            "gridcolor": "white",
            "gridwidth": 2,
            "linecolor": "white",
            "showbackground": true,
            "ticks": "",
            "zerolinecolor": "white"
           },
           "yaxis": {
            "backgroundcolor": "#E5ECF6",
            "gridcolor": "white",
            "gridwidth": 2,
            "linecolor": "white",
            "showbackground": true,
            "ticks": "",
            "zerolinecolor": "white"
           },
           "zaxis": {
            "backgroundcolor": "#E5ECF6",
            "gridcolor": "white",
            "gridwidth": 2,
            "linecolor": "white",
            "showbackground": true,
            "ticks": "",
            "zerolinecolor": "white"
           }
          },
          "shapedefaults": {
           "line": {
            "color": "#2a3f5f"
           }
          },
          "ternary": {
           "aaxis": {
            "gridcolor": "white",
            "linecolor": "white",
            "ticks": ""
           },
           "baxis": {
            "gridcolor": "white",
            "linecolor": "white",
            "ticks": ""
           },
           "bgcolor": "#E5ECF6",
           "caxis": {
            "gridcolor": "white",
            "linecolor": "white",
            "ticks": ""
           }
          },
          "title": {
           "x": 0.05
          },
          "xaxis": {
           "automargin": true,
           "gridcolor": "white",
           "linecolor": "white",
           "ticks": "",
           "title": {
            "standoff": 15
           },
           "zerolinecolor": "white",
           "zerolinewidth": 2
          },
          "yaxis": {
           "automargin": true,
           "gridcolor": "white",
           "linecolor": "white",
           "ticks": "",
           "title": {
            "standoff": 15
           },
           "zerolinecolor": "white",
           "zerolinewidth": 2
          }
         }
        },
        "title": {
         "text": "Payment Received Per State"
        }
       }
      },
      "text/html": [
       "<div>                            <div id=\"e813c145-bc96-49df-985c-27ce0c40cc88\" class=\"plotly-graph-div\" style=\"height:525px; width:100%;\"></div>            <script type=\"text/javascript\">                require([\"plotly\"], function(Plotly) {                    window.PLOTLYENV=window.PLOTLYENV || {};                                    if (document.getElementById(\"e813c145-bc96-49df-985c-27ce0c40cc88\")) {                    Plotly.newPlot(                        \"e813c145-bc96-49df-985c-27ce0c40cc88\",                        [{\"colorbar\": {\"title\": {\"text\": \"dollar\"}}, \"colorscale\": [[0.0, \"rgb(255,245,240)\"], [0.125, \"rgb(254,224,210)\"], [0.25, \"rgb(252,187,161)\"], [0.375, \"rgb(252,146,114)\"], [0.5, \"rgb(251,106,74)\"], [0.625, \"rgb(239,59,44)\"], [0.75, \"rgb(203,24,29)\"], [0.875, \"rgb(165,15,21)\"], [1.0, \"rgb(103,0,13)\"]], \"locationmode\": \"USA-states\", \"locations\": [\"AL\", \"CT\", \"CO\", \"NY\", \"CA\", \"\", \"AZ\", \"WV\", \"KY\", \"NJ\", \"DC\", \"PA\", \"TX\", \"OH\", \"FL\", \"MI\", \"MD\", \"AR\", \"GA\", \"NC\", \"UT\", \"VA\", \"PR\", \"MA\", \"IL\", \"SC\", \"MN\", \"MO\", \"MT\", \"OR\", \"TN\", \"LA\", \"RI\", \"NV\", \"MS\", \"IN\", \"OK\", \"DE\", \"KS\"], \"type\": \"choropleth\", \"z\": [30076.71, 2853.42, 2447.95, 2332.55, 2157.28, 2019.0, 1444.72, 1115.25, 903.9, 711.64, 686.64, 663.37, 563.59, 518.14, 459.86000000000007, 422.47999999999996, 223.39999999999998, 154.83, 141.41, 118.55999999999999, 94.8, 89.71, 89.68, 76.5, 75.96, 66.86, 39.79, 29.6, 29.340000000000003, 27.729999999999997, 26.7, 22.36, 19.75, 17.31, 10.86, 5.75, 5.09, 2.68, 0.44]}],                        {\"geo\": {\"scope\": \"usa\"}, \"template\": {\"data\": {\"bar\": [{\"error_x\": {\"color\": \"#2a3f5f\"}, \"error_y\": {\"color\": \"#2a3f5f\"}, \"marker\": {\"line\": {\"color\": \"#E5ECF6\", \"width\": 0.5}}, \"type\": \"bar\"}], \"barpolar\": [{\"marker\": {\"line\": {\"color\": \"#E5ECF6\", \"width\": 0.5}}, \"type\": \"barpolar\"}], \"carpet\": [{\"aaxis\": {\"endlinecolor\": \"#2a3f5f\", \"gridcolor\": \"white\", \"linecolor\": \"white\", \"minorgridcolor\": \"white\", \"startlinecolor\": \"#2a3f5f\"}, \"baxis\": {\"endlinecolor\": \"#2a3f5f\", \"gridcolor\": \"white\", \"linecolor\": \"white\", \"minorgridcolor\": \"white\", \"startlinecolor\": \"#2a3f5f\"}, \"type\": \"carpet\"}], \"choropleth\": [{\"colorbar\": {\"outlinewidth\": 0, \"ticks\": \"\"}, \"type\": \"choropleth\"}], \"contour\": [{\"colorbar\": {\"outlinewidth\": 0, \"ticks\": \"\"}, \"colorscale\": [[0.0, \"#0d0887\"], [0.1111111111111111, \"#46039f\"], [0.2222222222222222, \"#7201a8\"], [0.3333333333333333, \"#9c179e\"], [0.4444444444444444, \"#bd3786\"], [0.5555555555555556, \"#d8576b\"], [0.6666666666666666, \"#ed7953\"], [0.7777777777777778, \"#fb9f3a\"], [0.8888888888888888, \"#fdca26\"], [1.0, \"#f0f921\"]], \"type\": \"contour\"}], \"contourcarpet\": [{\"colorbar\": {\"outlinewidth\": 0, \"ticks\": \"\"}, \"type\": \"contourcarpet\"}], \"heatmap\": [{\"colorbar\": {\"outlinewidth\": 0, \"ticks\": \"\"}, \"colorscale\": [[0.0, \"#0d0887\"], [0.1111111111111111, \"#46039f\"], [0.2222222222222222, \"#7201a8\"], [0.3333333333333333, \"#9c179e\"], [0.4444444444444444, \"#bd3786\"], [0.5555555555555556, \"#d8576b\"], [0.6666666666666666, \"#ed7953\"], [0.7777777777777778, \"#fb9f3a\"], [0.8888888888888888, \"#fdca26\"], [1.0, \"#f0f921\"]], \"type\": \"heatmap\"}], \"heatmapgl\": [{\"colorbar\": {\"outlinewidth\": 0, \"ticks\": \"\"}, \"colorscale\": [[0.0, \"#0d0887\"], [0.1111111111111111, \"#46039f\"], [0.2222222222222222, \"#7201a8\"], [0.3333333333333333, \"#9c179e\"], [0.4444444444444444, \"#bd3786\"], [0.5555555555555556, \"#d8576b\"], [0.6666666666666666, \"#ed7953\"], [0.7777777777777778, \"#fb9f3a\"], [0.8888888888888888, \"#fdca26\"], [1.0, \"#f0f921\"]], \"type\": \"heatmapgl\"}], \"histogram\": [{\"marker\": {\"colorbar\": {\"outlinewidth\": 0, \"ticks\": \"\"}}, \"type\": \"histogram\"}], \"histogram2d\": [{\"colorbar\": {\"outlinewidth\": 0, \"ticks\": \"\"}, \"colorscale\": [[0.0, \"#0d0887\"], [0.1111111111111111, \"#46039f\"], [0.2222222222222222, \"#7201a8\"], [0.3333333333333333, \"#9c179e\"], [0.4444444444444444, \"#bd3786\"], [0.5555555555555556, \"#d8576b\"], [0.6666666666666666, \"#ed7953\"], [0.7777777777777778, \"#fb9f3a\"], [0.8888888888888888, \"#fdca26\"], [1.0, \"#f0f921\"]], \"type\": \"histogram2d\"}], \"histogram2dcontour\": [{\"colorbar\": {\"outlinewidth\": 0, \"ticks\": \"\"}, \"colorscale\": [[0.0, \"#0d0887\"], [0.1111111111111111, \"#46039f\"], [0.2222222222222222, \"#7201a8\"], [0.3333333333333333, \"#9c179e\"], [0.4444444444444444, \"#bd3786\"], [0.5555555555555556, \"#d8576b\"], [0.6666666666666666, \"#ed7953\"], [0.7777777777777778, \"#fb9f3a\"], [0.8888888888888888, \"#fdca26\"], [1.0, \"#f0f921\"]], \"type\": \"histogram2dcontour\"}], \"mesh3d\": [{\"colorbar\": {\"outlinewidth\": 0, \"ticks\": \"\"}, \"type\": \"mesh3d\"}], \"parcoords\": [{\"line\": {\"colorbar\": {\"outlinewidth\": 0, \"ticks\": \"\"}}, \"type\": \"parcoords\"}], \"pie\": [{\"automargin\": true, \"type\": \"pie\"}], \"scatter\": [{\"marker\": {\"colorbar\": {\"outlinewidth\": 0, \"ticks\": \"\"}}, \"type\": \"scatter\"}], \"scatter3d\": [{\"line\": {\"colorbar\": {\"outlinewidth\": 0, \"ticks\": \"\"}}, \"marker\": {\"colorbar\": {\"outlinewidth\": 0, \"ticks\": \"\"}}, \"type\": \"scatter3d\"}], \"scattercarpet\": [{\"marker\": {\"colorbar\": {\"outlinewidth\": 0, \"ticks\": \"\"}}, \"type\": \"scattercarpet\"}], \"scattergeo\": [{\"marker\": {\"colorbar\": {\"outlinewidth\": 0, \"ticks\": \"\"}}, \"type\": \"scattergeo\"}], \"scattergl\": [{\"marker\": {\"colorbar\": {\"outlinewidth\": 0, \"ticks\": \"\"}}, \"type\": \"scattergl\"}], \"scattermapbox\": [{\"marker\": {\"colorbar\": {\"outlinewidth\": 0, \"ticks\": \"\"}}, \"type\": \"scattermapbox\"}], \"scatterpolar\": [{\"marker\": {\"colorbar\": {\"outlinewidth\": 0, \"ticks\": \"\"}}, \"type\": \"scatterpolar\"}], \"scatterpolargl\": [{\"marker\": {\"colorbar\": {\"outlinewidth\": 0, \"ticks\": \"\"}}, \"type\": \"scatterpolargl\"}], \"scatterternary\": [{\"marker\": {\"colorbar\": {\"outlinewidth\": 0, \"ticks\": \"\"}}, \"type\": \"scatterternary\"}], \"surface\": [{\"colorbar\": {\"outlinewidth\": 0, \"ticks\": \"\"}, \"colorscale\": [[0.0, \"#0d0887\"], [0.1111111111111111, \"#46039f\"], [0.2222222222222222, \"#7201a8\"], [0.3333333333333333, \"#9c179e\"], [0.4444444444444444, \"#bd3786\"], [0.5555555555555556, \"#d8576b\"], [0.6666666666666666, \"#ed7953\"], [0.7777777777777778, \"#fb9f3a\"], [0.8888888888888888, \"#fdca26\"], [1.0, \"#f0f921\"]], \"type\": \"surface\"}], \"table\": [{\"cells\": {\"fill\": {\"color\": \"#EBF0F8\"}, \"line\": {\"color\": \"white\"}}, \"header\": {\"fill\": {\"color\": \"#C8D4E3\"}, \"line\": {\"color\": \"white\"}}, \"type\": \"table\"}]}, \"layout\": {\"annotationdefaults\": {\"arrowcolor\": \"#2a3f5f\", \"arrowhead\": 0, \"arrowwidth\": 1}, \"autotypenumbers\": \"strict\", \"coloraxis\": {\"colorbar\": {\"outlinewidth\": 0, \"ticks\": \"\"}}, \"colorscale\": {\"diverging\": [[0, \"#8e0152\"], [0.1, \"#c51b7d\"], [0.2, \"#de77ae\"], [0.3, \"#f1b6da\"], [0.4, \"#fde0ef\"], [0.5, \"#f7f7f7\"], [0.6, \"#e6f5d0\"], [0.7, \"#b8e186\"], [0.8, \"#7fbc41\"], [0.9, \"#4d9221\"], [1, \"#276419\"]], \"sequential\": [[0.0, \"#0d0887\"], [0.1111111111111111, \"#46039f\"], [0.2222222222222222, \"#7201a8\"], [0.3333333333333333, \"#9c179e\"], [0.4444444444444444, \"#bd3786\"], [0.5555555555555556, \"#d8576b\"], [0.6666666666666666, \"#ed7953\"], [0.7777777777777778, \"#fb9f3a\"], [0.8888888888888888, \"#fdca26\"], [1.0, \"#f0f921\"]], \"sequentialminus\": [[0.0, \"#0d0887\"], [0.1111111111111111, \"#46039f\"], [0.2222222222222222, \"#7201a8\"], [0.3333333333333333, \"#9c179e\"], [0.4444444444444444, \"#bd3786\"], [0.5555555555555556, \"#d8576b\"], [0.6666666666666666, \"#ed7953\"], [0.7777777777777778, \"#fb9f3a\"], [0.8888888888888888, \"#fdca26\"], [1.0, \"#f0f921\"]]}, \"colorway\": [\"#636efa\", \"#EF553B\", \"#00cc96\", \"#ab63fa\", \"#FFA15A\", \"#19d3f3\", \"#FF6692\", \"#B6E880\", \"#FF97FF\", \"#FECB52\"], \"font\": {\"color\": \"#2a3f5f\"}, \"geo\": {\"bgcolor\": \"white\", \"lakecolor\": \"white\", \"landcolor\": \"#E5ECF6\", \"showlakes\": true, \"showland\": true, \"subunitcolor\": \"white\"}, \"hoverlabel\": {\"align\": \"left\"}, \"hovermode\": \"closest\", \"mapbox\": {\"style\": \"light\"}, \"paper_bgcolor\": \"white\", \"plot_bgcolor\": \"#E5ECF6\", \"polar\": {\"angularaxis\": {\"gridcolor\": \"white\", \"linecolor\": \"white\", \"ticks\": \"\"}, \"bgcolor\": \"#E5ECF6\", \"radialaxis\": {\"gridcolor\": \"white\", \"linecolor\": \"white\", \"ticks\": \"\"}}, \"scene\": {\"xaxis\": {\"backgroundcolor\": \"#E5ECF6\", \"gridcolor\": \"white\", \"gridwidth\": 2, \"linecolor\": \"white\", \"showbackground\": true, \"ticks\": \"\", \"zerolinecolor\": \"white\"}, \"yaxis\": {\"backgroundcolor\": \"#E5ECF6\", \"gridcolor\": \"white\", \"gridwidth\": 2, \"linecolor\": \"white\", \"showbackground\": true, \"ticks\": \"\", \"zerolinecolor\": \"white\"}, \"zaxis\": {\"backgroundcolor\": \"#E5ECF6\", \"gridcolor\": \"white\", \"gridwidth\": 2, \"linecolor\": \"white\", \"showbackground\": true, \"ticks\": \"\", \"zerolinecolor\": \"white\"}}, \"shapedefaults\": {\"line\": {\"color\": \"#2a3f5f\"}}, \"ternary\": {\"aaxis\": {\"gridcolor\": \"white\", \"linecolor\": \"white\", \"ticks\": \"\"}, \"baxis\": {\"gridcolor\": \"white\", \"linecolor\": \"white\", \"ticks\": \"\"}, \"bgcolor\": \"#E5ECF6\", \"caxis\": {\"gridcolor\": \"white\", \"linecolor\": \"white\", \"ticks\": \"\"}}, \"title\": {\"x\": 0.05}, \"xaxis\": {\"automargin\": true, \"gridcolor\": \"white\", \"linecolor\": \"white\", \"ticks\": \"\", \"title\": {\"standoff\": 15}, \"zerolinecolor\": \"white\", \"zerolinewidth\": 2}, \"yaxis\": {\"automargin\": true, \"gridcolor\": \"white\", \"linecolor\": \"white\", \"ticks\": \"\", \"title\": {\"standoff\": 15}, \"zerolinecolor\": \"white\", \"zerolinewidth\": 2}}}, \"title\": {\"text\": \"Payment Received Per State\"}},                        {\"responsive\": true}                    ).then(function(){\n",
       "                            \n",
       "var gd = document.getElementById('e813c145-bc96-49df-985c-27ce0c40cc88');\n",
       "var x = new MutationObserver(function (mutations, observer) {{\n",
       "        var display = window.getComputedStyle(gd).display;\n",
       "        if (!display || display === 'none') {{\n",
       "            console.log([gd, 'removed!']);\n",
       "            Plotly.purge(gd);\n",
       "            observer.disconnect();\n",
       "        }}\n",
       "}});\n",
       "\n",
       "// Listen for the removal of the full notebook cells\n",
       "var notebookContainer = gd.closest('#notebook-container');\n",
       "if (notebookContainer) {{\n",
       "    x.observe(notebookContainer, {childList: true});\n",
       "}}\n",
       "\n",
       "// Listen for the clearing of the current output cell\n",
       "var outputEl = gd.closest('.output');\n",
       "if (outputEl) {{\n",
       "    x.observe(outputEl, {childList: true});\n",
       "}}\n",
       "\n",
       "                        })                };                });            </script>        </div>"
      ]
     },
     "metadata": {},
     "output_type": "display_data"
    }
   ],
   "source": [
    "# Since it is state data, a map plot might be better\n",
    "fig2 = go.Figure(data=go.Choropleth(\n",
    "    locations=payment_per_state_df['state'], # Spatial coordinates\n",
    "    z = payment_per_state_df['amount'].astype(float), # Data to be color-coded\n",
    "    locationmode = 'USA-states', # set of locations match entries in `locations`\n",
    "    colorscale = 'Reds',\n",
    "    colorbar_title = \"dollar\",\n",
    "))\n",
    "\n",
    "fig2.update_layout(\n",
    "    title_text = 'Payment Received Per State',\n",
    "    geo_scope='usa', # limite map scope to USA\n",
    ")\n",
    "\n",
    "fig2.show()"
   ]
  },
  {
   "cell_type": "markdown",
   "id": "fafc9a6f",
   "metadata": {},
   "source": [
    "### Physician against amount"
   ]
  },
  {
   "cell_type": "code",
   "execution_count": 91,
   "id": "4cb9b008",
   "metadata": {},
   "outputs": [],
   "source": [
    "# I am interested in what type of Physician gets most\n",
    "payment_per_physician_type = list_rdd.map(lambda x: (x[18].replace('\"',\"\"), float(x[30].replace('\"',\"\"))))\\\n",
    "                            .groupByKey().mapValues(lambda x: sum(x))\\\n",
    "                            .sortBy(lambda x : x[1], ascending = False)"
   ]
  },
  {
   "cell_type": "code",
   "execution_count": 92,
   "id": "f0dc4703",
   "metadata": {},
   "outputs": [
    {
     "data": {
      "text/html": [
       "<div>\n",
       "<style scoped>\n",
       "    .dataframe tbody tr th:only-of-type {\n",
       "        vertical-align: middle;\n",
       "    }\n",
       "\n",
       "    .dataframe tbody tr th {\n",
       "        vertical-align: top;\n",
       "    }\n",
       "\n",
       "    .dataframe thead th {\n",
       "        text-align: right;\n",
       "    }\n",
       "</style>\n",
       "<table border=\"1\" class=\"dataframe\">\n",
       "  <thead>\n",
       "    <tr style=\"text-align: right;\">\n",
       "      <th></th>\n",
       "      <th>physician_type</th>\n",
       "      <th>amount</th>\n",
       "    </tr>\n",
       "  </thead>\n",
       "  <tbody>\n",
       "    <tr>\n",
       "      <th>0</th>\n",
       "      <td></td>\n",
       "      <td>32019.00</td>\n",
       "    </tr>\n",
       "    <tr>\n",
       "      <th>1</th>\n",
       "      <td>Medical Doctor</td>\n",
       "      <td>15982.24</td>\n",
       "    </tr>\n",
       "    <tr>\n",
       "      <th>2</th>\n",
       "      <td>Doctor of Dentistry</td>\n",
       "      <td>1499.57</td>\n",
       "    </tr>\n",
       "    <tr>\n",
       "      <th>3</th>\n",
       "      <td>Doctor of Osteopathy</td>\n",
       "      <td>797.25</td>\n",
       "    </tr>\n",
       "    <tr>\n",
       "      <th>4</th>\n",
       "      <td>Doctor of Optometry</td>\n",
       "      <td>329.58</td>\n",
       "    </tr>\n",
       "  </tbody>\n",
       "</table>\n",
       "</div>"
      ],
      "text/plain": [
       "         physician_type    amount\n",
       "0                        32019.00\n",
       "1        Medical Doctor  15982.24\n",
       "2   Doctor of Dentistry   1499.57\n",
       "3  Doctor of Osteopathy    797.25\n",
       "4   Doctor of Optometry    329.58"
      ]
     },
     "execution_count": 92,
     "metadata": {},
     "output_type": "execute_result"
    }
   ],
   "source": [
    "# convert to dataframe\n",
    "payment_per_physician_type_df = pd.DataFrame(payment_per_physician_type.collect(), columns=['physician_type', 'amount'])\n",
    "payment_per_physician_type_df.head()"
   ]
  },
  {
   "cell_type": "code",
   "execution_count": 150,
   "id": "782591a9",
   "metadata": {},
   "outputs": [
    {
     "data": {
      "application/vnd.plotly.v1+json": {
       "config": {
        "plotlyServerURL": "https://plot.ly"
       },
       "data": [
        {
         "alignmentgroup": "True",
         "bingroup": "x",
         "histfunc": "sum",
         "hovertemplate": "physician_type=%{x}<br>sum of amount=%{y}<extra></extra>",
         "legendgroup": "",
         "marker": {
          "color": "#636efa"
         },
         "name": "",
         "offsetgroup": "",
         "orientation": "v",
         "showlegend": false,
         "type": "histogram",
         "x": [
          "",
          "Medical Doctor",
          "Doctor of Dentistry",
          "Doctor of Osteopathy",
          "Doctor of Optometry",
          "Doctor of Podiatric Medicine"
         ],
         "xaxis": "x",
         "y": [
          32019,
          15982.240000000002,
          1499.57,
          797.25,
          329.58,
          117.97
         ],
         "yaxis": "y"
        }
       ],
       "layout": {
        "barmode": "relative",
        "legend": {
         "tracegroupgap": 0
        },
        "margin": {
         "t": 60
        },
        "template": {
         "data": {
          "bar": [
           {
            "error_x": {
             "color": "#2a3f5f"
            },
            "error_y": {
             "color": "#2a3f5f"
            },
            "marker": {
             "line": {
              "color": "#E5ECF6",
              "width": 0.5
             }
            },
            "type": "bar"
           }
          ],
          "barpolar": [
           {
            "marker": {
             "line": {
              "color": "#E5ECF6",
              "width": 0.5
             }
            },
            "type": "barpolar"
           }
          ],
          "carpet": [
           {
            "aaxis": {
             "endlinecolor": "#2a3f5f",
             "gridcolor": "white",
             "linecolor": "white",
             "minorgridcolor": "white",
             "startlinecolor": "#2a3f5f"
            },
            "baxis": {
             "endlinecolor": "#2a3f5f",
             "gridcolor": "white",
             "linecolor": "white",
             "minorgridcolor": "white",
             "startlinecolor": "#2a3f5f"
            },
            "type": "carpet"
           }
          ],
          "choropleth": [
           {
            "colorbar": {
             "outlinewidth": 0,
             "ticks": ""
            },
            "type": "choropleth"
           }
          ],
          "contour": [
           {
            "colorbar": {
             "outlinewidth": 0,
             "ticks": ""
            },
            "colorscale": [
             [
              0,
              "#0d0887"
             ],
             [
              0.1111111111111111,
              "#46039f"
             ],
             [
              0.2222222222222222,
              "#7201a8"
             ],
             [
              0.3333333333333333,
              "#9c179e"
             ],
             [
              0.4444444444444444,
              "#bd3786"
             ],
             [
              0.5555555555555556,
              "#d8576b"
             ],
             [
              0.6666666666666666,
              "#ed7953"
             ],
             [
              0.7777777777777778,
              "#fb9f3a"
             ],
             [
              0.8888888888888888,
              "#fdca26"
             ],
             [
              1,
              "#f0f921"
             ]
            ],
            "type": "contour"
           }
          ],
          "contourcarpet": [
           {
            "colorbar": {
             "outlinewidth": 0,
             "ticks": ""
            },
            "type": "contourcarpet"
           }
          ],
          "heatmap": [
           {
            "colorbar": {
             "outlinewidth": 0,
             "ticks": ""
            },
            "colorscale": [
             [
              0,
              "#0d0887"
             ],
             [
              0.1111111111111111,
              "#46039f"
             ],
             [
              0.2222222222222222,
              "#7201a8"
             ],
             [
              0.3333333333333333,
              "#9c179e"
             ],
             [
              0.4444444444444444,
              "#bd3786"
             ],
             [
              0.5555555555555556,
              "#d8576b"
             ],
             [
              0.6666666666666666,
              "#ed7953"
             ],
             [
              0.7777777777777778,
              "#fb9f3a"
             ],
             [
              0.8888888888888888,
              "#fdca26"
             ],
             [
              1,
              "#f0f921"
             ]
            ],
            "type": "heatmap"
           }
          ],
          "heatmapgl": [
           {
            "colorbar": {
             "outlinewidth": 0,
             "ticks": ""
            },
            "colorscale": [
             [
              0,
              "#0d0887"
             ],
             [
              0.1111111111111111,
              "#46039f"
             ],
             [
              0.2222222222222222,
              "#7201a8"
             ],
             [
              0.3333333333333333,
              "#9c179e"
             ],
             [
              0.4444444444444444,
              "#bd3786"
             ],
             [
              0.5555555555555556,
              "#d8576b"
             ],
             [
              0.6666666666666666,
              "#ed7953"
             ],
             [
              0.7777777777777778,
              "#fb9f3a"
             ],
             [
              0.8888888888888888,
              "#fdca26"
             ],
             [
              1,
              "#f0f921"
             ]
            ],
            "type": "heatmapgl"
           }
          ],
          "histogram": [
           {
            "marker": {
             "colorbar": {
              "outlinewidth": 0,
              "ticks": ""
             }
            },
            "type": "histogram"
           }
          ],
          "histogram2d": [
           {
            "colorbar": {
             "outlinewidth": 0,
             "ticks": ""
            },
            "colorscale": [
             [
              0,
              "#0d0887"
             ],
             [
              0.1111111111111111,
              "#46039f"
             ],
             [
              0.2222222222222222,
              "#7201a8"
             ],
             [
              0.3333333333333333,
              "#9c179e"
             ],
             [
              0.4444444444444444,
              "#bd3786"
             ],
             [
              0.5555555555555556,
              "#d8576b"
             ],
             [
              0.6666666666666666,
              "#ed7953"
             ],
             [
              0.7777777777777778,
              "#fb9f3a"
             ],
             [
              0.8888888888888888,
              "#fdca26"
             ],
             [
              1,
              "#f0f921"
             ]
            ],
            "type": "histogram2d"
           }
          ],
          "histogram2dcontour": [
           {
            "colorbar": {
             "outlinewidth": 0,
             "ticks": ""
            },
            "colorscale": [
             [
              0,
              "#0d0887"
             ],
             [
              0.1111111111111111,
              "#46039f"
             ],
             [
              0.2222222222222222,
              "#7201a8"
             ],
             [
              0.3333333333333333,
              "#9c179e"
             ],
             [
              0.4444444444444444,
              "#bd3786"
             ],
             [
              0.5555555555555556,
              "#d8576b"
             ],
             [
              0.6666666666666666,
              "#ed7953"
             ],
             [
              0.7777777777777778,
              "#fb9f3a"
             ],
             [
              0.8888888888888888,
              "#fdca26"
             ],
             [
              1,
              "#f0f921"
             ]
            ],
            "type": "histogram2dcontour"
           }
          ],
          "mesh3d": [
           {
            "colorbar": {
             "outlinewidth": 0,
             "ticks": ""
            },
            "type": "mesh3d"
           }
          ],
          "parcoords": [
           {
            "line": {
             "colorbar": {
              "outlinewidth": 0,
              "ticks": ""
             }
            },
            "type": "parcoords"
           }
          ],
          "pie": [
           {
            "automargin": true,
            "type": "pie"
           }
          ],
          "scatter": [
           {
            "marker": {
             "colorbar": {
              "outlinewidth": 0,
              "ticks": ""
             }
            },
            "type": "scatter"
           }
          ],
          "scatter3d": [
           {
            "line": {
             "colorbar": {
              "outlinewidth": 0,
              "ticks": ""
             }
            },
            "marker": {
             "colorbar": {
              "outlinewidth": 0,
              "ticks": ""
             }
            },
            "type": "scatter3d"
           }
          ],
          "scattercarpet": [
           {
            "marker": {
             "colorbar": {
              "outlinewidth": 0,
              "ticks": ""
             }
            },
            "type": "scattercarpet"
           }
          ],
          "scattergeo": [
           {
            "marker": {
             "colorbar": {
              "outlinewidth": 0,
              "ticks": ""
             }
            },
            "type": "scattergeo"
           }
          ],
          "scattergl": [
           {
            "marker": {
             "colorbar": {
              "outlinewidth": 0,
              "ticks": ""
             }
            },
            "type": "scattergl"
           }
          ],
          "scattermapbox": [
           {
            "marker": {
             "colorbar": {
              "outlinewidth": 0,
              "ticks": ""
             }
            },
            "type": "scattermapbox"
           }
          ],
          "scatterpolar": [
           {
            "marker": {
             "colorbar": {
              "outlinewidth": 0,
              "ticks": ""
             }
            },
            "type": "scatterpolar"
           }
          ],
          "scatterpolargl": [
           {
            "marker": {
             "colorbar": {
              "outlinewidth": 0,
              "ticks": ""
             }
            },
            "type": "scatterpolargl"
           }
          ],
          "scatterternary": [
           {
            "marker": {
             "colorbar": {
              "outlinewidth": 0,
              "ticks": ""
             }
            },
            "type": "scatterternary"
           }
          ],
          "surface": [
           {
            "colorbar": {
             "outlinewidth": 0,
             "ticks": ""
            },
            "colorscale": [
             [
              0,
              "#0d0887"
             ],
             [
              0.1111111111111111,
              "#46039f"
             ],
             [
              0.2222222222222222,
              "#7201a8"
             ],
             [
              0.3333333333333333,
              "#9c179e"
             ],
             [
              0.4444444444444444,
              "#bd3786"
             ],
             [
              0.5555555555555556,
              "#d8576b"
             ],
             [
              0.6666666666666666,
              "#ed7953"
             ],
             [
              0.7777777777777778,
              "#fb9f3a"
             ],
             [
              0.8888888888888888,
              "#fdca26"
             ],
             [
              1,
              "#f0f921"
             ]
            ],
            "type": "surface"
           }
          ],
          "table": [
           {
            "cells": {
             "fill": {
              "color": "#EBF0F8"
             },
             "line": {
              "color": "white"
             }
            },
            "header": {
             "fill": {
              "color": "#C8D4E3"
             },
             "line": {
              "color": "white"
             }
            },
            "type": "table"
           }
          ]
         },
         "layout": {
          "annotationdefaults": {
           "arrowcolor": "#2a3f5f",
           "arrowhead": 0,
           "arrowwidth": 1
          },
          "autotypenumbers": "strict",
          "coloraxis": {
           "colorbar": {
            "outlinewidth": 0,
            "ticks": ""
           }
          },
          "colorscale": {
           "diverging": [
            [
             0,
             "#8e0152"
            ],
            [
             0.1,
             "#c51b7d"
            ],
            [
             0.2,
             "#de77ae"
            ],
            [
             0.3,
             "#f1b6da"
            ],
            [
             0.4,
             "#fde0ef"
            ],
            [
             0.5,
             "#f7f7f7"
            ],
            [
             0.6,
             "#e6f5d0"
            ],
            [
             0.7,
             "#b8e186"
            ],
            [
             0.8,
             "#7fbc41"
            ],
            [
             0.9,
             "#4d9221"
            ],
            [
             1,
             "#276419"
            ]
           ],
           "sequential": [
            [
             0,
             "#0d0887"
            ],
            [
             0.1111111111111111,
             "#46039f"
            ],
            [
             0.2222222222222222,
             "#7201a8"
            ],
            [
             0.3333333333333333,
             "#9c179e"
            ],
            [
             0.4444444444444444,
             "#bd3786"
            ],
            [
             0.5555555555555556,
             "#d8576b"
            ],
            [
             0.6666666666666666,
             "#ed7953"
            ],
            [
             0.7777777777777778,
             "#fb9f3a"
            ],
            [
             0.8888888888888888,
             "#fdca26"
            ],
            [
             1,
             "#f0f921"
            ]
           ],
           "sequentialminus": [
            [
             0,
             "#0d0887"
            ],
            [
             0.1111111111111111,
             "#46039f"
            ],
            [
             0.2222222222222222,
             "#7201a8"
            ],
            [
             0.3333333333333333,
             "#9c179e"
            ],
            [
             0.4444444444444444,
             "#bd3786"
            ],
            [
             0.5555555555555556,
             "#d8576b"
            ],
            [
             0.6666666666666666,
             "#ed7953"
            ],
            [
             0.7777777777777778,
             "#fb9f3a"
            ],
            [
             0.8888888888888888,
             "#fdca26"
            ],
            [
             1,
             "#f0f921"
            ]
           ]
          },
          "colorway": [
           "#636efa",
           "#EF553B",
           "#00cc96",
           "#ab63fa",
           "#FFA15A",
           "#19d3f3",
           "#FF6692",
           "#B6E880",
           "#FF97FF",
           "#FECB52"
          ],
          "font": {
           "color": "#2a3f5f"
          },
          "geo": {
           "bgcolor": "white",
           "lakecolor": "white",
           "landcolor": "#E5ECF6",
           "showlakes": true,
           "showland": true,
           "subunitcolor": "white"
          },
          "hoverlabel": {
           "align": "left"
          },
          "hovermode": "closest",
          "mapbox": {
           "style": "light"
          },
          "paper_bgcolor": "white",
          "plot_bgcolor": "#E5ECF6",
          "polar": {
           "angularaxis": {
            "gridcolor": "white",
            "linecolor": "white",
            "ticks": ""
           },
           "bgcolor": "#E5ECF6",
           "radialaxis": {
            "gridcolor": "white",
            "linecolor": "white",
            "ticks": ""
           }
          },
          "scene": {
           "xaxis": {
            "backgroundcolor": "#E5ECF6",
            "gridcolor": "white",
            "gridwidth": 2,
            "linecolor": "white",
            "showbackground": true,
            "ticks": "",
            "zerolinecolor": "white"
           },
           "yaxis": {
            "backgroundcolor": "#E5ECF6",
            "gridcolor": "white",
            "gridwidth": 2,
            "linecolor": "white",
            "showbackground": true,
            "ticks": "",
            "zerolinecolor": "white"
           },
           "zaxis": {
            "backgroundcolor": "#E5ECF6",
            "gridcolor": "white",
            "gridwidth": 2,
            "linecolor": "white",
            "showbackground": true,
            "ticks": "",
            "zerolinecolor": "white"
           }
          },
          "shapedefaults": {
           "line": {
            "color": "#2a3f5f"
           }
          },
          "ternary": {
           "aaxis": {
            "gridcolor": "white",
            "linecolor": "white",
            "ticks": ""
           },
           "baxis": {
            "gridcolor": "white",
            "linecolor": "white",
            "ticks": ""
           },
           "bgcolor": "#E5ECF6",
           "caxis": {
            "gridcolor": "white",
            "linecolor": "white",
            "ticks": ""
           }
          },
          "title": {
           "x": 0.05
          },
          "xaxis": {
           "automargin": true,
           "gridcolor": "white",
           "linecolor": "white",
           "ticks": "",
           "title": {
            "standoff": 15
           },
           "zerolinecolor": "white",
           "zerolinewidth": 2
          },
          "yaxis": {
           "automargin": true,
           "gridcolor": "white",
           "linecolor": "white",
           "ticks": "",
           "title": {
            "standoff": 15
           },
           "zerolinecolor": "white",
           "zerolinewidth": 2
          }
         }
        },
        "xaxis": {
         "anchor": "y",
         "domain": [
          0,
          1
         ],
         "title": {
          "text": "physician_type"
         }
        },
        "yaxis": {
         "anchor": "x",
         "domain": [
          0,
          1
         ],
         "title": {
          "text": "sum of amount"
         }
        }
       }
      },
      "text/html": [
       "<div>                            <div id=\"4536401f-0fdb-48da-a3df-8e589cb3a16c\" class=\"plotly-graph-div\" style=\"height:525px; width:100%;\"></div>            <script type=\"text/javascript\">                require([\"plotly\"], function(Plotly) {                    window.PLOTLYENV=window.PLOTLYENV || {};                                    if (document.getElementById(\"4536401f-0fdb-48da-a3df-8e589cb3a16c\")) {                    Plotly.newPlot(                        \"4536401f-0fdb-48da-a3df-8e589cb3a16c\",                        [{\"alignmentgroup\": \"True\", \"bingroup\": \"x\", \"histfunc\": \"sum\", \"hovertemplate\": \"physician_type=%{x}<br>sum of amount=%{y}<extra></extra>\", \"legendgroup\": \"\", \"marker\": {\"color\": \"#636efa\"}, \"name\": \"\", \"offsetgroup\": \"\", \"orientation\": \"v\", \"showlegend\": false, \"type\": \"histogram\", \"x\": [\"\", \"Medical Doctor\", \"Doctor of Dentistry\", \"Doctor of Osteopathy\", \"Doctor of Optometry\", \"Doctor of Podiatric Medicine\"], \"xaxis\": \"x\", \"y\": [32019.0, 15982.240000000002, 1499.57, 797.25, 329.58, 117.97], \"yaxis\": \"y\"}],                        {\"barmode\": \"relative\", \"legend\": {\"tracegroupgap\": 0}, \"margin\": {\"t\": 60}, \"template\": {\"data\": {\"bar\": [{\"error_x\": {\"color\": \"#2a3f5f\"}, \"error_y\": {\"color\": \"#2a3f5f\"}, \"marker\": {\"line\": {\"color\": \"#E5ECF6\", \"width\": 0.5}}, \"type\": \"bar\"}], \"barpolar\": [{\"marker\": {\"line\": {\"color\": \"#E5ECF6\", \"width\": 0.5}}, \"type\": \"barpolar\"}], \"carpet\": [{\"aaxis\": {\"endlinecolor\": \"#2a3f5f\", \"gridcolor\": \"white\", \"linecolor\": \"white\", \"minorgridcolor\": \"white\", \"startlinecolor\": \"#2a3f5f\"}, \"baxis\": {\"endlinecolor\": \"#2a3f5f\", \"gridcolor\": \"white\", \"linecolor\": \"white\", \"minorgridcolor\": \"white\", \"startlinecolor\": \"#2a3f5f\"}, \"type\": \"carpet\"}], \"choropleth\": [{\"colorbar\": {\"outlinewidth\": 0, \"ticks\": \"\"}, \"type\": \"choropleth\"}], \"contour\": [{\"colorbar\": {\"outlinewidth\": 0, \"ticks\": \"\"}, \"colorscale\": [[0.0, \"#0d0887\"], [0.1111111111111111, \"#46039f\"], [0.2222222222222222, \"#7201a8\"], [0.3333333333333333, \"#9c179e\"], [0.4444444444444444, \"#bd3786\"], [0.5555555555555556, \"#d8576b\"], [0.6666666666666666, \"#ed7953\"], [0.7777777777777778, \"#fb9f3a\"], [0.8888888888888888, \"#fdca26\"], [1.0, \"#f0f921\"]], \"type\": \"contour\"}], \"contourcarpet\": [{\"colorbar\": {\"outlinewidth\": 0, \"ticks\": \"\"}, \"type\": \"contourcarpet\"}], \"heatmap\": [{\"colorbar\": {\"outlinewidth\": 0, \"ticks\": \"\"}, \"colorscale\": [[0.0, \"#0d0887\"], [0.1111111111111111, \"#46039f\"], [0.2222222222222222, \"#7201a8\"], [0.3333333333333333, \"#9c179e\"], [0.4444444444444444, \"#bd3786\"], [0.5555555555555556, \"#d8576b\"], [0.6666666666666666, \"#ed7953\"], [0.7777777777777778, \"#fb9f3a\"], [0.8888888888888888, \"#fdca26\"], [1.0, \"#f0f921\"]], \"type\": \"heatmap\"}], \"heatmapgl\": [{\"colorbar\": {\"outlinewidth\": 0, \"ticks\": \"\"}, \"colorscale\": [[0.0, \"#0d0887\"], [0.1111111111111111, \"#46039f\"], [0.2222222222222222, \"#7201a8\"], [0.3333333333333333, \"#9c179e\"], [0.4444444444444444, \"#bd3786\"], [0.5555555555555556, \"#d8576b\"], [0.6666666666666666, \"#ed7953\"], [0.7777777777777778, \"#fb9f3a\"], [0.8888888888888888, \"#fdca26\"], [1.0, \"#f0f921\"]], \"type\": \"heatmapgl\"}], \"histogram\": [{\"marker\": {\"colorbar\": {\"outlinewidth\": 0, \"ticks\": \"\"}}, \"type\": \"histogram\"}], \"histogram2d\": [{\"colorbar\": {\"outlinewidth\": 0, \"ticks\": \"\"}, \"colorscale\": [[0.0, \"#0d0887\"], [0.1111111111111111, \"#46039f\"], [0.2222222222222222, \"#7201a8\"], [0.3333333333333333, \"#9c179e\"], [0.4444444444444444, \"#bd3786\"], [0.5555555555555556, \"#d8576b\"], [0.6666666666666666, \"#ed7953\"], [0.7777777777777778, \"#fb9f3a\"], [0.8888888888888888, \"#fdca26\"], [1.0, \"#f0f921\"]], \"type\": \"histogram2d\"}], \"histogram2dcontour\": [{\"colorbar\": {\"outlinewidth\": 0, \"ticks\": \"\"}, \"colorscale\": [[0.0, \"#0d0887\"], [0.1111111111111111, \"#46039f\"], [0.2222222222222222, \"#7201a8\"], [0.3333333333333333, \"#9c179e\"], [0.4444444444444444, \"#bd3786\"], [0.5555555555555556, \"#d8576b\"], [0.6666666666666666, \"#ed7953\"], [0.7777777777777778, \"#fb9f3a\"], [0.8888888888888888, \"#fdca26\"], [1.0, \"#f0f921\"]], \"type\": \"histogram2dcontour\"}], \"mesh3d\": [{\"colorbar\": {\"outlinewidth\": 0, \"ticks\": \"\"}, \"type\": \"mesh3d\"}], \"parcoords\": [{\"line\": {\"colorbar\": {\"outlinewidth\": 0, \"ticks\": \"\"}}, \"type\": \"parcoords\"}], \"pie\": [{\"automargin\": true, \"type\": \"pie\"}], \"scatter\": [{\"marker\": {\"colorbar\": {\"outlinewidth\": 0, \"ticks\": \"\"}}, \"type\": \"scatter\"}], \"scatter3d\": [{\"line\": {\"colorbar\": {\"outlinewidth\": 0, \"ticks\": \"\"}}, \"marker\": {\"colorbar\": {\"outlinewidth\": 0, \"ticks\": \"\"}}, \"type\": \"scatter3d\"}], \"scattercarpet\": [{\"marker\": {\"colorbar\": {\"outlinewidth\": 0, \"ticks\": \"\"}}, \"type\": \"scattercarpet\"}], \"scattergeo\": [{\"marker\": {\"colorbar\": {\"outlinewidth\": 0, \"ticks\": \"\"}}, \"type\": \"scattergeo\"}], \"scattergl\": [{\"marker\": {\"colorbar\": {\"outlinewidth\": 0, \"ticks\": \"\"}}, \"type\": \"scattergl\"}], \"scattermapbox\": [{\"marker\": {\"colorbar\": {\"outlinewidth\": 0, \"ticks\": \"\"}}, \"type\": \"scattermapbox\"}], \"scatterpolar\": [{\"marker\": {\"colorbar\": {\"outlinewidth\": 0, \"ticks\": \"\"}}, \"type\": \"scatterpolar\"}], \"scatterpolargl\": [{\"marker\": {\"colorbar\": {\"outlinewidth\": 0, \"ticks\": \"\"}}, \"type\": \"scatterpolargl\"}], \"scatterternary\": [{\"marker\": {\"colorbar\": {\"outlinewidth\": 0, \"ticks\": \"\"}}, \"type\": \"scatterternary\"}], \"surface\": [{\"colorbar\": {\"outlinewidth\": 0, \"ticks\": \"\"}, \"colorscale\": [[0.0, \"#0d0887\"], [0.1111111111111111, \"#46039f\"], [0.2222222222222222, \"#7201a8\"], [0.3333333333333333, \"#9c179e\"], [0.4444444444444444, \"#bd3786\"], [0.5555555555555556, \"#d8576b\"], [0.6666666666666666, \"#ed7953\"], [0.7777777777777778, \"#fb9f3a\"], [0.8888888888888888, \"#fdca26\"], [1.0, \"#f0f921\"]], \"type\": \"surface\"}], \"table\": [{\"cells\": {\"fill\": {\"color\": \"#EBF0F8\"}, \"line\": {\"color\": \"white\"}}, \"header\": {\"fill\": {\"color\": \"#C8D4E3\"}, \"line\": {\"color\": \"white\"}}, \"type\": \"table\"}]}, \"layout\": {\"annotationdefaults\": {\"arrowcolor\": \"#2a3f5f\", \"arrowhead\": 0, \"arrowwidth\": 1}, \"autotypenumbers\": \"strict\", \"coloraxis\": {\"colorbar\": {\"outlinewidth\": 0, \"ticks\": \"\"}}, \"colorscale\": {\"diverging\": [[0, \"#8e0152\"], [0.1, \"#c51b7d\"], [0.2, \"#de77ae\"], [0.3, \"#f1b6da\"], [0.4, \"#fde0ef\"], [0.5, \"#f7f7f7\"], [0.6, \"#e6f5d0\"], [0.7, \"#b8e186\"], [0.8, \"#7fbc41\"], [0.9, \"#4d9221\"], [1, \"#276419\"]], \"sequential\": [[0.0, \"#0d0887\"], [0.1111111111111111, \"#46039f\"], [0.2222222222222222, \"#7201a8\"], [0.3333333333333333, \"#9c179e\"], [0.4444444444444444, \"#bd3786\"], [0.5555555555555556, \"#d8576b\"], [0.6666666666666666, \"#ed7953\"], [0.7777777777777778, \"#fb9f3a\"], [0.8888888888888888, \"#fdca26\"], [1.0, \"#f0f921\"]], \"sequentialminus\": [[0.0, \"#0d0887\"], [0.1111111111111111, \"#46039f\"], [0.2222222222222222, \"#7201a8\"], [0.3333333333333333, \"#9c179e\"], [0.4444444444444444, \"#bd3786\"], [0.5555555555555556, \"#d8576b\"], [0.6666666666666666, \"#ed7953\"], [0.7777777777777778, \"#fb9f3a\"], [0.8888888888888888, \"#fdca26\"], [1.0, \"#f0f921\"]]}, \"colorway\": [\"#636efa\", \"#EF553B\", \"#00cc96\", \"#ab63fa\", \"#FFA15A\", \"#19d3f3\", \"#FF6692\", \"#B6E880\", \"#FF97FF\", \"#FECB52\"], \"font\": {\"color\": \"#2a3f5f\"}, \"geo\": {\"bgcolor\": \"white\", \"lakecolor\": \"white\", \"landcolor\": \"#E5ECF6\", \"showlakes\": true, \"showland\": true, \"subunitcolor\": \"white\"}, \"hoverlabel\": {\"align\": \"left\"}, \"hovermode\": \"closest\", \"mapbox\": {\"style\": \"light\"}, \"paper_bgcolor\": \"white\", \"plot_bgcolor\": \"#E5ECF6\", \"polar\": {\"angularaxis\": {\"gridcolor\": \"white\", \"linecolor\": \"white\", \"ticks\": \"\"}, \"bgcolor\": \"#E5ECF6\", \"radialaxis\": {\"gridcolor\": \"white\", \"linecolor\": \"white\", \"ticks\": \"\"}}, \"scene\": {\"xaxis\": {\"backgroundcolor\": \"#E5ECF6\", \"gridcolor\": \"white\", \"gridwidth\": 2, \"linecolor\": \"white\", \"showbackground\": true, \"ticks\": \"\", \"zerolinecolor\": \"white\"}, \"yaxis\": {\"backgroundcolor\": \"#E5ECF6\", \"gridcolor\": \"white\", \"gridwidth\": 2, \"linecolor\": \"white\", \"showbackground\": true, \"ticks\": \"\", \"zerolinecolor\": \"white\"}, \"zaxis\": {\"backgroundcolor\": \"#E5ECF6\", \"gridcolor\": \"white\", \"gridwidth\": 2, \"linecolor\": \"white\", \"showbackground\": true, \"ticks\": \"\", \"zerolinecolor\": \"white\"}}, \"shapedefaults\": {\"line\": {\"color\": \"#2a3f5f\"}}, \"ternary\": {\"aaxis\": {\"gridcolor\": \"white\", \"linecolor\": \"white\", \"ticks\": \"\"}, \"baxis\": {\"gridcolor\": \"white\", \"linecolor\": \"white\", \"ticks\": \"\"}, \"bgcolor\": \"#E5ECF6\", \"caxis\": {\"gridcolor\": \"white\", \"linecolor\": \"white\", \"ticks\": \"\"}}, \"title\": {\"x\": 0.05}, \"xaxis\": {\"automargin\": true, \"gridcolor\": \"white\", \"linecolor\": \"white\", \"ticks\": \"\", \"title\": {\"standoff\": 15}, \"zerolinecolor\": \"white\", \"zerolinewidth\": 2}, \"yaxis\": {\"automargin\": true, \"gridcolor\": \"white\", \"linecolor\": \"white\", \"ticks\": \"\", \"title\": {\"standoff\": 15}, \"zerolinecolor\": \"white\", \"zerolinewidth\": 2}}}, \"xaxis\": {\"anchor\": \"y\", \"domain\": [0.0, 1.0], \"title\": {\"text\": \"physician_type\"}}, \"yaxis\": {\"anchor\": \"x\", \"domain\": [0.0, 1.0], \"title\": {\"text\": \"sum of amount\"}}},                        {\"responsive\": true}                    ).then(function(){\n",
       "                            \n",
       "var gd = document.getElementById('4536401f-0fdb-48da-a3df-8e589cb3a16c');\n",
       "var x = new MutationObserver(function (mutations, observer) {{\n",
       "        var display = window.getComputedStyle(gd).display;\n",
       "        if (!display || display === 'none') {{\n",
       "            console.log([gd, 'removed!']);\n",
       "            Plotly.purge(gd);\n",
       "            observer.disconnect();\n",
       "        }}\n",
       "}});\n",
       "\n",
       "// Listen for the removal of the full notebook cells\n",
       "var notebookContainer = gd.closest('#notebook-container');\n",
       "if (notebookContainer) {{\n",
       "    x.observe(notebookContainer, {childList: true});\n",
       "}}\n",
       "\n",
       "// Listen for the clearing of the current output cell\n",
       "var outputEl = gd.closest('.output');\n",
       "if (outputEl) {{\n",
       "    x.observe(outputEl, {childList: true});\n",
       "}}\n",
       "\n",
       "                        })                };                });            </script>        </div>"
      ]
     },
     "metadata": {},
     "output_type": "display_data"
    }
   ],
   "source": [
    "# plot\n",
    "fig3 = px.histogram(payment_per_physician_type_df, x='physician_type', y='amount')\n",
    "fig3.show()"
   ]
  },
  {
   "cell_type": "markdown",
   "id": "7b46c622",
   "metadata": {},
   "source": [
    "### specialities against amount"
   ]
  },
  {
   "cell_type": "code",
   "execution_count": 114,
   "id": "3b1a9560",
   "metadata": {},
   "outputs": [
    {
     "name": "stderr",
     "output_type": "stream",
     "text": [
      "                                                                                \r"
     ]
    }
   ],
   "source": [
    "# I am interested in what type of specialities gets most\n",
    "payment_per_speciality_type = list_rdd.map(lambda x: (x[19].replace('\"',\"\"), float(x[30].replace('\"',\"\"))))\\\n",
    "                            .groupByKey().mapValues(lambda x: sum(x))\\\n",
    "                            .sortBy(lambda x : x[1], ascending = False)"
   ]
  },
  {
   "cell_type": "code",
   "execution_count": 115,
   "id": "a8d135fb",
   "metadata": {},
   "outputs": [
    {
     "name": "stderr",
     "output_type": "stream",
     "text": [
      "                                                                                \r"
     ]
    },
    {
     "data": {
      "text/html": [
       "<div>\n",
       "<style scoped>\n",
       "    .dataframe tbody tr th:only-of-type {\n",
       "        vertical-align: middle;\n",
       "    }\n",
       "\n",
       "    .dataframe tbody tr th {\n",
       "        vertical-align: top;\n",
       "    }\n",
       "\n",
       "    .dataframe thead th {\n",
       "        text-align: right;\n",
       "    }\n",
       "</style>\n",
       "<table border=\"1\" class=\"dataframe\">\n",
       "  <thead>\n",
       "    <tr style=\"text-align: right;\">\n",
       "      <th></th>\n",
       "      <th>Physician_Specialty</th>\n",
       "      <th>amount</th>\n",
       "    </tr>\n",
       "  </thead>\n",
       "  <tbody>\n",
       "    <tr>\n",
       "      <th>0</th>\n",
       "      <td></td>\n",
       "      <td>32019.00</td>\n",
       "    </tr>\n",
       "    <tr>\n",
       "      <th>1</th>\n",
       "      <td>Allopathic &amp; Osteopathic Physicians|Internal M...</td>\n",
       "      <td>4372.78</td>\n",
       "    </tr>\n",
       "    <tr>\n",
       "      <th>2</th>\n",
       "      <td>Allopathic &amp; Osteopathic Physicians|Pediatrics...</td>\n",
       "      <td>2800.00</td>\n",
       "    </tr>\n",
       "    <tr>\n",
       "      <th>3</th>\n",
       "      <td>Allopathic &amp; Osteopathic Physicians|Psychiatry...</td>\n",
       "      <td>2066.04</td>\n",
       "    </tr>\n",
       "    <tr>\n",
       "      <th>4</th>\n",
       "      <td>Allopathic &amp; Osteopathic Physicians|Internal M...</td>\n",
       "      <td>1636.32</td>\n",
       "    </tr>\n",
       "  </tbody>\n",
       "</table>\n",
       "</div>"
      ],
      "text/plain": [
       "                                 Physician_Specialty    amount\n",
       "0                                                     32019.00\n",
       "1  Allopathic & Osteopathic Physicians|Internal M...   4372.78\n",
       "2  Allopathic & Osteopathic Physicians|Pediatrics...   2800.00\n",
       "3  Allopathic & Osteopathic Physicians|Psychiatry...   2066.04\n",
       "4  Allopathic & Osteopathic Physicians|Internal M...   1636.32"
      ]
     },
     "execution_count": 115,
     "metadata": {},
     "output_type": "execute_result"
    }
   ],
   "source": [
    "# convert to dataframe\n",
    "payment_per_speciality_type_df = pd.DataFrame(payment_per_speciality_type.collect(), columns=['Physician_Specialty', 'amount'])\n",
    "payment_per_speciality_type_df.head()"
   ]
  },
  {
   "cell_type": "code",
   "execution_count": 203,
   "id": "0546704d",
   "metadata": {},
   "outputs": [
    {
     "data": {
      "application/vnd.plotly.v1+json": {
       "config": {
        "plotlyServerURL": "https://plot.ly"
       },
       "data": [
        {
         "alignmentgroup": "True",
         "bingroup": "x",
         "histfunc": "sum",
         "hovertemplate": "Physician_Specialty=%{x}<br>sum of amount=%{y}<extra></extra>",
         "legendgroup": "",
         "marker": {
          "color": "#636efa"
         },
         "name": "",
         "offsetgroup": "",
         "orientation": "v",
         "showlegend": false,
         "type": "histogram",
         "x": [
          "Allopathic & Osteopathic Physicians|Internal Medicine",
          "Allopathic & Osteopathic Physicians|Pediatrics|Pediatric Hematology-Oncology",
          "Allopathic & Osteopathic Physicians|Psychiatry & Neurology|Neurology",
          "Allopathic & Osteopathic Physicians|Internal Medicine|Interventional Cardiology",
          "Allopathic & Osteopathic Physicians|Radiology|Diagnostic Radiology",
          "Dental Providers|Dentist",
          "Allopathic & Osteopathic Physicians|Orthopaedic Surgery",
          "Dental Providers|Dentist|General Practice",
          "Allopathic & Osteopathic Physicians|Internal Medicine|Hematology & Oncology",
          "Allopathic & Osteopathic Physicians|Family Medicine",
          "Allopathic & Osteopathic Physicians|Psychiatry & Neurology|Psychiatry",
          "Eye and Vision Services Providers|Optometrist",
          "Allopathic & Osteopathic Physicians|Internal Medicine|Endocrinology, Diabetes & Metabolism",
          "Allopathic & Osteopathic Physicians|Ophthalmology",
          "Allopathic & Osteopathic Physicians|Surgery|Plastic and Reconstructive Surgery",
          "Allopathic & Osteopathic Physicians|Internal Medicine|Cardiovascular Disease",
          "Allopathic & Osteopathic Physicians|Orthopaedic Surgery|Sports Medicine",
          "Allopathic & Osteopathic Physicians|Dermatology",
          "Allopathic & Osteopathic Physicians|Internal Medicine|Infectious Disease",
          "Allopathic & Osteopathic Physicians|Surgery",
          "Allopathic & Osteopathic Physicians|Internal Medicine|Pulmonary Disease",
          "Podiatric Medicine & Surgery Service Providers|Podiatrist|Foot & Ankle Surgery",
          "Allopathic & Osteopathic Physicians|Internal Medicine|Gastroenterology",
          "Allopathic & Osteopathic Physicians|Obstetrics & Gynecology",
          "Allopathic & Osteopathic Physicians|Radiology|Vascular & Interventional Radiology",
          "Allopathic & Osteopathic Physicians|Anesthesiology",
          "Allopathic & Osteopathic Physicians|Internal Medicine|Rheumatology",
          "Allopathic & Osteopathic Physicians|Urology",
          "Allopathic & Osteopathic Physicians|Internal Medicine|Nephrology",
          "Allopathic & Osteopathic Physicians|Pediatrics",
          "Allopathic & Osteopathic Physicians|Psychiatry & Neurology|Child & Adolescent Psychiatry",
          "Allopathic & Osteopathic Physicians|Anesthesiology|Pain Medicine",
          "Allopathic & Osteopathic Physicians|Internal Medicine|Clinical Cardiac Electrophysiology",
          "Allopathic & Osteopathic Physicians|Emergency Medicine",
          "Allopathic & Osteopathic Physicians|Hospitalist",
          "Allopathic & Osteopathic Physicians|Obstetrics & Gynecology|Gynecology",
          "Dental Providers|Dentist|Periodontics",
          "Allopathic & Osteopathic Physicians|Internal Medicine|Geriatric Medicine",
          "Allopathic & Osteopathic Physicians|Obstetrics & Gynecology|Reproductive Endocrinology",
          "Allopathic & Osteopathic Physicians|Physical Medicine & Rehabilitation",
          "Allopathic & Osteopathic Physicians|Obstetrics & Gynecology|Obstetrics"
         ],
         "xaxis": "x",
         "y": [
          4372.780000000001,
          2800,
          2066.04,
          1636.32,
          1100,
          893.26,
          825.1700000000001,
          591.79,
          582.5300000000001,
          571.8699999999998,
          330.97999999999996,
          329.58,
          320.15,
          292.44,
          291.67,
          210.99,
          144.43,
          139.51,
          124.41,
          122.98,
          117.97999999999999,
          117.97,
          92.66,
          86.87,
          86.72,
          80.79,
          62.410000000000004,
          56.98,
          45.09,
          43.790000000000006,
          31.96,
          26.189999999999998,
          22.17,
          21.92,
          16.97,
          16.11,
          14.52,
          14.52,
          12.56,
          11.06,
          0.47
         ],
         "yaxis": "y"
        }
       ],
       "layout": {
        "barmode": "relative",
        "legend": {
         "tracegroupgap": 0
        },
        "margin": {
         "t": 60
        },
        "template": {
         "data": {
          "bar": [
           {
            "error_x": {
             "color": "#2a3f5f"
            },
            "error_y": {
             "color": "#2a3f5f"
            },
            "marker": {
             "line": {
              "color": "#E5ECF6",
              "width": 0.5
             }
            },
            "type": "bar"
           }
          ],
          "barpolar": [
           {
            "marker": {
             "line": {
              "color": "#E5ECF6",
              "width": 0.5
             }
            },
            "type": "barpolar"
           }
          ],
          "carpet": [
           {
            "aaxis": {
             "endlinecolor": "#2a3f5f",
             "gridcolor": "white",
             "linecolor": "white",
             "minorgridcolor": "white",
             "startlinecolor": "#2a3f5f"
            },
            "baxis": {
             "endlinecolor": "#2a3f5f",
             "gridcolor": "white",
             "linecolor": "white",
             "minorgridcolor": "white",
             "startlinecolor": "#2a3f5f"
            },
            "type": "carpet"
           }
          ],
          "choropleth": [
           {
            "colorbar": {
             "outlinewidth": 0,
             "ticks": ""
            },
            "type": "choropleth"
           }
          ],
          "contour": [
           {
            "colorbar": {
             "outlinewidth": 0,
             "ticks": ""
            },
            "colorscale": [
             [
              0,
              "#0d0887"
             ],
             [
              0.1111111111111111,
              "#46039f"
             ],
             [
              0.2222222222222222,
              "#7201a8"
             ],
             [
              0.3333333333333333,
              "#9c179e"
             ],
             [
              0.4444444444444444,
              "#bd3786"
             ],
             [
              0.5555555555555556,
              "#d8576b"
             ],
             [
              0.6666666666666666,
              "#ed7953"
             ],
             [
              0.7777777777777778,
              "#fb9f3a"
             ],
             [
              0.8888888888888888,
              "#fdca26"
             ],
             [
              1,
              "#f0f921"
             ]
            ],
            "type": "contour"
           }
          ],
          "contourcarpet": [
           {
            "colorbar": {
             "outlinewidth": 0,
             "ticks": ""
            },
            "type": "contourcarpet"
           }
          ],
          "heatmap": [
           {
            "colorbar": {
             "outlinewidth": 0,
             "ticks": ""
            },
            "colorscale": [
             [
              0,
              "#0d0887"
             ],
             [
              0.1111111111111111,
              "#46039f"
             ],
             [
              0.2222222222222222,
              "#7201a8"
             ],
             [
              0.3333333333333333,
              "#9c179e"
             ],
             [
              0.4444444444444444,
              "#bd3786"
             ],
             [
              0.5555555555555556,
              "#d8576b"
             ],
             [
              0.6666666666666666,
              "#ed7953"
             ],
             [
              0.7777777777777778,
              "#fb9f3a"
             ],
             [
              0.8888888888888888,
              "#fdca26"
             ],
             [
              1,
              "#f0f921"
             ]
            ],
            "type": "heatmap"
           }
          ],
          "heatmapgl": [
           {
            "colorbar": {
             "outlinewidth": 0,
             "ticks": ""
            },
            "colorscale": [
             [
              0,
              "#0d0887"
             ],
             [
              0.1111111111111111,
              "#46039f"
             ],
             [
              0.2222222222222222,
              "#7201a8"
             ],
             [
              0.3333333333333333,
              "#9c179e"
             ],
             [
              0.4444444444444444,
              "#bd3786"
             ],
             [
              0.5555555555555556,
              "#d8576b"
             ],
             [
              0.6666666666666666,
              "#ed7953"
             ],
             [
              0.7777777777777778,
              "#fb9f3a"
             ],
             [
              0.8888888888888888,
              "#fdca26"
             ],
             [
              1,
              "#f0f921"
             ]
            ],
            "type": "heatmapgl"
           }
          ],
          "histogram": [
           {
            "marker": {
             "colorbar": {
              "outlinewidth": 0,
              "ticks": ""
             }
            },
            "type": "histogram"
           }
          ],
          "histogram2d": [
           {
            "colorbar": {
             "outlinewidth": 0,
             "ticks": ""
            },
            "colorscale": [
             [
              0,
              "#0d0887"
             ],
             [
              0.1111111111111111,
              "#46039f"
             ],
             [
              0.2222222222222222,
              "#7201a8"
             ],
             [
              0.3333333333333333,
              "#9c179e"
             ],
             [
              0.4444444444444444,
              "#bd3786"
             ],
             [
              0.5555555555555556,
              "#d8576b"
             ],
             [
              0.6666666666666666,
              "#ed7953"
             ],
             [
              0.7777777777777778,
              "#fb9f3a"
             ],
             [
              0.8888888888888888,
              "#fdca26"
             ],
             [
              1,
              "#f0f921"
             ]
            ],
            "type": "histogram2d"
           }
          ],
          "histogram2dcontour": [
           {
            "colorbar": {
             "outlinewidth": 0,
             "ticks": ""
            },
            "colorscale": [
             [
              0,
              "#0d0887"
             ],
             [
              0.1111111111111111,
              "#46039f"
             ],
             [
              0.2222222222222222,
              "#7201a8"
             ],
             [
              0.3333333333333333,
              "#9c179e"
             ],
             [
              0.4444444444444444,
              "#bd3786"
             ],
             [
              0.5555555555555556,
              "#d8576b"
             ],
             [
              0.6666666666666666,
              "#ed7953"
             ],
             [
              0.7777777777777778,
              "#fb9f3a"
             ],
             [
              0.8888888888888888,
              "#fdca26"
             ],
             [
              1,
              "#f0f921"
             ]
            ],
            "type": "histogram2dcontour"
           }
          ],
          "mesh3d": [
           {
            "colorbar": {
             "outlinewidth": 0,
             "ticks": ""
            },
            "type": "mesh3d"
           }
          ],
          "parcoords": [
           {
            "line": {
             "colorbar": {
              "outlinewidth": 0,
              "ticks": ""
             }
            },
            "type": "parcoords"
           }
          ],
          "pie": [
           {
            "automargin": true,
            "type": "pie"
           }
          ],
          "scatter": [
           {
            "marker": {
             "colorbar": {
              "outlinewidth": 0,
              "ticks": ""
             }
            },
            "type": "scatter"
           }
          ],
          "scatter3d": [
           {
            "line": {
             "colorbar": {
              "outlinewidth": 0,
              "ticks": ""
             }
            },
            "marker": {
             "colorbar": {
              "outlinewidth": 0,
              "ticks": ""
             }
            },
            "type": "scatter3d"
           }
          ],
          "scattercarpet": [
           {
            "marker": {
             "colorbar": {
              "outlinewidth": 0,
              "ticks": ""
             }
            },
            "type": "scattercarpet"
           }
          ],
          "scattergeo": [
           {
            "marker": {
             "colorbar": {
              "outlinewidth": 0,
              "ticks": ""
             }
            },
            "type": "scattergeo"
           }
          ],
          "scattergl": [
           {
            "marker": {
             "colorbar": {
              "outlinewidth": 0,
              "ticks": ""
             }
            },
            "type": "scattergl"
           }
          ],
          "scattermapbox": [
           {
            "marker": {
             "colorbar": {
              "outlinewidth": 0,
              "ticks": ""
             }
            },
            "type": "scattermapbox"
           }
          ],
          "scatterpolar": [
           {
            "marker": {
             "colorbar": {
              "outlinewidth": 0,
              "ticks": ""
             }
            },
            "type": "scatterpolar"
           }
          ],
          "scatterpolargl": [
           {
            "marker": {
             "colorbar": {
              "outlinewidth": 0,
              "ticks": ""
             }
            },
            "type": "scatterpolargl"
           }
          ],
          "scatterternary": [
           {
            "marker": {
             "colorbar": {
              "outlinewidth": 0,
              "ticks": ""
             }
            },
            "type": "scatterternary"
           }
          ],
          "surface": [
           {
            "colorbar": {
             "outlinewidth": 0,
             "ticks": ""
            },
            "colorscale": [
             [
              0,
              "#0d0887"
             ],
             [
              0.1111111111111111,
              "#46039f"
             ],
             [
              0.2222222222222222,
              "#7201a8"
             ],
             [
              0.3333333333333333,
              "#9c179e"
             ],
             [
              0.4444444444444444,
              "#bd3786"
             ],
             [
              0.5555555555555556,
              "#d8576b"
             ],
             [
              0.6666666666666666,
              "#ed7953"
             ],
             [
              0.7777777777777778,
              "#fb9f3a"
             ],
             [
              0.8888888888888888,
              "#fdca26"
             ],
             [
              1,
              "#f0f921"
             ]
            ],
            "type": "surface"
           }
          ],
          "table": [
           {
            "cells": {
             "fill": {
              "color": "#EBF0F8"
             },
             "line": {
              "color": "white"
             }
            },
            "header": {
             "fill": {
              "color": "#C8D4E3"
             },
             "line": {
              "color": "white"
             }
            },
            "type": "table"
           }
          ]
         },
         "layout": {
          "annotationdefaults": {
           "arrowcolor": "#2a3f5f",
           "arrowhead": 0,
           "arrowwidth": 1
          },
          "autotypenumbers": "strict",
          "coloraxis": {
           "colorbar": {
            "outlinewidth": 0,
            "ticks": ""
           }
          },
          "colorscale": {
           "diverging": [
            [
             0,
             "#8e0152"
            ],
            [
             0.1,
             "#c51b7d"
            ],
            [
             0.2,
             "#de77ae"
            ],
            [
             0.3,
             "#f1b6da"
            ],
            [
             0.4,
             "#fde0ef"
            ],
            [
             0.5,
             "#f7f7f7"
            ],
            [
             0.6,
             "#e6f5d0"
            ],
            [
             0.7,
             "#b8e186"
            ],
            [
             0.8,
             "#7fbc41"
            ],
            [
             0.9,
             "#4d9221"
            ],
            [
             1,
             "#276419"
            ]
           ],
           "sequential": [
            [
             0,
             "#0d0887"
            ],
            [
             0.1111111111111111,
             "#46039f"
            ],
            [
             0.2222222222222222,
             "#7201a8"
            ],
            [
             0.3333333333333333,
             "#9c179e"
            ],
            [
             0.4444444444444444,
             "#bd3786"
            ],
            [
             0.5555555555555556,
             "#d8576b"
            ],
            [
             0.6666666666666666,
             "#ed7953"
            ],
            [
             0.7777777777777778,
             "#fb9f3a"
            ],
            [
             0.8888888888888888,
             "#fdca26"
            ],
            [
             1,
             "#f0f921"
            ]
           ],
           "sequentialminus": [
            [
             0,
             "#0d0887"
            ],
            [
             0.1111111111111111,
             "#46039f"
            ],
            [
             0.2222222222222222,
             "#7201a8"
            ],
            [
             0.3333333333333333,
             "#9c179e"
            ],
            [
             0.4444444444444444,
             "#bd3786"
            ],
            [
             0.5555555555555556,
             "#d8576b"
            ],
            [
             0.6666666666666666,
             "#ed7953"
            ],
            [
             0.7777777777777778,
             "#fb9f3a"
            ],
            [
             0.8888888888888888,
             "#fdca26"
            ],
            [
             1,
             "#f0f921"
            ]
           ]
          },
          "colorway": [
           "#636efa",
           "#EF553B",
           "#00cc96",
           "#ab63fa",
           "#FFA15A",
           "#19d3f3",
           "#FF6692",
           "#B6E880",
           "#FF97FF",
           "#FECB52"
          ],
          "font": {
           "color": "#2a3f5f"
          },
          "geo": {
           "bgcolor": "white",
           "lakecolor": "white",
           "landcolor": "#E5ECF6",
           "showlakes": true,
           "showland": true,
           "subunitcolor": "white"
          },
          "hoverlabel": {
           "align": "left"
          },
          "hovermode": "closest",
          "mapbox": {
           "style": "light"
          },
          "paper_bgcolor": "white",
          "plot_bgcolor": "#E5ECF6",
          "polar": {
           "angularaxis": {
            "gridcolor": "white",
            "linecolor": "white",
            "ticks": ""
           },
           "bgcolor": "#E5ECF6",
           "radialaxis": {
            "gridcolor": "white",
            "linecolor": "white",
            "ticks": ""
           }
          },
          "scene": {
           "xaxis": {
            "backgroundcolor": "#E5ECF6",
            "gridcolor": "white",
            "gridwidth": 2,
            "linecolor": "white",
            "showbackground": true,
            "ticks": "",
            "zerolinecolor": "white"
           },
           "yaxis": {
            "backgroundcolor": "#E5ECF6",
            "gridcolor": "white",
            "gridwidth": 2,
            "linecolor": "white",
            "showbackground": true,
            "ticks": "",
            "zerolinecolor": "white"
           },
           "zaxis": {
            "backgroundcolor": "#E5ECF6",
            "gridcolor": "white",
            "gridwidth": 2,
            "linecolor": "white",
            "showbackground": true,
            "ticks": "",
            "zerolinecolor": "white"
           }
          },
          "shapedefaults": {
           "line": {
            "color": "#2a3f5f"
           }
          },
          "ternary": {
           "aaxis": {
            "gridcolor": "white",
            "linecolor": "white",
            "ticks": ""
           },
           "baxis": {
            "gridcolor": "white",
            "linecolor": "white",
            "ticks": ""
           },
           "bgcolor": "#E5ECF6",
           "caxis": {
            "gridcolor": "white",
            "linecolor": "white",
            "ticks": ""
           }
          },
          "title": {
           "x": 0.05
          },
          "xaxis": {
           "automargin": true,
           "gridcolor": "white",
           "linecolor": "white",
           "ticks": "",
           "title": {
            "standoff": 15
           },
           "zerolinecolor": "white",
           "zerolinewidth": 2
          },
          "yaxis": {
           "automargin": true,
           "gridcolor": "white",
           "linecolor": "white",
           "ticks": "",
           "title": {
            "standoff": 15
           },
           "zerolinecolor": "white",
           "zerolinewidth": 2
          }
         }
        },
        "xaxis": {
         "anchor": "y",
         "domain": [
          0,
          1
         ],
         "title": {
          "text": "Physician_Specialty"
         }
        },
        "yaxis": {
         "anchor": "x",
         "domain": [
          0,
          1
         ],
         "title": {
          "text": "sum of amount"
         }
        }
       }
      },
      "text/html": [
       "<div>                            <div id=\"2954659c-4f95-4301-8178-be69cc1ff24d\" class=\"plotly-graph-div\" style=\"height:525px; width:100%;\"></div>            <script type=\"text/javascript\">                require([\"plotly\"], function(Plotly) {                    window.PLOTLYENV=window.PLOTLYENV || {};                                    if (document.getElementById(\"2954659c-4f95-4301-8178-be69cc1ff24d\")) {                    Plotly.newPlot(                        \"2954659c-4f95-4301-8178-be69cc1ff24d\",                        [{\"alignmentgroup\": \"True\", \"bingroup\": \"x\", \"histfunc\": \"sum\", \"hovertemplate\": \"Physician_Specialty=%{x}<br>sum of amount=%{y}<extra></extra>\", \"legendgroup\": \"\", \"marker\": {\"color\": \"#636efa\"}, \"name\": \"\", \"offsetgroup\": \"\", \"orientation\": \"v\", \"showlegend\": false, \"type\": \"histogram\", \"x\": [\"Allopathic & Osteopathic Physicians|Internal Medicine\", \"Allopathic & Osteopathic Physicians|Pediatrics|Pediatric Hematology-Oncology\", \"Allopathic & Osteopathic Physicians|Psychiatry & Neurology|Neurology\", \"Allopathic & Osteopathic Physicians|Internal Medicine|Interventional Cardiology\", \"Allopathic & Osteopathic Physicians|Radiology|Diagnostic Radiology\", \"Dental Providers|Dentist\", \"Allopathic & Osteopathic Physicians|Orthopaedic Surgery\", \"Dental Providers|Dentist|General Practice\", \"Allopathic & Osteopathic Physicians|Internal Medicine|Hematology & Oncology\", \"Allopathic & Osteopathic Physicians|Family Medicine\", \"Allopathic & Osteopathic Physicians|Psychiatry & Neurology|Psychiatry\", \"Eye and Vision Services Providers|Optometrist\", \"Allopathic & Osteopathic Physicians|Internal Medicine|Endocrinology, Diabetes & Metabolism\", \"Allopathic & Osteopathic Physicians|Ophthalmology\", \"Allopathic & Osteopathic Physicians|Surgery|Plastic and Reconstructive Surgery\", \"Allopathic & Osteopathic Physicians|Internal Medicine|Cardiovascular Disease\", \"Allopathic & Osteopathic Physicians|Orthopaedic Surgery|Sports Medicine\", \"Allopathic & Osteopathic Physicians|Dermatology\", \"Allopathic & Osteopathic Physicians|Internal Medicine|Infectious Disease\", \"Allopathic & Osteopathic Physicians|Surgery\", \"Allopathic & Osteopathic Physicians|Internal Medicine|Pulmonary Disease\", \"Podiatric Medicine & Surgery Service Providers|Podiatrist|Foot & Ankle Surgery\", \"Allopathic & Osteopathic Physicians|Internal Medicine|Gastroenterology\", \"Allopathic & Osteopathic Physicians|Obstetrics & Gynecology\", \"Allopathic & Osteopathic Physicians|Radiology|Vascular & Interventional Radiology\", \"Allopathic & Osteopathic Physicians|Anesthesiology\", \"Allopathic & Osteopathic Physicians|Internal Medicine|Rheumatology\", \"Allopathic & Osteopathic Physicians|Urology\", \"Allopathic & Osteopathic Physicians|Internal Medicine|Nephrology\", \"Allopathic & Osteopathic Physicians|Pediatrics\", \"Allopathic & Osteopathic Physicians|Psychiatry & Neurology|Child & Adolescent Psychiatry\", \"Allopathic & Osteopathic Physicians|Anesthesiology|Pain Medicine\", \"Allopathic & Osteopathic Physicians|Internal Medicine|Clinical Cardiac Electrophysiology\", \"Allopathic & Osteopathic Physicians|Emergency Medicine\", \"Allopathic & Osteopathic Physicians|Hospitalist\", \"Allopathic & Osteopathic Physicians|Obstetrics & Gynecology|Gynecology\", \"Dental Providers|Dentist|Periodontics\", \"Allopathic & Osteopathic Physicians|Internal Medicine|Geriatric Medicine\", \"Allopathic & Osteopathic Physicians|Obstetrics & Gynecology|Reproductive Endocrinology\", \"Allopathic & Osteopathic Physicians|Physical Medicine & Rehabilitation\", \"Allopathic & Osteopathic Physicians|Obstetrics & Gynecology|Obstetrics\"], \"xaxis\": \"x\", \"y\": [4372.780000000001, 2800.0, 2066.04, 1636.32, 1100.0, 893.26, 825.1700000000001, 591.79, 582.5300000000001, 571.8699999999998, 330.97999999999996, 329.58, 320.15, 292.44, 291.67, 210.99, 144.43, 139.51, 124.41, 122.98, 117.97999999999999, 117.97, 92.66, 86.87, 86.72, 80.79, 62.410000000000004, 56.98, 45.09, 43.790000000000006, 31.96, 26.189999999999998, 22.17, 21.92, 16.97, 16.11, 14.52, 14.52, 12.56, 11.06, 0.47], \"yaxis\": \"y\"}],                        {\"barmode\": \"relative\", \"legend\": {\"tracegroupgap\": 0}, \"margin\": {\"t\": 60}, \"template\": {\"data\": {\"bar\": [{\"error_x\": {\"color\": \"#2a3f5f\"}, \"error_y\": {\"color\": \"#2a3f5f\"}, \"marker\": {\"line\": {\"color\": \"#E5ECF6\", \"width\": 0.5}}, \"type\": \"bar\"}], \"barpolar\": [{\"marker\": {\"line\": {\"color\": \"#E5ECF6\", \"width\": 0.5}}, \"type\": \"barpolar\"}], \"carpet\": [{\"aaxis\": {\"endlinecolor\": \"#2a3f5f\", \"gridcolor\": \"white\", \"linecolor\": \"white\", \"minorgridcolor\": \"white\", \"startlinecolor\": \"#2a3f5f\"}, \"baxis\": {\"endlinecolor\": \"#2a3f5f\", \"gridcolor\": \"white\", \"linecolor\": \"white\", \"minorgridcolor\": \"white\", \"startlinecolor\": \"#2a3f5f\"}, \"type\": \"carpet\"}], \"choropleth\": [{\"colorbar\": {\"outlinewidth\": 0, \"ticks\": \"\"}, \"type\": \"choropleth\"}], \"contour\": [{\"colorbar\": {\"outlinewidth\": 0, \"ticks\": \"\"}, \"colorscale\": [[0.0, \"#0d0887\"], [0.1111111111111111, \"#46039f\"], [0.2222222222222222, \"#7201a8\"], [0.3333333333333333, \"#9c179e\"], [0.4444444444444444, \"#bd3786\"], [0.5555555555555556, \"#d8576b\"], [0.6666666666666666, \"#ed7953\"], [0.7777777777777778, \"#fb9f3a\"], [0.8888888888888888, \"#fdca26\"], [1.0, \"#f0f921\"]], \"type\": \"contour\"}], \"contourcarpet\": [{\"colorbar\": {\"outlinewidth\": 0, \"ticks\": \"\"}, \"type\": \"contourcarpet\"}], \"heatmap\": [{\"colorbar\": {\"outlinewidth\": 0, \"ticks\": \"\"}, \"colorscale\": [[0.0, \"#0d0887\"], [0.1111111111111111, \"#46039f\"], [0.2222222222222222, \"#7201a8\"], [0.3333333333333333, \"#9c179e\"], [0.4444444444444444, \"#bd3786\"], [0.5555555555555556, \"#d8576b\"], [0.6666666666666666, \"#ed7953\"], [0.7777777777777778, \"#fb9f3a\"], [0.8888888888888888, \"#fdca26\"], [1.0, \"#f0f921\"]], \"type\": \"heatmap\"}], \"heatmapgl\": [{\"colorbar\": {\"outlinewidth\": 0, \"ticks\": \"\"}, \"colorscale\": [[0.0, \"#0d0887\"], [0.1111111111111111, \"#46039f\"], [0.2222222222222222, \"#7201a8\"], [0.3333333333333333, \"#9c179e\"], [0.4444444444444444, \"#bd3786\"], [0.5555555555555556, \"#d8576b\"], [0.6666666666666666, \"#ed7953\"], [0.7777777777777778, \"#fb9f3a\"], [0.8888888888888888, \"#fdca26\"], [1.0, \"#f0f921\"]], \"type\": \"heatmapgl\"}], \"histogram\": [{\"marker\": {\"colorbar\": {\"outlinewidth\": 0, \"ticks\": \"\"}}, \"type\": \"histogram\"}], \"histogram2d\": [{\"colorbar\": {\"outlinewidth\": 0, \"ticks\": \"\"}, \"colorscale\": [[0.0, \"#0d0887\"], [0.1111111111111111, \"#46039f\"], [0.2222222222222222, \"#7201a8\"], [0.3333333333333333, \"#9c179e\"], [0.4444444444444444, \"#bd3786\"], [0.5555555555555556, \"#d8576b\"], [0.6666666666666666, \"#ed7953\"], [0.7777777777777778, \"#fb9f3a\"], [0.8888888888888888, \"#fdca26\"], [1.0, \"#f0f921\"]], \"type\": \"histogram2d\"}], \"histogram2dcontour\": [{\"colorbar\": {\"outlinewidth\": 0, \"ticks\": \"\"}, \"colorscale\": [[0.0, \"#0d0887\"], [0.1111111111111111, \"#46039f\"], [0.2222222222222222, \"#7201a8\"], [0.3333333333333333, \"#9c179e\"], [0.4444444444444444, \"#bd3786\"], [0.5555555555555556, \"#d8576b\"], [0.6666666666666666, \"#ed7953\"], [0.7777777777777778, \"#fb9f3a\"], [0.8888888888888888, \"#fdca26\"], [1.0, \"#f0f921\"]], \"type\": \"histogram2dcontour\"}], \"mesh3d\": [{\"colorbar\": {\"outlinewidth\": 0, \"ticks\": \"\"}, \"type\": \"mesh3d\"}], \"parcoords\": [{\"line\": {\"colorbar\": {\"outlinewidth\": 0, \"ticks\": \"\"}}, \"type\": \"parcoords\"}], \"pie\": [{\"automargin\": true, \"type\": \"pie\"}], \"scatter\": [{\"marker\": {\"colorbar\": {\"outlinewidth\": 0, \"ticks\": \"\"}}, \"type\": \"scatter\"}], \"scatter3d\": [{\"line\": {\"colorbar\": {\"outlinewidth\": 0, \"ticks\": \"\"}}, \"marker\": {\"colorbar\": {\"outlinewidth\": 0, \"ticks\": \"\"}}, \"type\": \"scatter3d\"}], \"scattercarpet\": [{\"marker\": {\"colorbar\": {\"outlinewidth\": 0, \"ticks\": \"\"}}, \"type\": \"scattercarpet\"}], \"scattergeo\": [{\"marker\": {\"colorbar\": {\"outlinewidth\": 0, \"ticks\": \"\"}}, \"type\": \"scattergeo\"}], \"scattergl\": [{\"marker\": {\"colorbar\": {\"outlinewidth\": 0, \"ticks\": \"\"}}, \"type\": \"scattergl\"}], \"scattermapbox\": [{\"marker\": {\"colorbar\": {\"outlinewidth\": 0, \"ticks\": \"\"}}, \"type\": \"scattermapbox\"}], \"scatterpolar\": [{\"marker\": {\"colorbar\": {\"outlinewidth\": 0, \"ticks\": \"\"}}, \"type\": \"scatterpolar\"}], \"scatterpolargl\": [{\"marker\": {\"colorbar\": {\"outlinewidth\": 0, \"ticks\": \"\"}}, \"type\": \"scatterpolargl\"}], \"scatterternary\": [{\"marker\": {\"colorbar\": {\"outlinewidth\": 0, \"ticks\": \"\"}}, \"type\": \"scatterternary\"}], \"surface\": [{\"colorbar\": {\"outlinewidth\": 0, \"ticks\": \"\"}, \"colorscale\": [[0.0, \"#0d0887\"], [0.1111111111111111, \"#46039f\"], [0.2222222222222222, \"#7201a8\"], [0.3333333333333333, \"#9c179e\"], [0.4444444444444444, \"#bd3786\"], [0.5555555555555556, \"#d8576b\"], [0.6666666666666666, \"#ed7953\"], [0.7777777777777778, \"#fb9f3a\"], [0.8888888888888888, \"#fdca26\"], [1.0, \"#f0f921\"]], \"type\": \"surface\"}], \"table\": [{\"cells\": {\"fill\": {\"color\": \"#EBF0F8\"}, \"line\": {\"color\": \"white\"}}, \"header\": {\"fill\": {\"color\": \"#C8D4E3\"}, \"line\": {\"color\": \"white\"}}, \"type\": \"table\"}]}, \"layout\": {\"annotationdefaults\": {\"arrowcolor\": \"#2a3f5f\", \"arrowhead\": 0, \"arrowwidth\": 1}, \"autotypenumbers\": \"strict\", \"coloraxis\": {\"colorbar\": {\"outlinewidth\": 0, \"ticks\": \"\"}}, \"colorscale\": {\"diverging\": [[0, \"#8e0152\"], [0.1, \"#c51b7d\"], [0.2, \"#de77ae\"], [0.3, \"#f1b6da\"], [0.4, \"#fde0ef\"], [0.5, \"#f7f7f7\"], [0.6, \"#e6f5d0\"], [0.7, \"#b8e186\"], [0.8, \"#7fbc41\"], [0.9, \"#4d9221\"], [1, \"#276419\"]], \"sequential\": [[0.0, \"#0d0887\"], [0.1111111111111111, \"#46039f\"], [0.2222222222222222, \"#7201a8\"], [0.3333333333333333, \"#9c179e\"], [0.4444444444444444, \"#bd3786\"], [0.5555555555555556, \"#d8576b\"], [0.6666666666666666, \"#ed7953\"], [0.7777777777777778, \"#fb9f3a\"], [0.8888888888888888, \"#fdca26\"], [1.0, \"#f0f921\"]], \"sequentialminus\": [[0.0, \"#0d0887\"], [0.1111111111111111, \"#46039f\"], [0.2222222222222222, \"#7201a8\"], [0.3333333333333333, \"#9c179e\"], [0.4444444444444444, \"#bd3786\"], [0.5555555555555556, \"#d8576b\"], [0.6666666666666666, \"#ed7953\"], [0.7777777777777778, \"#fb9f3a\"], [0.8888888888888888, \"#fdca26\"], [1.0, \"#f0f921\"]]}, \"colorway\": [\"#636efa\", \"#EF553B\", \"#00cc96\", \"#ab63fa\", \"#FFA15A\", \"#19d3f3\", \"#FF6692\", \"#B6E880\", \"#FF97FF\", \"#FECB52\"], \"font\": {\"color\": \"#2a3f5f\"}, \"geo\": {\"bgcolor\": \"white\", \"lakecolor\": \"white\", \"landcolor\": \"#E5ECF6\", \"showlakes\": true, \"showland\": true, \"subunitcolor\": \"white\"}, \"hoverlabel\": {\"align\": \"left\"}, \"hovermode\": \"closest\", \"mapbox\": {\"style\": \"light\"}, \"paper_bgcolor\": \"white\", \"plot_bgcolor\": \"#E5ECF6\", \"polar\": {\"angularaxis\": {\"gridcolor\": \"white\", \"linecolor\": \"white\", \"ticks\": \"\"}, \"bgcolor\": \"#E5ECF6\", \"radialaxis\": {\"gridcolor\": \"white\", \"linecolor\": \"white\", \"ticks\": \"\"}}, \"scene\": {\"xaxis\": {\"backgroundcolor\": \"#E5ECF6\", \"gridcolor\": \"white\", \"gridwidth\": 2, \"linecolor\": \"white\", \"showbackground\": true, \"ticks\": \"\", \"zerolinecolor\": \"white\"}, \"yaxis\": {\"backgroundcolor\": \"#E5ECF6\", \"gridcolor\": \"white\", \"gridwidth\": 2, \"linecolor\": \"white\", \"showbackground\": true, \"ticks\": \"\", \"zerolinecolor\": \"white\"}, \"zaxis\": {\"backgroundcolor\": \"#E5ECF6\", \"gridcolor\": \"white\", \"gridwidth\": 2, \"linecolor\": \"white\", \"showbackground\": true, \"ticks\": \"\", \"zerolinecolor\": \"white\"}}, \"shapedefaults\": {\"line\": {\"color\": \"#2a3f5f\"}}, \"ternary\": {\"aaxis\": {\"gridcolor\": \"white\", \"linecolor\": \"white\", \"ticks\": \"\"}, \"baxis\": {\"gridcolor\": \"white\", \"linecolor\": \"white\", \"ticks\": \"\"}, \"bgcolor\": \"#E5ECF6\", \"caxis\": {\"gridcolor\": \"white\", \"linecolor\": \"white\", \"ticks\": \"\"}}, \"title\": {\"x\": 0.05}, \"xaxis\": {\"automargin\": true, \"gridcolor\": \"white\", \"linecolor\": \"white\", \"ticks\": \"\", \"title\": {\"standoff\": 15}, \"zerolinecolor\": \"white\", \"zerolinewidth\": 2}, \"yaxis\": {\"automargin\": true, \"gridcolor\": \"white\", \"linecolor\": \"white\", \"ticks\": \"\", \"title\": {\"standoff\": 15}, \"zerolinecolor\": \"white\", \"zerolinewidth\": 2}}}, \"xaxis\": {\"anchor\": \"y\", \"domain\": [0.0, 1.0], \"title\": {\"text\": \"Physician_Specialty\"}}, \"yaxis\": {\"anchor\": \"x\", \"domain\": [0.0, 1.0], \"title\": {\"text\": \"sum of amount\"}}},                        {\"responsive\": true}                    ).then(function(){\n",
       "                            \n",
       "var gd = document.getElementById('2954659c-4f95-4301-8178-be69cc1ff24d');\n",
       "var x = new MutationObserver(function (mutations, observer) {{\n",
       "        var display = window.getComputedStyle(gd).display;\n",
       "        if (!display || display === 'none') {{\n",
       "            console.log([gd, 'removed!']);\n",
       "            Plotly.purge(gd);\n",
       "            observer.disconnect();\n",
       "        }}\n",
       "}});\n",
       "\n",
       "// Listen for the removal of the full notebook cells\n",
       "var notebookContainer = gd.closest('#notebook-container');\n",
       "if (notebookContainer) {{\n",
       "    x.observe(notebookContainer, {childList: true});\n",
       "}}\n",
       "\n",
       "// Listen for the clearing of the current output cell\n",
       "var outputEl = gd.closest('.output');\n",
       "if (outputEl) {{\n",
       "    x.observe(outputEl, {childList: true});\n",
       "}}\n",
       "\n",
       "                        })                };                });            </script>        </div>"
      ]
     },
     "metadata": {},
     "output_type": "display_data"
    }
   ],
   "source": [
    "# plot\n",
    "fig4 = px.histogram(payment_per_speciality_type_df.iloc[1:,], x='Physician_Specialty', y='amount')\n",
    "fig4.show()"
   ]
  },
  {
   "cell_type": "markdown",
   "id": "c48a2df8",
   "metadata": {},
   "source": [
    "### use information of two files"
   ]
  },
  {
   "cell_type": "code",
   "execution_count": 160,
   "id": "b365415b",
   "metadata": {},
   "outputs": [
    {
     "data": {
      "text/plain": [
       "PythonRDD[368] at RDD at PythonRDD.scala:53"
      ]
     },
     "execution_count": 160,
     "metadata": {},
     "output_type": "execute_result"
    }
   ],
   "source": [
    "# read in the whole data\n",
    "rdd2 = sc.textFile(\"s3://usf-msds694-openpayments/BigSets/MUP_DPR_RY21_P04_V10_DY19_NPIBN_1.csv\")\n",
    "# sample out tiny data\n",
    "tiny_data_2 = rdd2.sample(False, 0.00002)\n",
    "tiny_data_2.cache()"
   ]
  },
  {
   "cell_type": "code",
   "execution_count": 161,
   "id": "36eca305",
   "metadata": {},
   "outputs": [],
   "source": [
    "header2 = rdd2.first().split(\",\")\n",
    "header2\n",
    "header2_dict = dict()\n",
    "for i, h in enumerate(header2):\n",
    "    header2_dict[h] = i"
   ]
  },
  {
   "cell_type": "code",
   "execution_count": 162,
   "id": "7bdee2c7",
   "metadata": {},
   "outputs": [],
   "source": [
    "# change the tiny data 2 to list rdd\n",
    "list_rdd_2 = tiny_data_2.map(lambda x: COMMA_MATCHER.split(x))"
   ]
  },
  {
   "cell_type": "code",
   "execution_count": null,
   "id": "e6a40621",
   "metadata": {},
   "outputs": [],
   "source": [
    "# I am guessing the state that received more payment will have a larger drug cost\n",
    "cost_per_state = list_rdd_2.map(lambda x: (x[4], float(x[13].replace('','0'))))\\\n",
    "                            .groupByKey().mapValues(lambda x: sum(x))\\\n",
    "                            .sortBy(lambda x : x[1], ascending = False)"
   ]
  },
  {
   "cell_type": "code",
   "execution_count": 196,
   "id": "e66d3bba",
   "metadata": {},
   "outputs": [],
   "source": [
    "payment_cost_per_state = payment_per_state.leftOuterJoin(cost_per_state).map(lambda x: [x[0], x[1][0], x[1][1]])"
   ]
  },
  {
   "cell_type": "code",
   "execution_count": 199,
   "id": "4e5580ec",
   "metadata": {},
   "outputs": [
    {
     "name": "stderr",
     "output_type": "stream",
     "text": [
      "\r",
      "[Stage 387:==========================================>          (227 + 9) / 284]\r",
      "\r",
      "                                                                                \r"
     ]
    },
    {
     "data": {
      "text/html": [
       "<div>\n",
       "<style scoped>\n",
       "    .dataframe tbody tr th:only-of-type {\n",
       "        vertical-align: middle;\n",
       "    }\n",
       "\n",
       "    .dataframe tbody tr th {\n",
       "        vertical-align: top;\n",
       "    }\n",
       "\n",
       "    .dataframe thead th {\n",
       "        text-align: right;\n",
       "    }\n",
       "</style>\n",
       "<table border=\"1\" class=\"dataframe\">\n",
       "  <thead>\n",
       "    <tr style=\"text-align: right;\">\n",
       "      <th></th>\n",
       "      <th>state</th>\n",
       "      <th>payment_amount</th>\n",
       "      <th>drug_cost</th>\n",
       "    </tr>\n",
       "  </thead>\n",
       "  <tbody>\n",
       "    <tr>\n",
       "      <th>0</th>\n",
       "      <td></td>\n",
       "      <td>2019.00</td>\n",
       "      <td>NaN</td>\n",
       "    </tr>\n",
       "    <tr>\n",
       "      <th>1</th>\n",
       "      <td>OK</td>\n",
       "      <td>5.09</td>\n",
       "      <td>1.109304e+10</td>\n",
       "    </tr>\n",
       "    <tr>\n",
       "      <th>2</th>\n",
       "      <td>AR</td>\n",
       "      <td>154.83</td>\n",
       "      <td>9.192234e+07</td>\n",
       "    </tr>\n",
       "    <tr>\n",
       "      <th>3</th>\n",
       "      <td>MS</td>\n",
       "      <td>10.86</td>\n",
       "      <td>1.934244e+08</td>\n",
       "    </tr>\n",
       "    <tr>\n",
       "      <th>4</th>\n",
       "      <td>PA</td>\n",
       "      <td>663.37</td>\n",
       "      <td>2.280197e+09</td>\n",
       "    </tr>\n",
       "  </tbody>\n",
       "</table>\n",
       "</div>"
      ],
      "text/plain": [
       "  state  payment_amount     drug_cost\n",
       "0               2019.00           NaN\n",
       "1    OK            5.09  1.109304e+10\n",
       "2    AR          154.83  9.192234e+07\n",
       "3    MS           10.86  1.934244e+08\n",
       "4    PA          663.37  2.280197e+09"
      ]
     },
     "execution_count": 199,
     "metadata": {},
     "output_type": "execute_result"
    }
   ],
   "source": [
    "# convert to dataframe\n",
    "payment_cost_per_state_df = pd.DataFrame(payment_cost_per_state.collect(), columns=['state', 'payment_amount','drug_cost'])\n",
    "payment_cost_per_state_df.head()"
   ]
  },
  {
   "cell_type": "code",
   "execution_count": 200,
   "id": "73b2be9f",
   "metadata": {},
   "outputs": [
    {
     "data": {
      "application/vnd.plotly.v1+json": {
       "config": {
        "plotlyServerURL": "https://plot.ly"
       },
       "data": [
        {
         "hovertemplate": "payment_amount=%{x}<br>drug_cost=%{y}<extra></extra>",
         "legendgroup": "",
         "marker": {
          "color": "#636efa",
          "symbol": "circle"
         },
         "mode": "markers",
         "name": "",
         "orientation": "v",
         "showlegend": false,
         "type": "scatter",
         "x": [
          2019,
          5.09,
          154.83,
          10.86,
          663.37,
          118.55999999999999,
          26.7,
          2.68,
          94.8,
          1444.72,
          76.5,
          518.14,
          17.31,
          2157.28,
          2447.95,
          66.86,
          75.96,
          1115.25,
          711.64,
          459.86000000000007,
          19.75,
          39.79,
          563.59,
          29.340000000000003,
          30076.71,
          422.47999999999996,
          2853.42,
          0.44,
          89.68,
          89.71,
          2332.55,
          141.41,
          29.6,
          27.729999999999997,
          5.75,
          903.9,
          223.39999999999998,
          686.64,
          22.36
         ],
         "xaxis": "x",
         "y": [
          null,
          11093042330.3321,
          91922340.31180002,
          193424360.3542,
          2280197041.1118,
          15178904921.179,
          73646410.56540002,
          1091320180.1318998,
          915020.1214000001,
          61623320.27159999,
          1153543450.1944,
          9113753670.5924,
          21111080.1913,
          15530233092.151602,
          1312180.2316,
          2115863620.6567996,
          65153660.89959999,
          1072914170.3023,
          44859400.6863,
          3313459451.674901,
          5060309050.0607,
          32914180.1515,
          11012550775511.934,
          8070.0605,
          183843460.38300002,
          10135072490.655602,
          2122430320.2642,
          111100.0912,
          107043020200.2334,
          41637320.3028,
          13642065631.9574,
          173762590.7044,
          52943350.344,
          1111310140.1725,
          1062838370.362,
          3333460.3832999994,
          12219120.2525,
          20706120.100700002,
          131644300.25389999
         ],
         "yaxis": "y"
        }
       ],
       "layout": {
        "legend": {
         "tracegroupgap": 0
        },
        "margin": {
         "t": 60
        },
        "template": {
         "data": {
          "bar": [
           {
            "error_x": {
             "color": "#2a3f5f"
            },
            "error_y": {
             "color": "#2a3f5f"
            },
            "marker": {
             "line": {
              "color": "#E5ECF6",
              "width": 0.5
             }
            },
            "type": "bar"
           }
          ],
          "barpolar": [
           {
            "marker": {
             "line": {
              "color": "#E5ECF6",
              "width": 0.5
             }
            },
            "type": "barpolar"
           }
          ],
          "carpet": [
           {
            "aaxis": {
             "endlinecolor": "#2a3f5f",
             "gridcolor": "white",
             "linecolor": "white",
             "minorgridcolor": "white",
             "startlinecolor": "#2a3f5f"
            },
            "baxis": {
             "endlinecolor": "#2a3f5f",
             "gridcolor": "white",
             "linecolor": "white",
             "minorgridcolor": "white",
             "startlinecolor": "#2a3f5f"
            },
            "type": "carpet"
           }
          ],
          "choropleth": [
           {
            "colorbar": {
             "outlinewidth": 0,
             "ticks": ""
            },
            "type": "choropleth"
           }
          ],
          "contour": [
           {
            "colorbar": {
             "outlinewidth": 0,
             "ticks": ""
            },
            "colorscale": [
             [
              0,
              "#0d0887"
             ],
             [
              0.1111111111111111,
              "#46039f"
             ],
             [
              0.2222222222222222,
              "#7201a8"
             ],
             [
              0.3333333333333333,
              "#9c179e"
             ],
             [
              0.4444444444444444,
              "#bd3786"
             ],
             [
              0.5555555555555556,
              "#d8576b"
             ],
             [
              0.6666666666666666,
              "#ed7953"
             ],
             [
              0.7777777777777778,
              "#fb9f3a"
             ],
             [
              0.8888888888888888,
              "#fdca26"
             ],
             [
              1,
              "#f0f921"
             ]
            ],
            "type": "contour"
           }
          ],
          "contourcarpet": [
           {
            "colorbar": {
             "outlinewidth": 0,
             "ticks": ""
            },
            "type": "contourcarpet"
           }
          ],
          "heatmap": [
           {
            "colorbar": {
             "outlinewidth": 0,
             "ticks": ""
            },
            "colorscale": [
             [
              0,
              "#0d0887"
             ],
             [
              0.1111111111111111,
              "#46039f"
             ],
             [
              0.2222222222222222,
              "#7201a8"
             ],
             [
              0.3333333333333333,
              "#9c179e"
             ],
             [
              0.4444444444444444,
              "#bd3786"
             ],
             [
              0.5555555555555556,
              "#d8576b"
             ],
             [
              0.6666666666666666,
              "#ed7953"
             ],
             [
              0.7777777777777778,
              "#fb9f3a"
             ],
             [
              0.8888888888888888,
              "#fdca26"
             ],
             [
              1,
              "#f0f921"
             ]
            ],
            "type": "heatmap"
           }
          ],
          "heatmapgl": [
           {
            "colorbar": {
             "outlinewidth": 0,
             "ticks": ""
            },
            "colorscale": [
             [
              0,
              "#0d0887"
             ],
             [
              0.1111111111111111,
              "#46039f"
             ],
             [
              0.2222222222222222,
              "#7201a8"
             ],
             [
              0.3333333333333333,
              "#9c179e"
             ],
             [
              0.4444444444444444,
              "#bd3786"
             ],
             [
              0.5555555555555556,
              "#d8576b"
             ],
             [
              0.6666666666666666,
              "#ed7953"
             ],
             [
              0.7777777777777778,
              "#fb9f3a"
             ],
             [
              0.8888888888888888,
              "#fdca26"
             ],
             [
              1,
              "#f0f921"
             ]
            ],
            "type": "heatmapgl"
           }
          ],
          "histogram": [
           {
            "marker": {
             "colorbar": {
              "outlinewidth": 0,
              "ticks": ""
             }
            },
            "type": "histogram"
           }
          ],
          "histogram2d": [
           {
            "colorbar": {
             "outlinewidth": 0,
             "ticks": ""
            },
            "colorscale": [
             [
              0,
              "#0d0887"
             ],
             [
              0.1111111111111111,
              "#46039f"
             ],
             [
              0.2222222222222222,
              "#7201a8"
             ],
             [
              0.3333333333333333,
              "#9c179e"
             ],
             [
              0.4444444444444444,
              "#bd3786"
             ],
             [
              0.5555555555555556,
              "#d8576b"
             ],
             [
              0.6666666666666666,
              "#ed7953"
             ],
             [
              0.7777777777777778,
              "#fb9f3a"
             ],
             [
              0.8888888888888888,
              "#fdca26"
             ],
             [
              1,
              "#f0f921"
             ]
            ],
            "type": "histogram2d"
           }
          ],
          "histogram2dcontour": [
           {
            "colorbar": {
             "outlinewidth": 0,
             "ticks": ""
            },
            "colorscale": [
             [
              0,
              "#0d0887"
             ],
             [
              0.1111111111111111,
              "#46039f"
             ],
             [
              0.2222222222222222,
              "#7201a8"
             ],
             [
              0.3333333333333333,
              "#9c179e"
             ],
             [
              0.4444444444444444,
              "#bd3786"
             ],
             [
              0.5555555555555556,
              "#d8576b"
             ],
             [
              0.6666666666666666,
              "#ed7953"
             ],
             [
              0.7777777777777778,
              "#fb9f3a"
             ],
             [
              0.8888888888888888,
              "#fdca26"
             ],
             [
              1,
              "#f0f921"
             ]
            ],
            "type": "histogram2dcontour"
           }
          ],
          "mesh3d": [
           {
            "colorbar": {
             "outlinewidth": 0,
             "ticks": ""
            },
            "type": "mesh3d"
           }
          ],
          "parcoords": [
           {
            "line": {
             "colorbar": {
              "outlinewidth": 0,
              "ticks": ""
             }
            },
            "type": "parcoords"
           }
          ],
          "pie": [
           {
            "automargin": true,
            "type": "pie"
           }
          ],
          "scatter": [
           {
            "marker": {
             "colorbar": {
              "outlinewidth": 0,
              "ticks": ""
             }
            },
            "type": "scatter"
           }
          ],
          "scatter3d": [
           {
            "line": {
             "colorbar": {
              "outlinewidth": 0,
              "ticks": ""
             }
            },
            "marker": {
             "colorbar": {
              "outlinewidth": 0,
              "ticks": ""
             }
            },
            "type": "scatter3d"
           }
          ],
          "scattercarpet": [
           {
            "marker": {
             "colorbar": {
              "outlinewidth": 0,
              "ticks": ""
             }
            },
            "type": "scattercarpet"
           }
          ],
          "scattergeo": [
           {
            "marker": {
             "colorbar": {
              "outlinewidth": 0,
              "ticks": ""
             }
            },
            "type": "scattergeo"
           }
          ],
          "scattergl": [
           {
            "marker": {
             "colorbar": {
              "outlinewidth": 0,
              "ticks": ""
             }
            },
            "type": "scattergl"
           }
          ],
          "scattermapbox": [
           {
            "marker": {
             "colorbar": {
              "outlinewidth": 0,
              "ticks": ""
             }
            },
            "type": "scattermapbox"
           }
          ],
          "scatterpolar": [
           {
            "marker": {
             "colorbar": {
              "outlinewidth": 0,
              "ticks": ""
             }
            },
            "type": "scatterpolar"
           }
          ],
          "scatterpolargl": [
           {
            "marker": {
             "colorbar": {
              "outlinewidth": 0,
              "ticks": ""
             }
            },
            "type": "scatterpolargl"
           }
          ],
          "scatterternary": [
           {
            "marker": {
             "colorbar": {
              "outlinewidth": 0,
              "ticks": ""
             }
            },
            "type": "scatterternary"
           }
          ],
          "surface": [
           {
            "colorbar": {
             "outlinewidth": 0,
             "ticks": ""
            },
            "colorscale": [
             [
              0,
              "#0d0887"
             ],
             [
              0.1111111111111111,
              "#46039f"
             ],
             [
              0.2222222222222222,
              "#7201a8"
             ],
             [
              0.3333333333333333,
              "#9c179e"
             ],
             [
              0.4444444444444444,
              "#bd3786"
             ],
             [
              0.5555555555555556,
              "#d8576b"
             ],
             [
              0.6666666666666666,
              "#ed7953"
             ],
             [
              0.7777777777777778,
              "#fb9f3a"
             ],
             [
              0.8888888888888888,
              "#fdca26"
             ],
             [
              1,
              "#f0f921"
             ]
            ],
            "type": "surface"
           }
          ],
          "table": [
           {
            "cells": {
             "fill": {
              "color": "#EBF0F8"
             },
             "line": {
              "color": "white"
             }
            },
            "header": {
             "fill": {
              "color": "#C8D4E3"
             },
             "line": {
              "color": "white"
             }
            },
            "type": "table"
           }
          ]
         },
         "layout": {
          "annotationdefaults": {
           "arrowcolor": "#2a3f5f",
           "arrowhead": 0,
           "arrowwidth": 1
          },
          "autotypenumbers": "strict",
          "coloraxis": {
           "colorbar": {
            "outlinewidth": 0,
            "ticks": ""
           }
          },
          "colorscale": {
           "diverging": [
            [
             0,
             "#8e0152"
            ],
            [
             0.1,
             "#c51b7d"
            ],
            [
             0.2,
             "#de77ae"
            ],
            [
             0.3,
             "#f1b6da"
            ],
            [
             0.4,
             "#fde0ef"
            ],
            [
             0.5,
             "#f7f7f7"
            ],
            [
             0.6,
             "#e6f5d0"
            ],
            [
             0.7,
             "#b8e186"
            ],
            [
             0.8,
             "#7fbc41"
            ],
            [
             0.9,
             "#4d9221"
            ],
            [
             1,
             "#276419"
            ]
           ],
           "sequential": [
            [
             0,
             "#0d0887"
            ],
            [
             0.1111111111111111,
             "#46039f"
            ],
            [
             0.2222222222222222,
             "#7201a8"
            ],
            [
             0.3333333333333333,
             "#9c179e"
            ],
            [
             0.4444444444444444,
             "#bd3786"
            ],
            [
             0.5555555555555556,
             "#d8576b"
            ],
            [
             0.6666666666666666,
             "#ed7953"
            ],
            [
             0.7777777777777778,
             "#fb9f3a"
            ],
            [
             0.8888888888888888,
             "#fdca26"
            ],
            [
             1,
             "#f0f921"
            ]
           ],
           "sequentialminus": [
            [
             0,
             "#0d0887"
            ],
            [
             0.1111111111111111,
             "#46039f"
            ],
            [
             0.2222222222222222,
             "#7201a8"
            ],
            [
             0.3333333333333333,
             "#9c179e"
            ],
            [
             0.4444444444444444,
             "#bd3786"
            ],
            [
             0.5555555555555556,
             "#d8576b"
            ],
            [
             0.6666666666666666,
             "#ed7953"
            ],
            [
             0.7777777777777778,
             "#fb9f3a"
            ],
            [
             0.8888888888888888,
             "#fdca26"
            ],
            [
             1,
             "#f0f921"
            ]
           ]
          },
          "colorway": [
           "#636efa",
           "#EF553B",
           "#00cc96",
           "#ab63fa",
           "#FFA15A",
           "#19d3f3",
           "#FF6692",
           "#B6E880",
           "#FF97FF",
           "#FECB52"
          ],
          "font": {
           "color": "#2a3f5f"
          },
          "geo": {
           "bgcolor": "white",
           "lakecolor": "white",
           "landcolor": "#E5ECF6",
           "showlakes": true,
           "showland": true,
           "subunitcolor": "white"
          },
          "hoverlabel": {
           "align": "left"
          },
          "hovermode": "closest",
          "mapbox": {
           "style": "light"
          },
          "paper_bgcolor": "white",
          "plot_bgcolor": "#E5ECF6",
          "polar": {
           "angularaxis": {
            "gridcolor": "white",
            "linecolor": "white",
            "ticks": ""
           },
           "bgcolor": "#E5ECF6",
           "radialaxis": {
            "gridcolor": "white",
            "linecolor": "white",
            "ticks": ""
           }
          },
          "scene": {
           "xaxis": {
            "backgroundcolor": "#E5ECF6",
            "gridcolor": "white",
            "gridwidth": 2,
            "linecolor": "white",
            "showbackground": true,
            "ticks": "",
            "zerolinecolor": "white"
           },
           "yaxis": {
            "backgroundcolor": "#E5ECF6",
            "gridcolor": "white",
            "gridwidth": 2,
            "linecolor": "white",
            "showbackground": true,
            "ticks": "",
            "zerolinecolor": "white"
           },
           "zaxis": {
            "backgroundcolor": "#E5ECF6",
            "gridcolor": "white",
            "gridwidth": 2,
            "linecolor": "white",
            "showbackground": true,
            "ticks": "",
            "zerolinecolor": "white"
           }
          },
          "shapedefaults": {
           "line": {
            "color": "#2a3f5f"
           }
          },
          "ternary": {
           "aaxis": {
            "gridcolor": "white",
            "linecolor": "white",
            "ticks": ""
           },
           "baxis": {
            "gridcolor": "white",
            "linecolor": "white",
            "ticks": ""
           },
           "bgcolor": "#E5ECF6",
           "caxis": {
            "gridcolor": "white",
            "linecolor": "white",
            "ticks": ""
           }
          },
          "title": {
           "x": 0.05
          },
          "xaxis": {
           "automargin": true,
           "gridcolor": "white",
           "linecolor": "white",
           "ticks": "",
           "title": {
            "standoff": 15
           },
           "zerolinecolor": "white",
           "zerolinewidth": 2
          },
          "yaxis": {
           "automargin": true,
           "gridcolor": "white",
           "linecolor": "white",
           "ticks": "",
           "title": {
            "standoff": 15
           },
           "zerolinecolor": "white",
           "zerolinewidth": 2
          }
         }
        },
        "xaxis": {
         "anchor": "y",
         "domain": [
          0,
          1
         ],
         "title": {
          "text": "payment_amount"
         }
        },
        "yaxis": {
         "anchor": "x",
         "domain": [
          0,
          1
         ],
         "title": {
          "text": "drug_cost"
         }
        }
       }
      },
      "text/html": [
       "<div>                            <div id=\"e8d351d6-1888-43f6-9606-1fa54ff3c9ef\" class=\"plotly-graph-div\" style=\"height:525px; width:100%;\"></div>            <script type=\"text/javascript\">                require([\"plotly\"], function(Plotly) {                    window.PLOTLYENV=window.PLOTLYENV || {};                                    if (document.getElementById(\"e8d351d6-1888-43f6-9606-1fa54ff3c9ef\")) {                    Plotly.newPlot(                        \"e8d351d6-1888-43f6-9606-1fa54ff3c9ef\",                        [{\"hovertemplate\": \"payment_amount=%{x}<br>drug_cost=%{y}<extra></extra>\", \"legendgroup\": \"\", \"marker\": {\"color\": \"#636efa\", \"symbol\": \"circle\"}, \"mode\": \"markers\", \"name\": \"\", \"orientation\": \"v\", \"showlegend\": false, \"type\": \"scatter\", \"x\": [2019.0, 5.09, 154.83, 10.86, 663.37, 118.55999999999999, 26.7, 2.68, 94.8, 1444.72, 76.5, 518.14, 17.31, 2157.28, 2447.95, 66.86, 75.96, 1115.25, 711.64, 459.86000000000007, 19.75, 39.79, 563.59, 29.340000000000003, 30076.71, 422.47999999999996, 2853.42, 0.44, 89.68, 89.71, 2332.55, 141.41, 29.6, 27.729999999999997, 5.75, 903.9, 223.39999999999998, 686.64, 22.36], \"xaxis\": \"x\", \"y\": [null, 11093042330.3321, 91922340.31180002, 193424360.3542, 2280197041.1118, 15178904921.179, 73646410.56540002, 1091320180.1318998, 915020.1214000001, 61623320.27159999, 1153543450.1944, 9113753670.5924, 21111080.1913, 15530233092.151602, 1312180.2316, 2115863620.6567996, 65153660.89959999, 1072914170.3023, 44859400.6863, 3313459451.674901, 5060309050.0607, 32914180.1515, 11012550775511.934, 8070.0605, 183843460.38300002, 10135072490.655602, 2122430320.2642, 111100.0912, 107043020200.2334, 41637320.3028, 13642065631.9574, 173762590.7044, 52943350.344, 1111310140.1725, 1062838370.362, 3333460.3832999994, 12219120.2525, 20706120.100700002, 131644300.25389999], \"yaxis\": \"y\"}],                        {\"legend\": {\"tracegroupgap\": 0}, \"margin\": {\"t\": 60}, \"template\": {\"data\": {\"bar\": [{\"error_x\": {\"color\": \"#2a3f5f\"}, \"error_y\": {\"color\": \"#2a3f5f\"}, \"marker\": {\"line\": {\"color\": \"#E5ECF6\", \"width\": 0.5}}, \"type\": \"bar\"}], \"barpolar\": [{\"marker\": {\"line\": {\"color\": \"#E5ECF6\", \"width\": 0.5}}, \"type\": \"barpolar\"}], \"carpet\": [{\"aaxis\": {\"endlinecolor\": \"#2a3f5f\", \"gridcolor\": \"white\", \"linecolor\": \"white\", \"minorgridcolor\": \"white\", \"startlinecolor\": \"#2a3f5f\"}, \"baxis\": {\"endlinecolor\": \"#2a3f5f\", \"gridcolor\": \"white\", \"linecolor\": \"white\", \"minorgridcolor\": \"white\", \"startlinecolor\": \"#2a3f5f\"}, \"type\": \"carpet\"}], \"choropleth\": [{\"colorbar\": {\"outlinewidth\": 0, \"ticks\": \"\"}, \"type\": \"choropleth\"}], \"contour\": [{\"colorbar\": {\"outlinewidth\": 0, \"ticks\": \"\"}, \"colorscale\": [[0.0, \"#0d0887\"], [0.1111111111111111, \"#46039f\"], [0.2222222222222222, \"#7201a8\"], [0.3333333333333333, \"#9c179e\"], [0.4444444444444444, \"#bd3786\"], [0.5555555555555556, \"#d8576b\"], [0.6666666666666666, \"#ed7953\"], [0.7777777777777778, \"#fb9f3a\"], [0.8888888888888888, \"#fdca26\"], [1.0, \"#f0f921\"]], \"type\": \"contour\"}], \"contourcarpet\": [{\"colorbar\": {\"outlinewidth\": 0, \"ticks\": \"\"}, \"type\": \"contourcarpet\"}], \"heatmap\": [{\"colorbar\": {\"outlinewidth\": 0, \"ticks\": \"\"}, \"colorscale\": [[0.0, \"#0d0887\"], [0.1111111111111111, \"#46039f\"], [0.2222222222222222, \"#7201a8\"], [0.3333333333333333, \"#9c179e\"], [0.4444444444444444, \"#bd3786\"], [0.5555555555555556, \"#d8576b\"], [0.6666666666666666, \"#ed7953\"], [0.7777777777777778, \"#fb9f3a\"], [0.8888888888888888, \"#fdca26\"], [1.0, \"#f0f921\"]], \"type\": \"heatmap\"}], \"heatmapgl\": [{\"colorbar\": {\"outlinewidth\": 0, \"ticks\": \"\"}, \"colorscale\": [[0.0, \"#0d0887\"], [0.1111111111111111, \"#46039f\"], [0.2222222222222222, \"#7201a8\"], [0.3333333333333333, \"#9c179e\"], [0.4444444444444444, \"#bd3786\"], [0.5555555555555556, \"#d8576b\"], [0.6666666666666666, \"#ed7953\"], [0.7777777777777778, \"#fb9f3a\"], [0.8888888888888888, \"#fdca26\"], [1.0, \"#f0f921\"]], \"type\": \"heatmapgl\"}], \"histogram\": [{\"marker\": {\"colorbar\": {\"outlinewidth\": 0, \"ticks\": \"\"}}, \"type\": \"histogram\"}], \"histogram2d\": [{\"colorbar\": {\"outlinewidth\": 0, \"ticks\": \"\"}, \"colorscale\": [[0.0, \"#0d0887\"], [0.1111111111111111, \"#46039f\"], [0.2222222222222222, \"#7201a8\"], [0.3333333333333333, \"#9c179e\"], [0.4444444444444444, \"#bd3786\"], [0.5555555555555556, \"#d8576b\"], [0.6666666666666666, \"#ed7953\"], [0.7777777777777778, \"#fb9f3a\"], [0.8888888888888888, \"#fdca26\"], [1.0, \"#f0f921\"]], \"type\": \"histogram2d\"}], \"histogram2dcontour\": [{\"colorbar\": {\"outlinewidth\": 0, \"ticks\": \"\"}, \"colorscale\": [[0.0, \"#0d0887\"], [0.1111111111111111, \"#46039f\"], [0.2222222222222222, \"#7201a8\"], [0.3333333333333333, \"#9c179e\"], [0.4444444444444444, \"#bd3786\"], [0.5555555555555556, \"#d8576b\"], [0.6666666666666666, \"#ed7953\"], [0.7777777777777778, \"#fb9f3a\"], [0.8888888888888888, \"#fdca26\"], [1.0, \"#f0f921\"]], \"type\": \"histogram2dcontour\"}], \"mesh3d\": [{\"colorbar\": {\"outlinewidth\": 0, \"ticks\": \"\"}, \"type\": \"mesh3d\"}], \"parcoords\": [{\"line\": {\"colorbar\": {\"outlinewidth\": 0, \"ticks\": \"\"}}, \"type\": \"parcoords\"}], \"pie\": [{\"automargin\": true, \"type\": \"pie\"}], \"scatter\": [{\"marker\": {\"colorbar\": {\"outlinewidth\": 0, \"ticks\": \"\"}}, \"type\": \"scatter\"}], \"scatter3d\": [{\"line\": {\"colorbar\": {\"outlinewidth\": 0, \"ticks\": \"\"}}, \"marker\": {\"colorbar\": {\"outlinewidth\": 0, \"ticks\": \"\"}}, \"type\": \"scatter3d\"}], \"scattercarpet\": [{\"marker\": {\"colorbar\": {\"outlinewidth\": 0, \"ticks\": \"\"}}, \"type\": \"scattercarpet\"}], \"scattergeo\": [{\"marker\": {\"colorbar\": {\"outlinewidth\": 0, \"ticks\": \"\"}}, \"type\": \"scattergeo\"}], \"scattergl\": [{\"marker\": {\"colorbar\": {\"outlinewidth\": 0, \"ticks\": \"\"}}, \"type\": \"scattergl\"}], \"scattermapbox\": [{\"marker\": {\"colorbar\": {\"outlinewidth\": 0, \"ticks\": \"\"}}, \"type\": \"scattermapbox\"}], \"scatterpolar\": [{\"marker\": {\"colorbar\": {\"outlinewidth\": 0, \"ticks\": \"\"}}, \"type\": \"scatterpolar\"}], \"scatterpolargl\": [{\"marker\": {\"colorbar\": {\"outlinewidth\": 0, \"ticks\": \"\"}}, \"type\": \"scatterpolargl\"}], \"scatterternary\": [{\"marker\": {\"colorbar\": {\"outlinewidth\": 0, \"ticks\": \"\"}}, \"type\": \"scatterternary\"}], \"surface\": [{\"colorbar\": {\"outlinewidth\": 0, \"ticks\": \"\"}, \"colorscale\": [[0.0, \"#0d0887\"], [0.1111111111111111, \"#46039f\"], [0.2222222222222222, \"#7201a8\"], [0.3333333333333333, \"#9c179e\"], [0.4444444444444444, \"#bd3786\"], [0.5555555555555556, \"#d8576b\"], [0.6666666666666666, \"#ed7953\"], [0.7777777777777778, \"#fb9f3a\"], [0.8888888888888888, \"#fdca26\"], [1.0, \"#f0f921\"]], \"type\": \"surface\"}], \"table\": [{\"cells\": {\"fill\": {\"color\": \"#EBF0F8\"}, \"line\": {\"color\": \"white\"}}, \"header\": {\"fill\": {\"color\": \"#C8D4E3\"}, \"line\": {\"color\": \"white\"}}, \"type\": \"table\"}]}, \"layout\": {\"annotationdefaults\": {\"arrowcolor\": \"#2a3f5f\", \"arrowhead\": 0, \"arrowwidth\": 1}, \"autotypenumbers\": \"strict\", \"coloraxis\": {\"colorbar\": {\"outlinewidth\": 0, \"ticks\": \"\"}}, \"colorscale\": {\"diverging\": [[0, \"#8e0152\"], [0.1, \"#c51b7d\"], [0.2, \"#de77ae\"], [0.3, \"#f1b6da\"], [0.4, \"#fde0ef\"], [0.5, \"#f7f7f7\"], [0.6, \"#e6f5d0\"], [0.7, \"#b8e186\"], [0.8, \"#7fbc41\"], [0.9, \"#4d9221\"], [1, \"#276419\"]], \"sequential\": [[0.0, \"#0d0887\"], [0.1111111111111111, \"#46039f\"], [0.2222222222222222, \"#7201a8\"], [0.3333333333333333, \"#9c179e\"], [0.4444444444444444, \"#bd3786\"], [0.5555555555555556, \"#d8576b\"], [0.6666666666666666, \"#ed7953\"], [0.7777777777777778, \"#fb9f3a\"], [0.8888888888888888, \"#fdca26\"], [1.0, \"#f0f921\"]], \"sequentialminus\": [[0.0, \"#0d0887\"], [0.1111111111111111, \"#46039f\"], [0.2222222222222222, \"#7201a8\"], [0.3333333333333333, \"#9c179e\"], [0.4444444444444444, \"#bd3786\"], [0.5555555555555556, \"#d8576b\"], [0.6666666666666666, \"#ed7953\"], [0.7777777777777778, \"#fb9f3a\"], [0.8888888888888888, \"#fdca26\"], [1.0, \"#f0f921\"]]}, \"colorway\": [\"#636efa\", \"#EF553B\", \"#00cc96\", \"#ab63fa\", \"#FFA15A\", \"#19d3f3\", \"#FF6692\", \"#B6E880\", \"#FF97FF\", \"#FECB52\"], \"font\": {\"color\": \"#2a3f5f\"}, \"geo\": {\"bgcolor\": \"white\", \"lakecolor\": \"white\", \"landcolor\": \"#E5ECF6\", \"showlakes\": true, \"showland\": true, \"subunitcolor\": \"white\"}, \"hoverlabel\": {\"align\": \"left\"}, \"hovermode\": \"closest\", \"mapbox\": {\"style\": \"light\"}, \"paper_bgcolor\": \"white\", \"plot_bgcolor\": \"#E5ECF6\", \"polar\": {\"angularaxis\": {\"gridcolor\": \"white\", \"linecolor\": \"white\", \"ticks\": \"\"}, \"bgcolor\": \"#E5ECF6\", \"radialaxis\": {\"gridcolor\": \"white\", \"linecolor\": \"white\", \"ticks\": \"\"}}, \"scene\": {\"xaxis\": {\"backgroundcolor\": \"#E5ECF6\", \"gridcolor\": \"white\", \"gridwidth\": 2, \"linecolor\": \"white\", \"showbackground\": true, \"ticks\": \"\", \"zerolinecolor\": \"white\"}, \"yaxis\": {\"backgroundcolor\": \"#E5ECF6\", \"gridcolor\": \"white\", \"gridwidth\": 2, \"linecolor\": \"white\", \"showbackground\": true, \"ticks\": \"\", \"zerolinecolor\": \"white\"}, \"zaxis\": {\"backgroundcolor\": \"#E5ECF6\", \"gridcolor\": \"white\", \"gridwidth\": 2, \"linecolor\": \"white\", \"showbackground\": true, \"ticks\": \"\", \"zerolinecolor\": \"white\"}}, \"shapedefaults\": {\"line\": {\"color\": \"#2a3f5f\"}}, \"ternary\": {\"aaxis\": {\"gridcolor\": \"white\", \"linecolor\": \"white\", \"ticks\": \"\"}, \"baxis\": {\"gridcolor\": \"white\", \"linecolor\": \"white\", \"ticks\": \"\"}, \"bgcolor\": \"#E5ECF6\", \"caxis\": {\"gridcolor\": \"white\", \"linecolor\": \"white\", \"ticks\": \"\"}}, \"title\": {\"x\": 0.05}, \"xaxis\": {\"automargin\": true, \"gridcolor\": \"white\", \"linecolor\": \"white\", \"ticks\": \"\", \"title\": {\"standoff\": 15}, \"zerolinecolor\": \"white\", \"zerolinewidth\": 2}, \"yaxis\": {\"automargin\": true, \"gridcolor\": \"white\", \"linecolor\": \"white\", \"ticks\": \"\", \"title\": {\"standoff\": 15}, \"zerolinecolor\": \"white\", \"zerolinewidth\": 2}}}, \"xaxis\": {\"anchor\": \"y\", \"domain\": [0.0, 1.0], \"title\": {\"text\": \"payment_amount\"}}, \"yaxis\": {\"anchor\": \"x\", \"domain\": [0.0, 1.0], \"title\": {\"text\": \"drug_cost\"}}},                        {\"responsive\": true}                    ).then(function(){\n",
       "                            \n",
       "var gd = document.getElementById('e8d351d6-1888-43f6-9606-1fa54ff3c9ef');\n",
       "var x = new MutationObserver(function (mutations, observer) {{\n",
       "        var display = window.getComputedStyle(gd).display;\n",
       "        if (!display || display === 'none') {{\n",
       "            console.log([gd, 'removed!']);\n",
       "            Plotly.purge(gd);\n",
       "            observer.disconnect();\n",
       "        }}\n",
       "}});\n",
       "\n",
       "// Listen for the removal of the full notebook cells\n",
       "var notebookContainer = gd.closest('#notebook-container');\n",
       "if (notebookContainer) {{\n",
       "    x.observe(notebookContainer, {childList: true});\n",
       "}}\n",
       "\n",
       "// Listen for the clearing of the current output cell\n",
       "var outputEl = gd.closest('.output');\n",
       "if (outputEl) {{\n",
       "    x.observe(outputEl, {childList: true});\n",
       "}}\n",
       "\n",
       "                        })                };                });            </script>        </div>"
      ]
     },
     "metadata": {},
     "output_type": "display_data"
    }
   ],
   "source": [
    "# plot\n",
    "fig5 = px.scatter(payment_cost_per_state_df, x=\"payment_amount\", y=\"drug_cost\")\n",
    "fig5.show()"
   ]
  },
  {
   "cell_type": "markdown",
   "id": "61e81286",
   "metadata": {},
   "source": [
    "# make html file with all plots"
   ]
  },
  {
   "cell_type": "code",
   "execution_count": 205,
   "id": "cc18e2ad",
   "metadata": {},
   "outputs": [],
   "source": [
    "with open('graphs.html', 'w') as f:\n",
    "    f.write(fig1.to_html(full_html=False, include_plotlyjs='cdn'))\n",
    "    f.write(fig2.to_html(full_html=False, include_plotlyjs='cdn'))\n",
    "    f.write(fig3.to_html(full_html=False, include_plotlyjs='cdn'))\n",
    "    f.write(fig4.to_html(full_html=False, include_plotlyjs='cdn'))\n",
    "    f.write(fig5.to_html(full_html=False, include_plotlyjs='cdn'))"
   ]
  },
  {
   "cell_type": "code",
   "execution_count": null,
   "id": "7565346a",
   "metadata": {},
   "outputs": [],
   "source": []
  },
  {
   "cell_type": "code",
   "execution_count": 38,
   "id": "4c247270",
   "metadata": {},
   "outputs": [],
   "source": [
    "# stop instance\n",
    "sc.stop()"
   ]
  },
  {
   "cell_type": "code",
   "execution_count": null,
   "id": "c100ec13",
   "metadata": {},
   "outputs": [],
   "source": []
  }
 ],
 "metadata": {
  "kernelspec": {
   "display_name": "Python 3 (ipykernel)",
   "language": "python",
   "name": "python3"
  },
  "language_info": {
   "codemirror_mode": {
    "name": "ipython",
    "version": 3
   },
   "file_extension": ".py",
   "mimetype": "text/x-python",
   "name": "python",
   "nbconvert_exporter": "python",
   "pygments_lexer": "ipython3",
   "version": "3.9.7"
  }
 },
 "nbformat": 4,
 "nbformat_minor": 5
}
